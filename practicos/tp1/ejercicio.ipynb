{
 "cells": [
  {
   "cell_type": "markdown",
   "metadata": {},
   "source": [
    "# Trabajo práctico 1\n",
    "\n"
   ]
  },
  {
   "cell_type": "markdown",
   "metadata": {},
   "source": [
    "## Ejercicio 1 \n",
    "\n",
    "Escribe una función en Python que procese una lista de cadenas de texto y realice las siguientes acciones:\n",
    "\n",
    "1. La función debe tomar una lista de frases y convertir cada frase en una lista de palabras.\n",
    "1.  Luego, debe crear una nueva lista que contenga la cantidad de palabras en cada frase.\n",
    "1. Finalmente, la función debe imprimir cada frase original junto con la cantidad de palabras que contiene.\n",
    "Ejemplo de uso:\n",
    "```python\n",
    "    frases = [\n",
    "        \"Python es un lenguaje de programación\",\n",
    "        \"Me gusta resolver problemas con código\",\n",
    "        \"Las listas y los bucles son muy útiles\"\n",
    "    ]\n",
    "\n",
    "    procesar_frases(frases)\n",
    "```\n",
    "Requisitos:\n",
    "La función debe utilizar un bucle for para iterar sobre la lista de frases y contar las palabras en cada una.\n",
    "Debe crear y devolver una nueva lista con los conteos de palabras, y luego imprimir el resultado de forma clara."
   ]
  },
  {
   "cell_type": "code",
   "execution_count": 7,
   "metadata": {},
   "outputs": [
    {
     "name": "stdout",
     "output_type": "stream",
     "text": [
      "Frase: 'Hola mi nombre es Mariano' contiene 5 palabras.\n",
      "Frase: 'Me gusta resolver problemas en Python' contiene 6 palabras.\n",
      "Frase: 'Las listas y los bucles son muy utiles' contiene 8 palabras.\n"
     ]
    },
    {
     "data": {
      "text/plain": [
       "[5, 6, 8]"
      ]
     },
     "execution_count": 7,
     "metadata": {},
     "output_type": "execute_result"
    }
   ],
   "source": [
    "def procesar_frases(frases):\n",
    "    conteo_palabras = []\n",
    "    for frase in frases:\n",
    "        palabras = frase.split()\n",
    "        cantidad_palabras = len(palabras)\n",
    "        conteo_palabras.append(cantidad_palabras)\n",
    "        print(f\"Frase: '{frase}' contiene {cantidad_palabras} palabras.\")\n",
    "    return conteo_palabras\n",
    "\n",
    "frases = [\n",
    "    \"Hola mi nombre es Mariano\",\n",
    "    \"Me gusta resolver problemas en Python\",\n",
    "    \"Las listas y los bucles son muy utiles\"\n",
    "]\n",
    "\n",
    "procesar_frases(frases)\n"
   ]
  },
  {
   "cell_type": "markdown",
   "metadata": {},
   "source": [
    "## Ejercicio 2\n",
    "\n",
    "Escribe una función en Python que encuentre los valores de `a`, `b`, y `c` para que la función cuadrática `f(x) = a x^2 + b x + c` pase exactamente por los siguientes puntos:\n",
    "\n",
    "| x  | y  |\n",
    "|---:|---:|\n",
    "|  0 |  0 |\n",
    "|  1 |  8 |\n",
    "|  2 | 12 |\n",
    "|  3 | 12 |\n",
    "|  5 |  0 |\n",
    "\n",
    "### Requisitos:\n",
    "- La función debe explorar posibles valores de `a`, `b`, y `c` utilizando un método de prueba y error.\n",
    "- Debe devolver los valores que hagan que la diferencia entre la función `f(x)` y los valores medidos `y` sea exactamente cero para cada punto.\n",
    "\n",
    "> **Pista**: Los valores de `a`, `b`, y `c` son números pequeños."
   ]
  },
  {
   "cell_type": "code",
   "execution_count": 8,
   "metadata": {},
   "outputs": [
    {
     "name": "stdout",
     "output_type": "stream",
     "text": [
      "Los valores de a, b y c que satisfacen la condición son: (-2, 10, 0)\n"
     ]
    }
   ],
   "source": [
    "\n",
    "def f(x, a, b, c):\n",
    "    return a * x**2 + b * x + c\n",
    "\n",
    "\n",
    "def encontrar_valores():\n",
    "  \n",
    "    puntos = [(0, 0), (1, 8), (2, 12), (3, 12), (5, 0)]\n",
    "    \n",
    "\n",
    "    for a in range(-10, 11):  \n",
    "        for b in range(-10, 11): \n",
    "            for c in range(-10, 11): \n",
    "                \n",
    "                cumple_condicion = True\n",
    "                for x, y in puntos:\n",
    "                    if f(x, a, b, c) != y:\n",
    "                        cumple_condicion = False\n",
    "                        break\n",
    "                \n",
    "                \n",
    "                if cumple_condicion:\n",
    "                    return a, b, c\n",
    "\n",
    "\n",
    "valores_a_b_c = encontrar_valores()\n",
    "print(f\"Los valores de a, b y c que satisfacen la condición son: {valores_a_b_c}\")\n"
   ]
  }
 ],
 "metadata": {
  "kernelspec": {
   "display_name": "Python 3",
   "language": "python",
   "name": "python3"
  },
  "language_info": {
   "name": "python",
   "version": "3.12.5"
  }
 },
 "nbformat": 4,
 "nbformat_minor": 2
}
