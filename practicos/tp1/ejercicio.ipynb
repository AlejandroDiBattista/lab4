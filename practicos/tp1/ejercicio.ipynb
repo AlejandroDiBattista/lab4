{
 "cells": [
  {
   "cell_type": "markdown",
   "metadata": {},
   "source": [
    "# Trabajo práctico 1\n",
    "\n"
   ]
  },
  {
   "cell_type": "markdown",
   "metadata": {},
   "source": [
    "## Ejercicio 1 \n",
    "\n",
    "Escribe una función en Python que procese una lista de cadenas de texto y realice las siguientes acciones:\n",
    "\n",
    "1. La función debe tomar una lista de frases y convertir cada frase en una lista de palabras.\n",
    "1.  Luego, debe crear una nueva lista que contenga la cantidad de palabras en cada frase.\n",
    "1. Finalmente, la función debe imprimir cada frase original junto con la cantidad de palabras que contiene.\n",
    "Ejemplo de uso:\n",
    "```python\n",
    "    frases = [\n",
    "        \"Python es un lenguaje de programación\",\n",
    "        \"Me gusta resolver problemas con código\",\n",
    "        \"Las listas y los bucles son muy útiles\"\n",
    "    ]\n",
    "\n",
    "    procesar_frases(frases)\n",
    "```\n",
    "Requisitos:\n",
    "La función debe utilizar un bucle for para iterar sobre la lista de frases y contar las palabras en cada una.\n",
    "Debe crear y devolver una nueva lista con los conteos de palabras, y luego imprimir el resultado de forma clara."
   ]
  },
  {
   "cell_type": "code",
   "execution_count": 2,
   "metadata": {},
   "outputs": [
    {
     "name": "stdout",
     "output_type": "stream",
     "text": [
      "Frase: \"Python es un lenguaje de programación\", cantidad de palabras:6 que contiene la frase\n",
      "Frase: \"Me gusta resolver problemas con código\", cantidad de palabras:6 que contiene la frase\n",
      "Frase: \"Las listas y los bucles son muy útiles\", cantidad de palabras:8 que contiene la frase\n"
     ]
    }
   ],
   "source": [
    "def procesar_frases(lista_frases):\n",
    "    cantd_palabras = 0\n",
    "    for frase in frases:\n",
    "        palabras= frase.split()\n",
    "        cantd_palabras = len(palabras)\n",
    "        print(f'Frase: \"{frase}\", cantidad de palabras:{cantd_palabras} que contiene la frase')\n",
    "\n",
    "frases= [\"Python es un lenguaje de programación\",\n",
    "         \"Me gusta resolver problemas con código\",\n",
    "         \"Las listas y los bucles son muy útiles\"\n",
    "         ]\n",
    "procesar_frases(frases)"
   ]
  },
  {
   "cell_type": "markdown",
   "metadata": {},
   "source": [
    "## Ejercicio 2\n",
    "\n",
    "Escribe una función en Python que encuentre los valores de `a`, `b`, y `c` para que la función cuadrática `f(x) = a x^2 + b x + c` pase exactamente por los siguientes puntos:\n",
    "\n",
    "| x  | y  |\n",
    "|---:|---:|\n",
    "|  0 |  0 |\n",
    "|  1 |  8 |\n",
    "|  2 | 12 |\n",
    "|  3 | 12 |\n",
    "|  5 |  0 |\n",
    "\n",
    "### Requisitos:\n",
    "- La función debe explorar posibles valores de `a`, `b`, y `c` utilizando un método de prueba y error.\n",
    "- Debe devolver los valores que hagan que la diferencia entre la función `f(x)` y los valores medidos `y` sea exactamente cero para cada punto.\n",
    "\n",
    "> **Pista**: Los valores de `a`, `b`, y `c` son números pequeños."
   ]
  },
  {
   "cell_type": "code",
   "execution_count": 3,
   "metadata": {},
   "outputs": [
    {
     "name": "stdout",
     "output_type": "stream",
     "text": [
      "No se encontraron valores adecuados para a, b, y c.\n"
     ]
    }
   ],
   "source": [
    "import numpy as np\n",
    "\n",
    "def encontrar_parametros(X, Y):\n",
    "    posibles_valores = np.arange(-5, 5, 0.1)  \n",
    "\n",
    "    for a in posibles_valores:\n",
    "        for b in posibles_valores:\n",
    "            for c in posibles_valores:\n",
    "                diferencias = [a*x**2 + b*x + c - y for x, y in zip(X, Y)]\n",
    "                \n",
    "                if all(abs(dif) < 1e-6 for dif in diferencias):\n",
    "                    return a, b, c\n",
    "    return None  \n",
    "X = [0, 1, 2, 3, 5]\n",
    "Y = [0, 8, 12, 12, 0]\n",
    "resultados = encontrar_parametros(X, Y)\n",
    "\n",
    "if resultados:\n",
    "    a, b, c = resultados\n",
    "    print(f\"Los valores que hacen que f(x) pase exactamente por los puntos son: a = {a}, b = {b}, c = {c}\")\n",
    "else:\n",
    "    print(\"No se encontraron valores adecuados para a, b, y c.\")\n"
   ]
  }
 ],
 "metadata": {
  "kernelspec": {
   "display_name": "Python 3",
   "language": "python",
   "name": "python3"
  },
  "language_info": {
   "codemirror_mode": {
    "name": "ipython",
    "version": 3
   },
   "file_extension": ".py",
   "mimetype": "text/x-python",
   "name": "python",
   "nbconvert_exporter": "python",
   "pygments_lexer": "ipython3",
   "version": "3.11.9"
  }
 },
 "nbformat": 4,
 "nbformat_minor": 2
}
