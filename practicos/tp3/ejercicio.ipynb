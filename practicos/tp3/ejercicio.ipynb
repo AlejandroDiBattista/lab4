{
 "cells": [
  {
   "cell_type": "markdown",
   "metadata": {},
   "source": [
    "#TP3"
   ]
  },
  {
   "cell_type": "markdown",
   "metadata": {},
   "source": [
    "## Ejercicio 1: Cargar Datos de ventas.\n",
    "\n",
    "El archivo datos.dat contiene el registro de las ventas realizadas.\n",
    "\n",
    "Tiene un formato de ancho fijo:\n",
    "- fecha:    10 lugares\n",
    "- producto: 30 lugares\n",
    "- precio:   10 lugares\n",
    "- cantidad:  5 lugares\n",
    "\n",
    "hacer una funcion que carge los en una lista de diccionarios. \n",
    "\n",
    "nota: con \n",
    "```python\n",
    "lineas = open(\"datos.dat\", \"r\").readlines() \n",
    "```\n",
    "puede obtener la lista de string de todos los datos "
   ]
  },
  {
   "cell_type": "code",
   "execution_count": null,
   "metadata": {},
   "outputs": [],
   "source": [
def cargar_ventas():
    lineas = open("datos.dat", "r").readlines()
    ventas = []

    for linea in lineas:
        venta = {
            "fecha": linea[0:10].strip(),
            "producto": linea[10:40].strip(),
            "precio": float(linea[40:50].strip()),
            "cantidad": int(linea[50:55].strip())
        }
        ventas.append(venta)

    return ventas

lista_ventas = cargar_ventas()
print(lista_ventas)
    "def cargar_datos():\n",
    "    pass # Implementar la función cargar_datos\n",
    "\n",
    "datos = cargar_datos()"
   ]
  },
  {
   "cell_type": "markdown",
   "metadata": {},
   "source": [
    "## Ejercicio 2: Calcular el total de ventas.\n",
    "\n",
    "Hacer una funcion que sume los importes vendidos (precio * cantidad) y las cantidades"
   ]
  },
  {
   "cell_type": "code",
   "execution_count": null,
   "metadata": {},
   "outputs": [],
   "source": [
f calcular_totales(ventas):
    total_importe = 0
    total_cant = 0

    for venta in ventas:
        total_importe += venta["precio"] * venta["cantidad"]
        total_cant += venta["cantidad"]

    return total_importe, total_cant


ventas = cargar_ventas() 
total_importe, total_cant = calcular_totales(ventas)
print(f"Total Importe: {total_importe}")
print(f"Total Cantidad: {total_cant}")
    "def calcular_totales(datos):\n",
    "    pass # implementar\n",
    "\n",
    "importe, cantidad = calcular_totales(datos)\n",
    "\n",
    "print(f\"Las ventas fueron de ${importe:2.f} en {cantidad} unidades\")"
   ]
  },
  {
   "cell_type": "markdown",
   "metadata": {},
   "source": [
    "## Ejercicio 3: Listar las unidades vendidas.\n",
    "\n",
    "Listar cuantas unidades se vendieron en total para cada producto"
   ]
  },
  {
   "cell_type": "code",
   "execution_count": null,
   "metadata": {},
   "outputs": [],
   "source": [
def listar_unid(ventas):
    prod_tot = {}

    for venta in ventas:
        prod = venta["producto"]
        cant = venta["cantidad"]
        
        if prod in prod_tot:
            prod_tot[prod] += cant
        else:
            prod_tot[prod] = cant

    return prod_tot

ventas = cargar_ventas()
unid_vend = listar_unid(ventas)

for prod, cant in unid_vend.items():
    print(f"{prod}: {cant} unidades vendidas")

    "def unidades_vendidas(datos):\n",
    "    pass\n",
    "\n",
    "def listar_ventas(datos):\n",
    "    pass\n",
    "\n",
    "ventas = unidades_vendidas(datos)\n",
    "listar_ventas(ventas)\n"
   ]
  },
  {
   "cell_type": "markdown",
   "metadata": {},
   "source": [
    "##  Ejercicio 4: Listar el precio promedio por producto.\n",
    "\n",
    "Hacer un listado del precio promedio por productos."
   ]
  },
  {
   "cell_type": "code",
   "execution_count": null,
   "metadata": {},
   "outputs": [],
   "source": [
def prec_prom(ventas):
    sum_prec = {}
    cont_prod = {}

    for venta in ventas:
        prod = venta["producto"]
        prec = venta["precio"]

        if prod in sum_prec:
            sum_prec[prod] += prec
            cont_prod[prod] += 1
        else:
            sum_prec[prod] = prec
            cont_prod[prod] = 1

    prom_prec = {prod: sum_prec[prod] / cont_prod[prod] for prod in sum_prec}
    return prom_prec

ventas = cargar_ventas()  
prom_prec = prec_prom(ventas)

for prod, prec in prom_prec.items():
    print(f"{prod}: precio promedio {prec:.2f}")
    "def precio_promedio(datos):\n",
    "    pass # Implementar\n",
    "\n",
    "def listar_precios(datos):\n",
    "    pass # Implement\n",
    "\n",
    "precios = precio_promedio(datos)\n",
    "listar_precios(precios)"
   ]
  },
  {
   "cell_type": "markdown",
   "metadata": {},
   "source": [
    "### Ejercicio 5: Ranking de productos\n",
    "\n",
    "Realizar un listado de los 3 productos mas vendidos ordenados la cantidad de unidades vendidas (ordenadas de mayor a menor)\n"
   ]
  },
  {
   "cell_type": "code",
   "execution_count": null,
   "metadata": {},
   "outputs": [],
   "source": [
def rank_prod(ventas):
    prod_tot = {}

    for venta in ventas:
        prod = venta["producto"]
        cant = venta["cantidad"]

        if prod in prod_tot:
            prod_tot[prod] += cant
        else:
            prod_tot[prod] = cant

    top_3 = sorted(prod_tot.keys(), reverse=True)[:3]
    return top_3

ventas = cargar_ventas() 
ranking = rank_prod(ventas)

print("Top 3 productos más vendidos:")
for prod in ranking:
    print(prod)
    "def ranking_productos(datos, top=3):\n",
    "    pass # Implementar\n",
    "\n",
    "def listar_ranking(ranking):\n",
    "    pass # Implementar\n",
    "\n",
    "ranking = ranking_productos(datos)\n",
    "listar_ranking(ranking)"
   ]
  },
  {
   "cell_type": "markdown",
   "metadata": {},
   "source": [
    "### Ejercicio 6: Listar las ventas por mes\n",
    "\n",
    "Realizar un listado del total de unidades vendidas por productos separada por mes."
   ]
  },
  {
   "cell_type": "code",
   "execution_count": null,
   "metadata": {},
   "outputs": [],
   "source": [
def vent_mes(ventas):
    mes_prod = {}

    for venta in ventas:
        fecha = venta["fecha"]
        mes = fecha[5:7]  
        prod = venta["producto"]
        cant = venta["cantidad"]

        if mes not in mes_prod:
            mes_prod[mes] = {}

        if prod in mes_prod[mes]:
            mes_prod[mes][prod] += cant
        else:
            mes_prod[mes][prod] = cant

    return mes_prod

ventas = cargar_ventas()  
vent_mes_dict = vent_mes(ventas)

for mes, prod_dict in vent_mes_dict.items():
    print(f"Mes: {mes}")
    for prod, cant in prod_dict.items():
        print(f"  {prod}: {cant} unidades vendidas")
    "def ventas_por_mes(datos):\n",
    "    pass # Implementar\n",
    "\n",
    "def listar_ventas_mensuales(ventas):\n",
    "    pass # Implementar\n",
    "\n",
    "ventas = ventas_por_mes(datos)\n",
    "listar_ventas_mensuales(ventas)"
   ]
  },
  {
   "cell_type": "markdown",
   "metadata": {},
   "source": [
    "### Ejercicio 7: Informe general\n",
    "\n",
    "Mostrar un listado de productos ordenados alfabeticamente que contengan el precio promedio, la cantidad de unidades vendidas y el importe total vendido para cada producto"
   ]
  },
  {
   "cell_type": "code",
   "execution_count": null,
   "metadata": {},
   "outputs": [],
   "source": [
def inf_gen(ventas):
    sum_prec = {}
    cont_prod = {}
    tot_vend = {}

    for venta in ventas:
        prod = venta["producto"]
        prec = venta["precio"]
        cant = venta["cantidad"]

        if prod in sum_prec:
            sum_prec[prod] += prec
            cont_prod[prod] += cant
            tot_vend[prod] += prec * cant
        else:
            sum_prec[prod] = prec
            cont_prod[prod] = cant
            tot_vend[prod] = prec * cant

    inf_prod = {
        prod: {
            "prom_prec": sum_prec[prod] / cant, 
            "tot_unid": cont_prod[prod],
            "tot_imp": tot_vend[prod]
        }
        for prod in sum_prec
    }

    inf_prod_ord = dict(sorted(inf_prod.items()))

    return inf_prod_ord

ventas = cargar_ventas() 
informe = inf_gen(ventas)

for prod, datos in informe.items():
    print(f"Producto: {prod}")
    print(f"  Precio promedio: {datos['prom_prec']}")
    print(f"  Total unidades vendidas: {datos['tot_unid']}")
    print(f"  Importe total vendido: {datos['tot_imp']}")
    "def resumen_ventas(datos):\n",
    "    pass # Implementar\n",
    "\n",
    "def informe_ventas(datos):\n",
    "    pass # Implementar\n",
    "\n",
    "resumen = resumen_ventas(datos)\n",
    "informe_ventas(resumen)\n"
   ]
  }
 ],
 "metadata": {
  "kernelspec": {
   "display_name": "Python 3",
   "language": "python",
   "name": "python3"
  },
  "language_info": {
   "codemirror_mode": {
    "name": "ipython",
    "version": 3
   },
   "file_extension": ".py",
   "mimetype": "text/x-python",
   "name": "python",
   "nbconvert_exporter": "python",
   "pygments_lexer": "ipython3",
   "version": "3.12.5"
  }
 },
 "nbformat": 4,
 "nbformat_minor": 2
}
