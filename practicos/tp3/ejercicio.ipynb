{
 "cells": [
  {
   "cell_type": "markdown",
   "metadata": {},
   "source": [
    "#TP3"
   ]
  },
  {
   "cell_type": "markdown",
   "metadata": {},
   "source": [
    "## Ejercicio 1: Cargar Datos de ventas.\n",
    "\n",
    "El archivo datos.dat contiene el registro de las ventas realizadas.\n",
    "\n",
    "Tiene un formato de ancho fijo:\n",
    "- fecha:    10 lugares\n",
    "- producto: 30 lugares\n",
    "- precio:   10 lugares\n",
    "- cantidad:  5 lugares\n",
    "\n",
    "hacer una funcion que carge los en una lista de diccionarios. \n",
    "\n",
    "nota: con \n",
    "```python\n",
    "lineas = open(\"datos.dat\", \"r\").readlines() \n",
    "```\n",
    "puede obtener la lista de string de todos los datos "
   ]
  },
  {
   "cell_type": "code",
   "execution_count": 48,
   "metadata": {},
   "outputs": [
    {
     "name": "stdout",
     "output_type": "stream",
     "text": [
      "{'fecha': '2024-08-27', 'producto': 'Mirinda', 'precio': 1510, 'cantidad': 14}\n",
      "{'fecha': '2024-08-27', 'producto': 'Mirinda', 'precio': 1560, 'cantidad': 12}\n",
      "{'fecha': '2024-08-28', 'producto': 'Torasso', 'precio': 940, 'cantidad': 8}\n",
      "{'fecha': '2024-08-29', 'producto': 'Pepsi Cola', 'precio': 1210, 'cantidad': 10}\n",
      "{'fecha': '2024-08-30', 'producto': 'Mirinda', 'precio': 1520, 'cantidad': 1}\n",
      "{'fecha': '2024-09-01', 'producto': 'Mirinda', 'precio': 1550, 'cantidad': 15}\n",
      "{'fecha': '2024-09-01', 'producto': 'Sprite', 'precio': 810, 'cantidad': 4}\n",
      "{'fecha': '2024-09-02', 'producto': 'Coca Cola', 'precio': 1100, 'cantidad': 4}\n",
      "{'fecha': '2024-09-02', 'producto': 'Pepsi Cola', 'precio': 1220, 'cantidad': 13}\n",
      "{'fecha': '2024-09-02', 'producto': 'Torasso', 'precio': 910, 'cantidad': 5}\n",
      "{'fecha': '2024-09-02', 'producto': 'Torasso', 'precio': 920, 'cantidad': 3}\n",
      "{'fecha': '2024-09-03', 'producto': 'Coca Cola', 'precio': 1020, 'cantidad': 8}\n",
      "{'fecha': '2024-09-03', 'producto': 'Mirinda', 'precio': 1570, 'cantidad': 7}\n",
      "{'fecha': '2024-09-03', 'producto': 'Mirinda', 'precio': 1590, 'cantidad': 2}\n",
      "{'fecha': '2024-09-04', 'producto': 'Pepsi Cola', 'precio': 1220, 'cantidad': 13}\n",
      "{'fecha': '2024-09-05', 'producto': 'Mirinda', 'precio': 1500, 'cantidad': 3}\n",
      "{'fecha': '2024-09-05', 'producto': 'Pepsi Cola', 'precio': 1300, 'cantidad': 5}\n",
      "{'fecha': '2024-09-06', 'producto': 'Coca Cola', 'precio': 1080, 'cantidad': 1}\n",
      "{'fecha': '2024-09-06', 'producto': 'Sprite', 'precio': 860, 'cantidad': 12}\n",
      "{'fecha': '2024-09-06', 'producto': 'Torasso', 'precio': 930, 'cantidad': 3}\n",
      "{'fecha': '2024-09-07', 'producto': 'Coca Cola', 'precio': 1080, 'cantidad': 14}\n",
      "{'fecha': '2024-09-07', 'producto': 'Sprite', 'precio': 870, 'cantidad': 13}\n",
      "{'fecha': '2024-09-08', 'producto': 'Coca Cola', 'precio': 1040, 'cantidad': 10}\n",
      "{'fecha': '2024-09-08', 'producto': 'Mirinda', 'precio': 1580, 'cantidad': 2}\n",
      "{'fecha': '2024-09-08', 'producto': 'Pepsi Cola', 'precio': 1240, 'cantidad': 9}\n",
      "{'fecha': '2024-09-09', 'producto': 'Mirinda', 'precio': 1500, 'cantidad': 3}\n",
      "{'fecha': '2024-09-09', 'producto': 'Sprite', 'precio': 850, 'cantidad': 9}\n",
      "{'fecha': '2024-09-10', 'producto': 'Mirinda', 'precio': 1590, 'cantidad': 8}\n",
      "{'fecha': '2024-09-10', 'producto': 'Pepsi Cola', 'precio': 1250, 'cantidad': 12}\n",
      "{'fecha': '2024-09-11', 'producto': 'Sprite', 'precio': 810, 'cantidad': 6}\n",
      "{'fecha': '2024-09-11', 'producto': 'Sprite', 'precio': 820, 'cantidad': 14}\n",
      "{'fecha': '2024-09-12', 'producto': 'Coca Cola', 'precio': 1080, 'cantidad': 4}\n",
      "{'fecha': '2024-09-13', 'producto': 'Mirinda', 'precio': 1580, 'cantidad': 5}\n",
      "{'fecha': '2024-09-13', 'producto': 'Pepsi Cola', 'precio': 1250, 'cantidad': 13}\n",
      "{'fecha': '2024-09-14', 'producto': 'Coca Cola', 'precio': 1080, 'cantidad': 15}\n",
      "{'fecha': '2024-09-14', 'producto': 'Pepsi Cola', 'precio': 1270, 'cantidad': 14}\n",
      "{'fecha': '2024-09-15', 'producto': 'Coca Cola', 'precio': 1100, 'cantidad': 1}\n",
      "{'fecha': '2024-09-15', 'producto': 'Mirinda', 'precio': 1500, 'cantidad': 13}\n",
      "{'fecha': '2024-09-15', 'producto': 'Sprite', 'precio': 870, 'cantidad': 14}\n",
      "{'fecha': '2024-09-15', 'producto': 'Torasso', 'precio': 900, 'cantidad': 13}\n"
     ]
    }
   ],
   "source": [
    "def cargar_datos():\n",
    "    lineas = open(\"datos.dat\", \"r\").readlines()\n",
    "\n",
    "    datos = []\n",
    "    \n",
    "    for linea in lineas:\n",
    "        venta = {\n",
    "            \"fecha\": linea[:10].strip(),\n",
    "            \"producto\": linea[10:40].strip(),\n",
    "            \"precio\": int(linea[40:50].strip()),\n",
    "            \"cantidad\": int(linea[50:55].strip())\n",
    "        }\n",
    "        \n",
    "        datos.append(venta)\n",
    "    \n",
    "    return datos\n",
    "\n",
    "datos = cargar_datos()\n",
    "for venta in datos:\n",
    "    print(venta)\n"
   ]
  },
  {
   "cell_type": "markdown",
   "metadata": {},
   "source": [
    "## Ejercicio 2: Calcular el total de ventas.\n",
    "\n",
    "Hacer una funcion que sume los importes vendidos (precio * cantidad) y las cantidades"
   ]
  },
  {
   "cell_type": "code",
   "execution_count": 49,
   "metadata": {},
   "outputs": [
    {
     "name": "stdout",
     "output_type": "stream",
     "text": [
      "Las ventas fueron de $ 450.00 en 10 unidades\n"
     ]
    }
   ],
   "source": [
    "def calcular_total_ventas(ventas):\n",
    "    importe = 0\n",
    "    cantidad = 0\n",
    "    \n",
    "    for venta in ventas:\n",
    "        precio = venta['precio']\n",
    "        cantidad = venta['cantidad']\n",
    "        importe += precio * cantidad\n",
    "        cantidad += cantidad\n",
    "    \n",
    "    return importe, cantidad\n",
    "\n",
    "\n",
    "ventas = [\n",
    "    {'precio': 100, 'cantidad': 2},  \n",
    "    {'precio': 50, 'cantidad': 3},   \n",
    "    {'precio': 20, 'cantidad': 5}    \n",
    "]\n",
    "\n",
    "importe, cantidad = calcular_total_ventas(ventas)\n",
    "print(f\"Las ventas fueron de ${importe: .2f} en {cantidad} unidades\")"
   ]
  },
  {
   "cell_type": "markdown",
   "metadata": {},
   "source": [
    "## Ejercicio 3: Listar las unidades vendidas.\n",
    "\n",
    "Listar cuantas unidades se vendieron en total para cada producto"
   ]
  },
  {
   "cell_type": "code",
   "execution_count": 52,
   "metadata": {},
   "outputs": [
    {
     "name": "stdout",
     "output_type": "stream",
     "text": [
      "Unidades vendidas por producto:\n",
      "Mirinda: 85 unidades\n",
      "Torasso: 32 unidades\n",
      "Pepsi Cola: 89 unidades\n",
      "Sprite: 72 unidades\n",
      "Coca Cola: 57 unidades\n"
     ]
    }
   ],
   "source": [
    "def unidades_vendidas(datos):\n",
    "    ventas_totales = {}\n",
    "\n",
    "    for venta in datos:\n",
    "        producto = venta['producto']\n",
    "        cantidad = venta['cantidad']\n",
    "        \n",
    "        if producto in ventas_totales:\n",
    "            ventas_totales[producto] += cantidad\n",
    "        else:\n",
    "            ventas_totales[producto] = cantidad\n",
    "    \n",
    "    return ventas_totales\n",
    "\n",
    "def listar_ventas(ventas):\n",
    "    print(\"Unidades vendidas por producto:\")\n",
    "    for producto, cantidad in ventas.items():\n",
    "        print(f\"{producto}: {cantidad} unidades\")\n",
    "\n",
    "datos = cargar_datos()\n",
    "\n",
    "ventas = unidades_vendidas(datos)\n",
    "listar_ventas(ventas)"
   ]
  },
  {
   "cell_type": "markdown",
   "metadata": {},
   "source": [
    "##  Ejercicio 4: Listar el precio promedio por producto.\n",
    "\n",
    "Hacer un listado del precio promedio por productos."
   ]
  },
  {
   "cell_type": "code",
   "execution_count": 55,
   "metadata": {},
   "outputs": [
    {
     "name": "stdout",
     "output_type": "stream",
     "text": [
      "Producto: Mirinda, Precio promedio: $1542.12\n",
      "Producto: Torasso, Precio promedio: $916.25\n",
      "Producto: Pepsi Cola, Precio promedio: $1241.69\n",
      "Producto: Sprite, Precio promedio: $847.78\n",
      "Producto: Coca Cola, Precio promedio: $1066.32\n"
     ]
    }
   ],
   "source": [
    "def precio_promedio(datos):\n",
    "    precios_por_producto={}\n",
    "    cantidades_por_producto={}\n",
    "\n",
    "    for venta in datos:\n",
    "        producto= venta[\"producto\"]\n",
    "        precio = venta[\"precio\"]\n",
    "        cantidad = venta[\"cantidad\"]\n",
    "\n",
    "        if producto in precios_por_producto:\n",
    "            precios_por_producto[producto] += precio * cantidad\n",
    "            cantidades_por_producto[producto] += cantidad\n",
    "        else:\n",
    "            precios_por_producto[producto] = precio * cantidad\n",
    "            cantidades_por_producto[producto] = cantidad\n",
    "\n",
    "    precios_promedio = {}\n",
    "    for producto in precios_por_producto:\n",
    "        precios_promedio[producto] = precios_por_producto[producto] / cantidades_por_producto[producto]\n",
    "    return precios_promedio\n",
    "\n",
    "def listar_precios(datos):\n",
    "    for producto, precio in precios.items():\n",
    "        print(f\"Producto: {producto}, Precio promedio: ${precio:.2f}\")\n",
    "\n",
    "precios = precio_promedio(datos)\n",
    "listar_precios(precios)"
   ]
  },
  {
   "cell_type": "markdown",
   "metadata": {},
   "source": [
    "### Ejercicio 5: Ranking de productos\n",
    "\n",
    "Realizar un listado de los 3 productos mas vendidos ordenados la cantidad de unidades vendidas (ordenadas de mayor a menor)\n"
   ]
  },
  {
   "cell_type": "code",
   "execution_count": 57,
   "metadata": {},
   "outputs": [
    {
     "name": "stdout",
     "output_type": "stream",
     "text": [
      "Ranking de Productos más Vendidos:\n",
      "1. Producto: Pepsi Cola, Unidades vendidas: 89\n",
      "2. Producto: Mirinda, Unidades vendidas: 85\n",
      "3. Producto: Sprite, Unidades vendidas: 72\n"
     ]
    }
   ],
   "source": [
    "def ranking_productos(datos, top=3):\n",
    "    ventas_por_producto= {}\n",
    "    for venta in datos:\n",
    "        producto = venta[\"producto\"]\n",
    "        cantidad = venta[\"cantidad\"]\n",
    "\n",
    "        if producto in ventas_por_producto:\n",
    "            ventas_por_producto[producto] += cantidad\n",
    "        else:\n",
    "            ventas_por_producto[producto] = cantidad\n",
    "    ranking = sorted(ventas_por_producto.items(), key=lambda x: x[1], reverse=True)\n",
    "    return ranking[:top]\n",
    "\n",
    "def listar_ranking(ranking):\n",
    "    print(\"Ranking de Productos más Vendidos:\")\n",
    "    for i, (producto, cantidad) in enumerate(ranking, start=1):\n",
    "        print(f\"{i}. Producto: {producto}, Unidades vendidas: {cantidad}\")\n",
    "\n",
    "\n",
    "ranking = ranking_productos(datos)\n",
    "listar_ranking(ranking)"
   ]
  },
  {
   "cell_type": "markdown",
   "metadata": {},
   "source": [
    "### Ejercicio 6: Listar las ventas por mes\n",
    "\n",
    "Realizar un listado del total de unidades vendidas por productos separada por mes."
   ]
  },
  {
   "cell_type": "code",
   "execution_count": 62,
   "metadata": {},
   "outputs": [
    {
     "name": "stdout",
     "output_type": "stream",
     "text": [
      "Ventas por mes:\n",
      "\n",
      "Mes: 2024-08\n",
      "Mirinda: 27 unidades\n",
      "Torasso: 8 unidades\n",
      "Pepsi Cola: 10 unidades\n",
      "---------------\n",
      "\n",
      "Mes: 2024-09\n",
      "Mirinda: 58 unidades\n",
      "Sprite: 72 unidades\n",
      "Coca Cola: 57 unidades\n",
      "Pepsi Cola: 79 unidades\n",
      "Torasso: 24 unidades\n",
      "---------------\n"
     ]
    }
   ],
   "source": [
    "def ventas_por_mes(datos):\n",
    "    ventas_mensuales = {}\n",
    "    for venta in datos:\n",
    "        fecha = venta['fecha']\n",
    "        mes = fecha[:7] \n",
    "\n",
    "        producto = venta['producto']\n",
    "        cantidad = venta['cantidad']\n",
    "\n",
    "        if mes not in ventas_mensuales:\n",
    "            ventas_mensuales[mes] = {}\n",
    "\n",
    "        if producto not in ventas_mensuales[mes]:\n",
    "            ventas_mensuales[mes][producto] = 0\n",
    "            \n",
    "        ventas_mensuales[mes][producto] += cantidad\n",
    "\n",
    "    return ventas_mensuales\n",
    "\n",
    "\n",
    "def listar_ventas_mensuales(ventas):\n",
    "    print(\"Ventas por mes:\")\n",
    "    for mes, productos in ventas.items():\n",
    "        print(f\"\\nMes: {mes}\")\n",
    "        for producto, cantidad in productos.items():\n",
    "            print(f\"{producto}: {cantidad} unidades\")\n",
    "        print(\"---------------\")\n",
    "        \n",
    "ventas = ventas_por_mes(datos)\n",
    "listar_ventas_mensuales(ventas)\n"
   ]
  },
  {
   "cell_type": "markdown",
   "metadata": {},
   "source": [
    "### Ejercicio 7: Informe general\n",
    "\n",
    "Mostrar un listado de productos ordenados alfabeticamente que contengan el precio promedio, la cantidad de unidades vendidas y el importe total vendido para cada producto"
   ]
  },
  {
   "cell_type": "code",
   "execution_count": 113,
   "metadata": {},
   "outputs": [
    {
     "name": "stdout",
     "output_type": "stream",
     "text": [
      "Informe de Ventas:\n",
      "-------------------------------------------------------------------------------------------\n",
      "           Producto            |   Precio Promedio   | Unidades Vendidas | Importe Total  |\n",
      "-------------------------------------------------------------------------------------------\n",
      "          Coca Cola            | $     1072.50       |        57         | $  60780.00    |\n",
      "           Mirinda             | $     1545.83       |        85         | $  131080.00   |\n",
      "          Pepsi Cola           | $     1245.00       |        89         | $  110510.00   |\n",
      "            Sprite             | $      841.43       |        72         | $  61040.00    |\n",
      "           Torasso             | $      920.00       |        32         | $  29320.00    |\n"
     ]
    }
   ],
   "source": [
    "def resumen_ventas(datos):\n",
    "    resumen = {}\n",
    "\n",
    "    for venta in datos:\n",
    "        producto = venta['producto']\n",
    "        precio = venta['precio']\n",
    "        cantidad = venta['cantidad']\n",
    "        \n",
    "        if producto not in resumen:\n",
    "            resumen[producto] = {\n",
    "                'suma_precio': 0,\n",
    "                'total_cantidad': 0,\n",
    "                'total_importe': 0,\n",
    "                'ventas_count': 0\n",
    "            }\n",
    "        resumen[producto]['suma_precio'] += precio\n",
    "        resumen[producto]['total_cantidad'] += cantidad\n",
    "        resumen[producto]['total_importe'] += precio * cantidad\n",
    "        resumen[producto]['ventas_count'] += 1\n",
    "\n",
    "    for producto, data in resumen.items():\n",
    "        data['precio_promedio'] = data['suma_precio'] / data['ventas_count']\n",
    "\n",
    "    return resumen\n",
    "\n",
    "def informe_ventas(datos):\n",
    "    productos_ordenados = sorted(resumen.items())\n",
    "    print(\"Informe de Ventas:\")\n",
    "    print(\"-\"*91)\n",
    "    print(f\"{'Producto':^30} | {'Precio Promedio':^19} | {'Unidades Vendidas':^17} | {'Importe Total':^13}  |\")\n",
    "    print(\"-\" * 91)\n",
    "    for producto, data in productos_ordenados:\n",
    "        print(f\"{producto:^30} | ${data['precio_promedio']:^18.2f} | {data['total_cantidad']:^17} | ${data['total_importe']:^13.2f} |\")\n",
    "\n",
    "datos = cargar_datos()\n",
    "\n",
    "resumen = resumen_ventas(datos)\n",
    "informe_ventas(resumen)\n"
   ]
  }
 ],
 "metadata": {
  "kernelspec": {
   "display_name": "Python 3",
   "language": "python",
   "name": "python3"
  },
  "language_info": {
   "codemirror_mode": {
    "name": "ipython",
    "version": 3
   },
   "file_extension": ".py",
   "mimetype": "text/x-python",
   "name": "python",
   "nbconvert_exporter": "python",
   "pygments_lexer": "ipython3",
   "version": "3.12.5"
  }
 },
 "nbformat": 4,
 "nbformat_minor": 2
}
