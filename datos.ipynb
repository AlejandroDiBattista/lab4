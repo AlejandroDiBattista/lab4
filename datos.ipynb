{
 "cells": [
  {
   "cell_type": "code",
   "execution_count": 20,
   "metadata": {},
   "outputs": [
    {
     "name": "stdout",
     "output_type": "stream",
     "text": [
      "Requirement already satisfied: pandas in /Library/Frameworks/Python.framework/Versions/3.12/lib/python3.12/site-packages (2.2.2)\n",
      "Requirement already satisfied: numpy>=1.26.0 in /Library/Frameworks/Python.framework/Versions/3.12/lib/python3.12/site-packages (from pandas) (1.26.4)\n",
      "Requirement already satisfied: python-dateutil>=2.8.2 in /Library/Frameworks/Python.framework/Versions/3.12/lib/python3.12/site-packages (from pandas) (2.9.0.post0)\n",
      "Requirement already satisfied: pytz>=2020.1 in /Library/Frameworks/Python.framework/Versions/3.12/lib/python3.12/site-packages (from pandas) (2024.1)\n",
      "Requirement already satisfied: tzdata>=2022.7 in /Library/Frameworks/Python.framework/Versions/3.12/lib/python3.12/site-packages (from pandas) (2024.1)\n",
      "Requirement already satisfied: six>=1.5 in /Library/Frameworks/Python.framework/Versions/3.12/lib/python3.12/site-packages (from python-dateutil>=2.8.2->pandas) (1.16.0)\n"
     ]
    }
   ],
   "source": [
    "!pip3 install pandas\n"
   ]
  },
  {
   "cell_type": "code",
   "execution_count": 21,
   "metadata": {},
   "outputs": [],
   "source": [
    "import os\n",
    "import re\n",
    "import pandas as pd\n",
    "import shutil\n"
   ]
  },
  {
   "cell_type": "markdown",
   "metadata": {},
   "source": [
    "## Cargar alumnos\n",
    "\n",
    "Toma los alumnos que estan en alumnos.md y lo carga en un datatable.\n",
    "El formato del archivo debe ser\n",
    "```\n",
    "## Comision N\n",
    "1. Legajo Apellido, Nombre\n",
    "```"
   ]
  },
  {
   "cell_type": "code",
   "execution_count": 22,
   "metadata": {},
   "outputs": [],
   "source": [
    "\n",
    "def cargar_alumos(origen='alumnos.md'):\n",
    "    # Leer el archivo\n",
    "    with open(origen, 'r') as file:\n",
    "        lines = file.readlines()\n",
    "    \n",
    "    # Inicializar listas para almacenar los datos\n",
    "    comisiones = []\n",
    "    ordenes = []\n",
    "    legajos = []\n",
    "    apellidos = []\n",
    "    nombres = []\n",
    "    \n",
    "    \n",
    "    # Variables para almacenar la comisión actual\n",
    "    comision_actual = None\n",
    "    \n",
    "    # Procesar cada línea del archivo\n",
    "    for line in lines:\n",
    "        line = line.strip()\n",
    "        line = re.sub(r'\\|.*', '', line)\n",
    "        \n",
    "        if line.startswith('## Comisión'):\n",
    "            # Extraer el número de la comisión\n",
    "            comision_actual = int(line.split(' ')[-1])\n",
    "        elif line and line[0].isdigit():\n",
    "            # Extraer el número de orden, legajo, apellido y nombre\n",
    "            match = re.match(r'(\\d+)\\.\\s+(\\d+)\\s+([^,]+),\\s+(.+)(|>.*)?', line)\n",
    "            if match:\n",
    "                comisiones.append(comision_actual)\n",
    "                ordenes.append(int(match.group(1)))\n",
    "                legajos.append(match.group(2))\n",
    "                apellidos.append(match.group(3))\n",
    "                nombres.append(match.group(4))\n",
    "    \n",
    "    # Crear el DataFrame\n",
    "    data = {\n",
    "        'comision': comisiones,\n",
    "        'orden': ordenes,\n",
    "        'legajo': legajos,\n",
    "        'apellido': apellidos,\n",
    "        'nombre': nombres\n",
    "    }\n",
    "    df = pd.DataFrame(data)\n",
    "    \n",
    "    return df\n",
    "\n",
    "# Uso de la función\n"
   ]
  },
  {
   "cell_type": "markdown",
   "metadata": {},
   "source": [
    "## Detectar datos duplicados\n",
    "\n",
    "Revisa si los legajos estan duplicados (error), y como curiosidad si hay nombre y apellidos repetidos."
   ]
  },
  {
   "cell_type": "code",
   "execution_count": null,
   "metadata": {},
   "outputs": [],
   "source": [
    "def detectar_duplicados(d):\n",
    "    # Listar registros con legajo duplicado\n",
    "    legajos_duplicados = d[d['legajo'].duplicated()]\n",
    "    print(\"Registros con legajo duplicado:\")\n",
    "    if len(legajos_duplicados) == 0:\n",
    "        print(\"No hay legajos duplicados\")\n",
    "    else:\n",
    "        print(\"ERROR: Se encontraron legajos duplicados\")\n",
    "        print(legajos_duplicados)\n",
    "\n",
    "    # Listar registros con nombre duplicado\n",
    "    nombres_duplicados = d[d['nombre'].duplicated(keep=False)]\n",
    "    nombres_duplicados.sort_values(by='nombre', inplace=True)\n",
    "    num_nombres = len(nombres_duplicados['nombre'].unique())\n",
    "\n",
    "    print(f\"\\nHay {num_nombres} Nombres duplicados en {len(nombres_duplicados)} registros\")\n",
    "    print(\"Registros con nombre duplicado:\")\n",
    "    print(nombres_duplicados)\n",
    "\n",
    "    # Listar registros con apellido duplicado\n",
    "    apellidos_duplicados = d[d['apellido'].duplicated(keep=False)]\n",
    "    apellidos_duplicados.sort_values(by='apellido', inplace=True)\n",
    "\n",
    "    num_apellidos = len(apellidos_duplicados['apellido'].unique())\n",
    "\n",
    "    print(f\"\\nHay {num_apellidos} Apellidos duplicados en {len(apellidos_duplicados)} registros\")\n",
    "    print(\"Registros con apellido duplicado: \")\n",
    "    print(apellidos_duplicados)\n",
    "\n",
    "detectar_duplicados(cargar_alumos())"
   ]
  },
  {
   "cell_type": "markdown",
   "metadata": {},
   "source": [
    "# Generar trabajo practicos\n",
    "Copia de la carpeta practivos el tp a cada una de los repositorios \n"
   ]
  },
  {
   "cell_type": "code",
   "execution_count": 33,
   "metadata": {},
   "outputs": [],
   "source": [
    "# Librería para trabajar con archivos\n",
    "# def asegurar_directorio(directorio):\n",
    "#     try:\n",
    "#         os.makedirs(directorio)\n",
    "#     except :\n",
    "#         pass \n",
    "\n",
    "def copiar_archivos(origen, destino):\n",
    "    # Verificar si la carpeta de destino existe, si no, crearla\n",
    "    if not os.path.exists(destino):\n",
    "        os.makedirs(destino)\n",
    "    \n",
    "    # Iterar sobre todos los archivos en la carpeta de origen\n",
    "    for archivo in os.listdir(origen):\n",
    "        ruta_origen  = os.path.join(origen, archivo)\n",
    "        ruta_destino = os.path.join(destino, archivo)\n",
    "        \n",
    "        # Verificar si es un archivo y no un directorio\n",
    "        if os.path.isfile(ruta_origen):\n",
    "            shutil.copy(ruta_origen, ruta_destino)\n",
    "\n",
    "def renombrar_carpeta(origen, destino):\n",
    "    # Crear el directorio de destino si no existe\n",
    "    if not os.path.exists(destino):\n",
    "        os.makedirs(destino)\n",
    "\n",
    "    # Mover el contenido del directorio\n",
    "    for archivo in os.listdir(origen):\n",
    "        ruta_origen  = os.path.join(origen, archivo)\n",
    "        ruta_destino = os.path.join(destino, archivo)\n",
    "\n",
    "        if os.path.exists(ruta_destino):\n",
    "            if os.path.isdir(ruta_destino):\n",
    "                shutil.rmtree(ruta_destino)\n",
    "            else:\n",
    "                os.remove(ruta_destino)\n",
    "        shutil.move(ruta_origen, ruta_destino)\n",
    "    \n",
    "    # Eliminar el directorio fuente si está vacío\n",
    "    if not os.listdir(origen):\n",
    "        os.rmdir(origen)"
   ]
  },
  {
   "cell_type": "code",
   "execution_count": 40,
   "metadata": {},
   "outputs": [],
   "source": [
    "def ubicar(comision, *camino):\n",
    "    if isinstance(comision, int):\n",
    "        comision = f\"/Users/adibattista/Documents/GitHub/Lab4-C{comision}\"\n",
    "    return '/'.join([comision, *camino])\n",
    "\n",
    "def carpeta_alumno(alumno):\n",
    "    return f\"{alumno['orden']:02} - {alumno['legajo']} - {alumno['apellido']}, {alumno['nombre']}\" \n",
    "\n",
    "def ubicar_alummo(alumnos, legajo):\n",
    "    alumno = alumnos.loc[alumnos['legajo'] == legajo].iloc[0]\n",
    "    comision = int(alumno['comision'])\n",
    "    return ubicar(comision, 'practicos', carpeta_alumno(alumno))\n",
    "\n",
    "def publicar(practico):\n",
    "    alumnos = cargar_alumos()\n",
    "\n",
    "    # Copia los archivos del practico a cada alumno\n",
    "    for legajo in alumnos['legajo']:\n",
    "        destino = ubicar_alummo(alumnos, legajo)\n",
    "        print(destino)\n",
    "        copiar_archivos(f'./practicos/{practico}', destino)\n",
    "        \n",
    "    # Copia el enunciados del practico a cada comisión\n",
    "    for comision in [2,5,7,9]:\n",
    "        destino = ubicar(comision)\n",
    "        shutil.copy(f'./practicos/enunciados/{practico}.md', f\"{destino}/README.md\")\n",
    "\n",
    "# publicar('tp1')"
   ]
  },
  {
   "cell_type": "markdown",
   "metadata": {},
   "source": [
    "# Normalizar los nombres de carpetas.\n",
    "Esta funcion permite revisar que los nombres esten bien escritos (tomando en cuenta el numero de legago)"
   ]
  },
  {
   "cell_type": "code",
   "execution_count": 43,
   "metadata": {},
   "outputs": [
    {
     "ename": "FileNotFoundError",
     "evalue": "[Errno 2] No such file or directory: '25 - 58777 - Jassán, Alan'",
     "output_type": "error",
     "traceback": [
      "\u001b[0;31m---------------------------------------------------------------------------\u001b[0m",
      "\u001b[0;31mFileNotFoundError\u001b[0m                         Traceback (most recent call last)",
      "Cell \u001b[0;32mIn[43], line 40\u001b[0m\n\u001b[1;32m     36\u001b[0m                         \u001b[38;5;28mprint\u001b[39m(\u001b[38;5;124mf\u001b[39m\u001b[38;5;124m\"\u001b[39m\u001b[38;5;124mmv \u001b[39m\u001b[38;5;132;01m{\u001b[39;00morigen\u001b[38;5;132;01m}\u001b[39;00m\u001b[38;5;124m/\u001b[39m\u001b[38;5;132;01m{\u001b[39;00marchivo\u001b[38;5;132;01m}\u001b[39;00m\u001b[38;5;124m \u001b[39m\u001b[38;5;132;01m{\u001b[39;00mdestino\u001b[38;5;132;01m}\u001b[39;00m\u001b[38;5;124m\"\u001b[39m)\n\u001b[1;32m     37\u001b[0m                         \u001b[38;5;66;03m#shutil.move(f\"{origen}/{archivo}\", destino)\u001b[39;00m\n\u001b[1;32m     38\u001b[0m                 \n\u001b[1;32m     39\u001b[0m \u001b[38;5;66;03m# normalizar()\u001b[39;00m\n\u001b[0;32m---> 40\u001b[0m \u001b[43mmover_ejercio_a_tp1\u001b[49m\u001b[43m(\u001b[49m\u001b[43m)\u001b[49m\n",
      "Cell \u001b[0;32mIn[43], line 33\u001b[0m, in \u001b[0;36mmover_ejercio_a_tp1\u001b[0;34m()\u001b[0m\n\u001b[1;32m     29\u001b[0m origen  \u001b[38;5;241m=\u001b[39m carpeta_alumno(alumnos\u001b[38;5;241m.\u001b[39mloc[alumnos[\u001b[38;5;124m'\u001b[39m\u001b[38;5;124mlegajo\u001b[39m\u001b[38;5;124m'\u001b[39m] \u001b[38;5;241m==\u001b[39m legajo]\u001b[38;5;241m.\u001b[39miloc[\u001b[38;5;241m0\u001b[39m])\u001b[38;5;241m.\u001b[39mstrip()\n\u001b[1;32m     30\u001b[0m destino \u001b[38;5;241m=\u001b[39m carpeta_alumno(alumnos\u001b[38;5;241m.\u001b[39mloc[alumnos[\u001b[38;5;124m'\u001b[39m\u001b[38;5;124mlegajo\u001b[39m\u001b[38;5;124m'\u001b[39m] \u001b[38;5;241m==\u001b[39m legajo]\u001b[38;5;241m.\u001b[39miloc[\u001b[38;5;241m0\u001b[39m])\u001b[38;5;241m.\u001b[39mstrip()\u001b[38;5;241m+\u001b[39m\u001b[38;5;124m\"\u001b[39m\u001b[38;5;124m/tp1\u001b[39m\u001b[38;5;124m\"\u001b[39m\n\u001b[0;32m---> 33\u001b[0m archivos \u001b[38;5;241m=\u001b[39m \u001b[43mos\u001b[49m\u001b[38;5;241;43m.\u001b[39;49m\u001b[43mlistdir\u001b[49m\u001b[43m(\u001b[49m\u001b[43morigen\u001b[49m\u001b[43m)\u001b[49m\n\u001b[1;32m     34\u001b[0m \u001b[38;5;28;01mfor\u001b[39;00m archivo \u001b[38;5;129;01min\u001b[39;00m archivos:\n\u001b[1;32m     35\u001b[0m     \u001b[38;5;28;01mif\u001b[39;00m archivo\u001b[38;5;241m.\u001b[39mstartswith(\u001b[38;5;124m\"\u001b[39m\u001b[38;5;124mEjercicio\u001b[39m\u001b[38;5;124m\"\u001b[39m):\n",
      "\u001b[0;31mFileNotFoundError\u001b[0m: [Errno 2] No such file or directory: '25 - 58777 - Jassán, Alan'"
     ]
    }
   ],
   "source": [
    "\n",
    "def normalizar():\n",
    "    alumnos = cargar_alumos()\n",
    "    for comision in [2,5,7,9]:\n",
    "        # listar todas las carpetas de alumnos que esten en la carpeta de la comisión\n",
    "        carpetas = os.listdir(ubicar(comision, 'practicos'))\n",
    "        for alumno in carpetas:\n",
    "            m = re.match(r'\\d{2}\\s+-?\\s*(\\d+) - ([^,]+), (.+)', alumno)\n",
    "            if m:\n",
    "                legajo = m.group(1)\n",
    "                destino = carpeta_alumno(alumnos.loc[alumnos['legajo'] == legajo].iloc[0])\n",
    "                alumno = alumno.strip()\n",
    "                destino = destino.strip()\n",
    "                if alumno != destino:\n",
    "                    print(f\"in  [{alumno}]\\nout [{destino}]\\n\")\n",
    "                    src_path  = ubicar(comision, 'practicos', alumno)\n",
    "                    dest_path = ubicar(comision, 'practicos', destino)\n",
    "                    renombrar_carpeta(src_path, dest_path)\n",
    "                \n",
    "def mover_ejercio_a_tp1():\n",
    "    alumnos = cargar_alumos()\n",
    "    for comision in [2,5,7,9]:\n",
    "        # listar todas las carpetas de alumnos que esten en la carpeta de la comisión\n",
    "        carpetas = os.listdir(ubicar(comision, 'practicos'))\n",
    "        for alumno in carpetas:\n",
    "            alumno = alumno.strip()\n",
    "            m = re.match(r'\\d{2}\\s+-?\\s*(\\d+) - ([^,]+), (.+)', alumno)\n",
    "            if m:\n",
    "                legajo = m.group(1)\n",
    "                origen  = carpeta_alumno(alumnos.loc[alumnos['legajo'] == legajo].iloc[0]).strip()\n",
    "                destino = carpeta_alumno(alumnos.loc[alumnos['legajo'] == legajo].iloc[0]).strip()+\"/tp1\"\n",
    "\n",
    "\n",
    "                archivos = os.listdir(origen)\n",
    "                for archivo in archivos:\n",
    "                    if archivo.startswith(\"Ejercicio\"):\n",
    "                        print(f\"mv {origen}/{archivo} {destino}\")\n",
    "                        #shutil.move(f\"{origen}/{archivo}\", destino)\n",
    "                \n",
    "# normalizar()\n",
    "mover_ejercio_a_tp1()"
   ]
  }
 ],
 "metadata": {
  "kernelspec": {
   "display_name": "Python 3",
   "language": "python",
   "name": "python3"
  },
  "language_info": {
   "codemirror_mode": {
    "name": "ipython",
    "version": 3
   },
   "file_extension": ".py",
   "mimetype": "text/x-python",
   "name": "python",
   "nbconvert_exporter": "python",
   "pygments_lexer": "ipython3",
   "version": "3.12.5"
  }
 },
 "nbformat": 4,
 "nbformat_minor": 2
}
