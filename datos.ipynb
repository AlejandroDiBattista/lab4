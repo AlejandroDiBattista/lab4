{
 "cells": [
  {
   "cell_type": "code",
   "execution_count": 2,
   "metadata": {},
   "outputs": [
    {
     "name": "stdout",
     "output_type": "stream",
     "text": [
      "Requirement already satisfied: pandas in /Library/Frameworks/Python.framework/Versions/3.12/lib/python3.12/site-packages (2.2.2)\n",
      "Requirement already satisfied: numpy>=1.26.0 in /Library/Frameworks/Python.framework/Versions/3.12/lib/python3.12/site-packages (from pandas) (1.26.4)\n",
      "Requirement already satisfied: python-dateutil>=2.8.2 in /Library/Frameworks/Python.framework/Versions/3.12/lib/python3.12/site-packages (from pandas) (2.9.0.post0)\n",
      "Requirement already satisfied: pytz>=2020.1 in /Library/Frameworks/Python.framework/Versions/3.12/lib/python3.12/site-packages (from pandas) (2024.1)\n",
      "Requirement already satisfied: tzdata>=2022.7 in /Library/Frameworks/Python.framework/Versions/3.12/lib/python3.12/site-packages (from pandas) (2024.1)\n",
      "Requirement already satisfied: six>=1.5 in /Library/Frameworks/Python.framework/Versions/3.12/lib/python3.12/site-packages (from python-dateutil>=2.8.2->pandas) (1.16.0)\n"
     ]
    }
   ],
   "source": [
    "!pip3 install pandas"
   ]
  },
  {
   "cell_type": "code",
   "execution_count": 2,
   "metadata": {},
   "outputs": [],
   "source": [
    "import os\n",
    "import re\n",
    "import pandas as pd\n",
    "import shutil\n"
   ]
  },
  {
   "cell_type": "markdown",
   "metadata": {},
   "source": [
    "## Cargar alumnos\n",
    "\n",
    "Toma los alumnos que estan en alumnos.md y lo carga en un datatable.\n",
    "El formato del archivo debe ser\n",
    "```\n",
    "## Comision N\n",
    "1. Legajo Apellido, Nombre\n",
    "```"
   ]
  },
  {
   "cell_type": "code",
   "execution_count": 9,
   "metadata": {},
   "outputs": [],
   "source": [
    "\n",
    "def cargar_alumos(origen='alumnos.md'):\n",
    "    # Leer el archivo\n",
    "    with open(origen, 'r') as file:\n",
    "        lines = file.readlines()\n",
    "    \n",
    "    # Inicializar listas para almacenar los datos\n",
    "    comisiones = []\n",
    "    ordenes = []\n",
    "    legajos = []\n",
    "    apellidos = []\n",
    "    nombres = []\n",
    "    \n",
    "    \n",
    "    # Variables para almacenar la comisión actual\n",
    "    comision_actual = None\n",
    "    \n",
    "    # Procesar cada línea del archivo\n",
    "    for line in lines:\n",
    "        line = line.strip()\n",
    "        line = re.sub(r'\\|.*', '', line)\n",
    "        \n",
    "        if line.startswith('## Comisión'):\n",
    "            # Extraer el número de la comisión\n",
    "            comision_actual = int(line.split(' ')[-1])\n",
    "        elif line and line[0].isdigit():\n",
    "            # Extraer el número de orden, legajo, apellido y nombre\n",
    "            match = re.match(r'(\\d+)\\.\\s+(\\d+)\\s+([^,]+),\\s+(.+)(|>.*)?', line)\n",
    "            if match:\n",
    "                comisiones.append(comision_actual)\n",
    "                ordenes.append(int(match.group(1)))\n",
    "                legajos.append(match.group(2))\n",
    "                apellidos.append(match.group(3))\n",
    "                nombres.append(match.group(4))\n",
    "    \n",
    "    # Crear el DataFrame\n",
    "    data = {\n",
    "        'comision': comisiones,\n",
    "        'orden': ordenes,\n",
    "        'legajo': legajos,\n",
    "        'apellido': apellidos,\n",
    "        'nombre': nombres\n",
    "    }\n",
    "    df = pd.DataFrame(data)\n",
    "    \n",
    "    return df\n",
    "\n",
    "# Uso de la función\n"
   ]
  },
  {
   "cell_type": "code",
   "execution_count": null,
   "metadata": {},
   "outputs": [],
   "source": [
    "import re\n",
    "\n",
    "# Reemplazar la línea original con una expresión regular\n",
    "line = re.sub(r'\\|.*', '', line)"
   ]
  },
  {
   "cell_type": "markdown",
   "metadata": {},
   "source": [
    "## Detectar datos duplicados\n",
    "\n",
    "Revisa si los legajos estan duplicados (error), y como curiosidad si hay nombre y apellidos repetidos."
   ]
  },
  {
   "cell_type": "code",
   "execution_count": 4,
   "metadata": {},
   "outputs": [
    {
     "name": "stdout",
     "output_type": "stream",
     "text": [
      "Registros con legajo duplicado:\n",
      "No hay legajos duplicados\n",
      "\n",
      "Hay 2 Nombres duplicados en 4 registros\n",
      "Registros con nombre duplicado:\n",
      "     comision  orden legajo   apellido        nombre\n",
      "36          2     37  59160  Veneziano  Juan Ignacio\n",
      "136         9     17  59074    Teseyra  Juan Ignacio\n",
      "84          5     48  59064     Urbani    Juan Pablo\n",
      "125         9      6  59313   Pisentte    Juan Pablo\n",
      "\n",
      "Hay 13 Apellidos duplicados en 29 registros\n",
      "Registros con apellido duplicado: \n",
      "     comision  orden legajo     apellido                            nombre\n",
      "4           2      5  59731      Alvarez                           Nicolás\n",
      "5           2      6  58828      Alvarez                    Nicolás Nahuel\n",
      "6           2      7  59176    Argañaraz                    Facundo Nahuel\n",
      "7           2      8  58909    Argañaraz                   Leonardo Ramiro\n",
      "38          5      2  58876         Díaz                    Manuel Lautaro\n",
      "37          5      1  58690         Díaz                   Facundo Gabriel\n",
      "47          5     11  58740       García                     Sergio Martín\n",
      "46          5     10  59154       García                            Máximo\n",
      "53          5     17  59068     Gonzalez                   Silvina Mariela\n",
      "52          5     16  58720     Gonzalez                   Martín Natanael\n",
      "21          2     22  55906     González                   Ramiro Exequiel\n",
      "20          2     21  55533     González                   Luciano Leandro\n",
      "51          5     15  59488     González                   Mariano Emanuel\n",
      "19          2     20  58832     González                     Adrián Leonel\n",
      "56          5     20  58761       Juarez                 Lautaro Andres En\n",
      "57          5     21  58758       Juarez                  Milagro Macarena\n",
      "62          5     26  58727      Lazarte                             Lucas\n",
      "61          5     25  58756      Lazarte                  Agustina Milagro\n",
      "100         7     12  59194       Medina   María Josefina           |> pje\n",
      "68          5     32  59071       Medina                    Daiana Micaela\n",
      "99          7     11  59043       Medina   Elias Manuel             |> pje\n",
      "104         7     16  58826       Moyano   Luján                    |> pne\n",
      "27          2     28  55650       Moyano                      Iván Eduardo\n",
      "112         7     24  55489        Pérez  Sofía Micaela             |> pnn\n",
      "124         9      5  58869        Pérez                       Enzo Matías\n",
      "113         7     25  58934  Quiroga Gil        Juan Ignacio        |> pje\n",
      "114         7     26  58935  Quiroga Gil        Santiago José       |> pje\n",
      "116         7     28  59072    Rodríguez      Ana Paula             |> pje\n",
      "30          2     31  58808    Rodríguez                   Nahuel Federico\n"
     ]
    },
    {
     "name": "stderr",
     "output_type": "stream",
     "text": [
      "/var/folders/6n/z412hmln0wn4g5vby875r5s00000gn/T/ipykernel_8754/3696820932.py:13: SettingWithCopyWarning: \n",
      "A value is trying to be set on a copy of a slice from a DataFrame\n",
      "\n",
      "See the caveats in the documentation: https://pandas.pydata.org/pandas-docs/stable/user_guide/indexing.html#returning-a-view-versus-a-copy\n",
      "  nombres_duplicados.sort_values(by='nombre', inplace=True)\n",
      "/var/folders/6n/z412hmln0wn4g5vby875r5s00000gn/T/ipykernel_8754/3696820932.py:22: SettingWithCopyWarning: \n",
      "A value is trying to be set on a copy of a slice from a DataFrame\n",
      "\n",
      "See the caveats in the documentation: https://pandas.pydata.org/pandas-docs/stable/user_guide/indexing.html#returning-a-view-versus-a-copy\n",
      "  apellidos_duplicados.sort_values(by='apellido', inplace=True)\n"
     ]
    }
   ],
   "source": [
    "def detectar_duplicados(d):\n",
    "    # Listar registros con legajo duplicado\n",
    "    legajos_duplicados = d[d['legajo'].duplicated()]\n",
    "    print(\"Registros con legajo duplicado:\")\n",
    "    if len(legajos_duplicados) == 0:\n",
    "        print(\"No hay legajos duplicados\")\n",
    "    else:\n",
    "        print(\"ERROR: Se encontraron legajos duplicados\")\n",
    "        print(legajos_duplicados)\n",
    "\n",
    "    # Listar registros con nombre duplicado\n",
    "    nombres_duplicados = d[d['nombre'].duplicated(keep=False)]\n",
    "    nombres_duplicados.sort_values(by='nombre', inplace=True)\n",
    "    num_nombres = len(nombres_duplicados['nombre'].unique())\n",
    "\n",
    "    print(f\"\\nHay {num_nombres} Nombres duplicados en {len(nombres_duplicados)} registros\")\n",
    "    print(\"Registros con nombre duplicado:\")\n",
    "    print(nombres_duplicados)\n",
    "\n",
    "    # Listar registros con apellido duplicado\n",
    "    apellidos_duplicados = d[d['apellido'].duplicated(keep=False)]\n",
    "    apellidos_duplicados.sort_values(by='apellido', inplace=True)\n",
    "\n",
    "    num_apellidos = len(apellidos_duplicados['apellido'].unique())\n",
    "\n",
    "    print(f\"\\nHay {num_apellidos} Apellidos duplicados en {len(apellidos_duplicados)} registros\")\n",
    "    print(\"Registros con apellido duplicado: \")\n",
    "    print(apellidos_duplicados)\n",
    "\n",
    "detectar_duplicados(cargar_alumos())"
   ]
  },
  {
   "cell_type": "markdown",
   "metadata": {},
   "source": [
    "# Generar trabajo practicos\n",
    "Copia de la carpeta practivos el tp a cada una de los repositorios \n"
   ]
  },
  {
   "cell_type": "code",
   "execution_count": 11,
   "metadata": {},
   "outputs": [],
   "source": [
    "def ubicar(comision, *camino):\n",
    "    if isinstance(comision, int):\n",
    "        comision = f\"/Users/adibattista/Documents/GitHub/Lab4-C{comision}\"\n",
    "    return '/'.join([comision, *camino])\n",
    "\n",
    "def asegurar_directorio(directorio):\n",
    "    try:\n",
    "        os.makedirs(directorio)\n",
    "    except :\n",
    "        pass \n",
    "\n",
    "def crear_directorio(comision, *camino):\n",
    "    path = ubicar(comision, *camino)\n",
    "    os.makedirs(path, exist_ok=True)\n",
    "\n",
    "def copiar_archivos(origen, destino):\n",
    "    # Verificar si la carpeta de destino existe, si no, crearla\n",
    "    if not os.path.exists(destino):\n",
    "        os.makedirs(destino)\n",
    "    \n",
    "    # Iterar sobre todos los archivos en la carpeta de origen\n",
    "    for archivo in os.listdir(origen):\n",
    "        ruta_origen = os.path.join(origen, archivo)\n",
    "        ruta_destino = os.path.join(destino, archivo)\n",
    "        \n",
    "        # Verificar si es un archivo y no un directorio\n",
    "        if os.path.isfile(ruta_origen):\n",
    "            shutil.copy(ruta_origen, ruta_destino)\n",
    "\n",
    "def carpeta_alumno(alumno):\n",
    "    return f\"{alumno['orden']:02} - {alumno['legajo']} - {alumno['apellido']}, {alumno['nombre']}\" \n",
    "\n",
    "def ubicar_alummo(alumnos, legajo):\n",
    "    alumno = alumnos.loc[alumnos['legajo'] == legajo].iloc[0]\n",
    "    comision = int(alumno['comision'])\n",
    "    return ubicar(comision, 'practicos', carpeta_alumno(alumno))\n",
    "\n",
    "def publicar(practico):\n",
    "    alumnos = cargar_alumos()\n",
    "\n",
    "    # Copia los archivos del practico a cada alumno\n",
    "    for legajo in alumnos['legajo']:\n",
    "        destino = ubicar_alummo(alumnos, legajo)\n",
    "        print(destino)\n",
    "        copiar_archivos(f'./practicos/{practico}', destino)\n",
    "        \n",
    "    # Copia el enunciados del practico a cada comisión\n",
    "    for comision in [2,5,7,9]:\n",
    "        destino = ubicar(comision)\n",
    "        shutil.copy(f'./practicos/enunciados/{practico}.md', f\"{destino}/README.md\")\n",
    "\n",
    "\n",
    "# publicar('tp1')"
   ]
  },
  {
   "cell_type": "markdown",
   "metadata": {},
   "source": [
    "# Normalizar los nombres de carpetas.\n",
    "Esta funcion permite revisar que los nombres esten bien escritos (tomando en cuenta el numero de legago)"
   ]
  },
  {
   "cell_type": "code",
   "execution_count": 39,
   "metadata": {},
   "outputs": [
    {
     "name": "stdout",
     "output_type": "stream",
     "text": [
      "in  [11 - 59043 - Medina, Eliseo Manuel]\n",
      "out [11 - 59043 - Medina, Elias Manuel]\n",
      "\n"
     ]
    }
   ],
   "source": [
    "def renombrar_carpeta(origen, destino):\n",
    "    # Crear el directorio de destino si no existe\n",
    "    if not os.path.exists(destino):\n",
    "        os.makedirs(destino)\n",
    "    # Mover el contenido del directorio\n",
    "    for item in os.listdir(origen):\n",
    "        src_item = os.path.join(origen, item)\n",
    "        dest_item = os.path.join(destino, item)\n",
    "        if os.path.exists(dest_item):\n",
    "            if os.path.isdir(dest_item):\n",
    "                shutil.rmtree(dest_item)\n",
    "            else:\n",
    "                os.remove(dest_item)\n",
    "        shutil.move(src_item, dest_item)\n",
    "    # Eliminar el directorio fuente si está vacío\n",
    "    os.rmdir(origen)\n",
    "\n",
    "def normalizar():\n",
    "    alumnos = cargar_alumos()\n",
    "    for comision in [2,5,7,9]:\n",
    "        # listar todas las carpetas de alumnos que esten en la carpeta de la comisión\n",
    "        carpetas = os.listdir(ubicar(comision, 'practicos'))\n",
    "        for alumno in carpetas:\n",
    "            m = re.match(r'\\d{2} - (\\d+) - ([^,]+), (.+)', alumno)\n",
    "            if m:\n",
    "                legajo = m.group(1)\n",
    "                destino = carpeta_alumno(alumnos.loc[alumnos['legajo'] == legajo].iloc[0])\n",
    "                alumno = alumno.strip()\n",
    "                destino = destino.strip()\n",
    "                if alumno != destino:\n",
    "                    print(f\"in  [{alumno}]\\nout [{destino}]\\n\")\n",
    "                    src_path = ubicar(comision, 'practicos', alumno)\n",
    "                    dest_path = ubicar(comision, 'practicos', destino)\n",
    "\n",
    "                \n",
    "normalizar()"
   ]
  },
  {
   "cell_type": "code",
   "execution_count": null,
   "metadata": {},
   "outputs": [],
   "source": []
  }
 ],
 "metadata": {
  "kernelspec": {
   "display_name": "Python 3",
   "language": "python",
   "name": "python3"
  },
  "language_info": {
   "codemirror_mode": {
    "name": "ipython",
    "version": 3
   },
   "file_extension": ".py",
   "mimetype": "text/x-python",
   "name": "python",
   "nbconvert_exporter": "python",
   "pygments_lexer": "ipython3",
   "version": "3.12.5"
  }
 },
 "nbformat": 4,
 "nbformat_minor": 2
}
