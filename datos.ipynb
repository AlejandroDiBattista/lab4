{
 "cells": [
  {
   "cell_type": "code",
   "execution_count": 2,
   "metadata": {},
   "outputs": [],
   "source": [
    "import os\n",
    "import re\n",
    "import pandas as pd\n",
    "import shutil\n"
   ]
  },
  {
   "cell_type": "markdown",
   "metadata": {},
   "source": [
    "## Cargar alumnos\n",
    "\n",
    "Toma los alumnos que estan en alumnos.md y lo carga en un datatable.\n",
    "El formato del archivo debe ser\n",
    "```\n",
    "## Comision N\n",
    "1. Legajo Apellido, Nombre\n",
    "```"
   ]
  },
  {
   "cell_type": "code",
   "execution_count": 3,
   "metadata": {},
   "outputs": [],
   "source": [
    "\n",
    "def cargar_alumos(origen='alumnos.md'):\n",
    "    # Leer el archivo\n",
    "    with open(origen, 'r') as file:\n",
    "        lines = file.readlines()\n",
    "    \n",
    "    # Inicializar listas para almacenar los datos\n",
    "    comisiones = []\n",
    "    ordenes = []\n",
    "    legajos = []\n",
    "    apellidos = []\n",
    "    nombres = []\n",
    "    \n",
    "    # Variables para almacenar la comisión actual\n",
    "    comision_actual = None\n",
    "    \n",
    "    # Procesar cada línea del archivo\n",
    "    for line in lines:\n",
    "        line = line.strip()\n",
    "        if line.startswith('## Comision'):\n",
    "            # Extraer el número de la comisión\n",
    "            comision_actual = int(line.split(' ')[-1])\n",
    "        elif line and line[0].isdigit():\n",
    "            # Extraer el número de orden, legajo, apellido y nombre\n",
    "            match = re.match(r'(\\d+)\\.\\s+(\\d+)\\s+([^,]+),\\s+(.+)', line)\n",
    "            if match:\n",
    "                comisiones.append(comision_actual)\n",
    "                ordenes.append(int(match.group(1)))\n",
    "                legajos.append(match.group(2))\n",
    "                apellidos.append(match.group(3))\n",
    "                nombres.append(match.group(4))\n",
    "    \n",
    "    # Crear el DataFrame\n",
    "    data = {\n",
    "        'comision': comisiones,\n",
    "        'orden': ordenes,\n",
    "        'legajo': legajos,\n",
    "        'apellido': apellidos,\n",
    "        'nombre': nombres\n",
    "    }\n",
    "    df = pd.DataFrame(data)\n",
    "    \n",
    "    return df\n",
    "\n",
    "# Uso de la función\n"
   ]
  },
  {
   "cell_type": "markdown",
   "metadata": {},
   "source": [
    "## Detectar datos duplicados\n",
    "\n",
    "Revisa si los legajos estan duplicados (error), y como curiosidad si hay nombre y apellidos repetidos."
   ]
  },
  {
   "cell_type": "code",
   "execution_count": 4,
   "metadata": {},
   "outputs": [],
   "source": [
    "def detectar_duplicados(d):\n",
    "    # Listar registros con legajo duplicado\n",
    "    legajos_duplicados = d[d['legajo'].duplicated()]\n",
    "    print(\"Registros con legajo duplicado:\")\n",
    "    if len(legajos_duplicados) == 0:\n",
    "        print(\"No hay legajos duplicados\")\n",
    "    else:\n",
    "        print(\"ERROR: Se encontraron legajos duplicados\")\n",
    "        print(legajos_duplicados)\n",
    "\n",
    "    # Listar registros con nombre duplicado\n",
    "    nombres_duplicados = d[d['nombre'].duplicated(keep=False)]\n",
    "    nombres_duplicados.sort_values(by='nombre', inplace=True)\n",
    "    num_nombres = len(nombres_duplicados['nombre'].unique())\n",
    "\n",
    "    print(f\"\\nHay {num_nombres} Nombres duplicados en {len(nombres_duplicados)} registros\")\n",
    "    print(\"Registros con nombre duplicado:\")\n",
    "    print(nombres_duplicados)\n",
    "\n",
    "    # Listar registros con apellido duplicado\n",
    "    apellidos_duplicados = d[d['apellido'].duplicated(keep=False)]\n",
    "    apellidos_duplicados.sort_values(by='apellido', inplace=True)\n",
    "\n",
    "    num_apellidos = len(apellidos_duplicados['apellido'].unique())\n",
    "\n",
    "    print(f\"\\nHay {num_apellidos} Apellidos duplicados en {len(apellidos_duplicados)} registros\")\n",
    "    print(\"Registros con apellido duplicado: \")\n",
    "    print(apellidos_duplicados)\n",
    "\n"
   ]
  },
  {
   "cell_type": "markdown",
   "metadata": {},
   "source": [
    "# Generar trabajo practicos\n",
    "Copia de la carpeta practivos el tp a cada una de los repositorios \n"
   ]
  },
  {
   "cell_type": "code",
   "execution_count": 5,
   "metadata": {},
   "outputs": [],
   "source": [
    "def ubicar(comision, *camino):\n",
    "    return '/'.join([f\"/Users/adibattista/Documents/GitHub/Lab4-C{comision}\", *camino])\n",
    "\n",
    "def asegurar_directorio(directorio):\n",
    "    try:\n",
    "        os.makedirs(directorio)\n",
    "    except :\n",
    "        pass \n",
    "\n",
    "def crear_directorio(comision, *camino):\n",
    "    path = ubicar(comision, *camino)\n",
    "    os.makedirs(path, exist_ok=True)\n",
    "\n",
    "def copiar_archivos(origen, destino):\n",
    "    # Verificar si la carpeta de destino existe, si no, crearla\n",
    "    if not os.path.exists(destino):\n",
    "        os.makedirs(destino)\n",
    "    \n",
    "    # Iterar sobre todos los archivos en la carpeta de origen\n",
    "    for archivo in os.listdir(origen):\n",
    "        ruta_origen = os.path.join(origen, archivo)\n",
    "        ruta_destino = os.path.join(destino, archivo)\n",
    "        \n",
    "        # Verificar si es un archivo y no un directorio\n",
    "        if os.path.isfile(ruta_origen):\n",
    "            shutil.copy(ruta_origen, ruta_destino)\n",
    "\n",
    "def publicar(practico):\n",
    "    alumnos = cargar_alumos()\n",
    "    for alumno in alumnos.to_dict(orient='records'):\n",
    "        comision = alumno['comision']\n",
    "        carpeta = f\"{alumno['orden']:02} - {alumno['legajo']} - {alumno['apellido']}, {alumno['nombre']}\" \n",
    "        destino = ubicar(comision, 'practicos', carpeta, practico)\n",
    "        copiar_archivos(f'./practicos/{practico}', destino)\n",
    "    for comision in [3,5,7,9]:\n",
    "        destino = ubicar(comision)\n",
    "        shutil.copy(f'./practicos/enunciados/{practico}.md', f\"{destino}/README.md\")\n",
    "\n",
    "\n",
    "publicar('tp1')"
   ]
  }
 ],
 "metadata": {
  "kernelspec": {
   "display_name": "Python 3",
   "language": "python",
   "name": "python3"
  },
  "language_info": {
   "codemirror_mode": {
    "name": "ipython",
    "version": 3
   },
   "file_extension": ".py",
   "mimetype": "text/x-python",
   "name": "python",
   "nbconvert_exporter": "python",
   "pygments_lexer": "ipython3",
   "version": "3.12.5"
  }
 },
 "nbformat": 4,
 "nbformat_minor": 2
}
