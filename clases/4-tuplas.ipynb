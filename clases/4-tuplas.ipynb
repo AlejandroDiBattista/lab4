{
 "cells": [
  {
   "cell_type": "code",
   "execution_count": 5,
   "metadata": {},
   "outputs": [
    {
     "name": "stdout",
     "output_type": "stream",
     "text": [
      "\n",
      "Tupla:  (1, 2, 3, 4, 5, 6, 7, 8, 9, 0)\n",
      "\n",
      "Lista:  [1, 2, 3, 4, 5, 6, 7, 8, 9, 0]\n",
      "\n",
      "Tupla:  (1, 2, 3, 4, 5, 6, 7, 8, 9, 0)\n",
      "\n",
      "Empaquetado de tupla:  (1, 2, 3, 4, 5)\n"
     ]
    }
   ],
   "source": [
    "# Tuplas : Son listas inmutables, es decir, no se pueden modificar\n",
    "\n",
    "tupla = (1, 2, 3, 4, 5, 6, 7, 8, 9, 0) # Se definen con parentesis\n",
    "print(\"\\nTupla: \", tupla)\n",
    "\n",
    "# Convertir una tupla en una lista\n",
    "lista = list(tupla)\n",
    "print(\"\\nLista: \", lista)\n",
    "\n",
    "# Convertir una lista en una tupla\n",
    "tupla = tuple(lista)\n",
    "print(\"\\nTupla: \", tupla)\n",
    "\n",
    "a = 1, 2, 3, 4, 5 # Empaquetado de tupla\n",
    "print(\"\\nEmpaquetado de tupla: \", a)"
   ]
  },
  {
   "cell_type": "code",
   "execution_count": 9,
   "metadata": {},
   "outputs": [
    {
     "name": "stdout",
     "output_type": "stream",
     "text": [
      "\n",
      "Coordenadas:  (5, 4)\n",
      "\n",
      "Division:  3\n",
      "Modulo:      1\n"
     ]
    }
   ],
   "source": [
    "# Caso de uso\n",
    "\n",
    "def coordenadas():\n",
    "    return (5, 4)\n",
    "\n",
    "coordenada = coordenadas()\n",
    "print(\"\\nCoordenadas: \", coordenada)\n",
    "\n",
    "\n",
    "def divmod(a, b):\n",
    "    return a // b, a % b\n",
    "\n",
    "division, modulo = divmod(10, 3)\n",
    "\n",
    "print(\"\\nDivision: \", division)\n",
    "print(\"Modulo:     \", modulo)\n",
    "\n"
   ]
  },
  {
   "cell_type": "code",
   "execution_count": 16,
   "metadata": {},
   "outputs": [
    {
     "name": "stdout",
     "output_type": "stream",
     "text": [
      "\n",
      "Concatenacion de tuplas:  (1, 2, 3, 4, 5, 6, 7, 8, 9, 0)\n",
      "\n",
      "Multiplicacion de tuplas:  (1, 2, 3, 4, 5, 1, 2, 3, 4, 5, 1, 2, 3, 4, 5)\n",
      "\n",
      "Slicing de tuplas:  (3, 4)\n",
      "\n",
      "Tupla anidada:  ((1, 2, 3), (4, 5, 6), (7, 8, 9))\n",
      "Elemento 1,1:  5\n"
     ]
    }
   ],
   "source": [
    "a = (1, 2, 3, 4, 5)\n",
    "b = (6, 7, 8, 9, 0)\n",
    "\n",
    "c = a + b\n",
    "print(\"\\nConcatenacion de tuplas: \", c)\n",
    "\n",
    "d = a * 3\n",
    "print(\"\\nMultiplicacion de tuplas: \", d)\n",
    "\n",
    "c = a[2:4]\n",
    "print(\"\\nSlicing de tuplas: \", c)\n",
    "\n",
    "a = ((1, 2, 3), (4, 5, 6), (7, 8, 9))\n",
    "print(\"\\nTupla anidada: \", a)\n",
    "print(\"Elemento 1,1: \", a[1][1])\n",
    "\n",
    "b = a \n",
    "# b[1] = (0, 0, 0) ERROR porque las tuplas son inmutables"
   ]
  },
  {
   "cell_type": "code",
   "execution_count": 26,
   "metadata": {},
   "outputs": [
    {
     "name": "stdout",
     "output_type": "stream",
     "text": [
      "\n",
      "Desempaquetado de tuplas:  1 2 3\n",
      "\n",
      "Desempaquetado en el medio:  1 [2, 3, 4] 5\n",
      "\n",
      "Desempaquetado al final:  1 [2, 3, 4, 5]\n",
      "\n",
      "Desempaquetado al comienzo:  [1, 2, 3, 4] 5\n",
      "\n",
      "Intercambio de valores (antes)  :  [1, 2, 3, 4] 5\n",
      "\n",
      "Intercambio de valores (despues):  5 [1, 2, 3, 4]\n"
     ]
    }
   ],
   "source": [
    "# Desempaquetado de tuplas\n",
    "a = (1, 2, 3)\n",
    "x, y, z = a\n",
    "print(\"\\nDesempaquetado de tuplas: \", x, y, z)\n",
    "\n",
    "# x,y = a # ERROR porque no hay suficientes variables para desempaquetar\n",
    "# x, y, z, w = a # ERROR porque hay mas variables que elementos\n",
    "\n",
    "# Desempaquetado extendido\n",
    "a = (1, 2, 3, 4, 5)\n",
    "x, *y, z = a\n",
    "print(\"\\nDesempaquetado en el medio: \", x, y, z)\n",
    "\n",
    "x, *y = a\n",
    "print(\"\\nDesempaquetado al final: \", x, y)\n",
    "\n",
    "*x, y = a\n",
    "print(\"\\nDesempaquetado al comienzo: \", x, y)\n",
    "\n",
    "print(\"\\nIntercambio de valores (antes)  : \", x, y)\n",
    "x,y = y,x\n",
    "print(\"\\nIntercambio de valores (despues): \", x, y)\n",
    "\n"
   ]
  },
  {
   "cell_type": "code",
   "execution_count": 34,
   "metadata": {},
   "outputs": [
    {
     "name": "stdout",
     "output_type": "stream",
     "text": [
      "\n",
      "Suma de tuplas:  5\n",
      "\n",
      "Suma de listas:  11\n",
      "\n",
      "Suma de diccionarios:  5\n",
      "\n",
      "Desempaquetado de diccionarios:  xx yy\n"
     ]
    }
   ],
   "source": [
    "def suma(a,b): return a+b\n",
    "\n",
    "x = (2,3)\n",
    "print(\"\\nSuma de tuplas: \", suma(*x)) # Desempaquetado de tuplas\n",
    "\n",
    "x = [5,6]\n",
    "print(\"\\nSuma de listas: \", suma(*x)) # Desempaquetado de listas\n",
    "\n",
    "x = {\"xx\": 2, \"yy\": 3}\n",
    "print(\"\\nSuma de diccionarios: \", suma(*x.values())) # Desempaquetado de diccionarios\n",
    "\n",
    "a, b = x\n",
    "print(\"\\nDesempaquetado de diccionarios: \", a, b)"
   ]
  },
  {
   "cell_type": "code",
   "execution_count": 39,
   "metadata": {},
   "outputs": [
    {
     "name": "stdout",
     "output_type": "stream",
     "text": [
      "\n",
      "Suma de diccionarios:  5\n",
      "\n",
      "Suma de diccionarios:  5\n",
      "\n",
      "Diccionario:  {'b': 20, 'a': 30}\n",
      "\n",
      "Suma de diccionarios:  50\n"
     ]
    }
   ],
   "source": [
    "def suma(a,b): return a+b\n",
    "\n",
    "x = {\"a\": 2, \"b\": 3}\n",
    "print(\"\\nSuma de diccionarios: \", suma(*x.values())) # Desempaquetado de diccionarios\n",
    "print(\"\\nSuma de diccionarios: \", suma(**x)) # Desempaquetado de diccionarios\n",
    "\n",
    "a = dict(b=20, a=30)  \n",
    "print(\"\\nDiccionario: \", a)\n",
    "print(\"\\nSuma de diccionarios: \", suma(**a)) # Desempaquetado de diccionarios\n"
   ]
  }
 ],
 "metadata": {
  "kernelspec": {
   "display_name": "Python 3",
   "language": "python",
   "name": "python3"
  },
  "language_info": {
   "codemirror_mode": {
    "name": "ipython",
    "version": 3
   },
   "file_extension": ".py",
   "mimetype": "text/x-python",
   "name": "python",
   "nbconvert_exporter": "python",
   "pygments_lexer": "ipython3",
   "version": "3.12.5"
  }
 },
 "nbformat": 4,
 "nbformat_minor": 2
}
