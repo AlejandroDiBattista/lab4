{
 "cells": [
  {
   "cell_type": "markdown",
   "metadata": {},
   "source": [
    "#Set (conjuntos)\n",
    "\n",
    "Una colección no ordenada de elementos únicos"
   ]
  },
  {
   "cell_type": "code",
   "execution_count": 8,
   "metadata": {},
   "outputs": [
    {
     "name": "stdout",
     "output_type": "stream",
     "text": [
      "\n",
      "Conjunto a:\n",
      " {1, 2, 3}\n",
      "\n",
      "Conjunto b:\n",
      " {3, 4, 5}\n",
      "\n",
      "Unión de conjuntos a y b:\n",
      " {1, 2, 3, 4, 5}\n",
      "\n",
      "Intersección de conjuntos a y b:\n",
      " {3}\n",
      "\n",
      "Diferencia de conjuntos a y b:\n",
      " {1, 2}\n",
      "\n",
      "Diferencia simétrica de conjuntos a y b:\n",
      " {1, 2, 4, 5}\n"
     ]
    }
   ],
   "source": [
    "# Crear conjuntos\n",
    "a = {1, 2, 3} # Conjunto con tres elementos\n",
    "b = {3, 4, 5} # Conjunto con tres elementos\n",
    "\n",
    "print(\"\\nConjunto a:\\n\", a)\n",
    "print(\"\\nConjunto b:\\n\", b)\n",
    "\n",
    "# c = a + b # Error: no se pueden sumar conjuntos\n",
    "c = a.union(b) # Unión de conjuntos\n",
    "print(\"\\nUnión de conjuntos a y b:\\n\", c) #Todos los elementos de a y b sin repetir\n",
    "\n",
    "# d = a * b # Error: no se pueden multiplicar conjuntos\n",
    "d = a.intersection(b) # Intersección de conjuntos\n",
    "print(\"\\nIntersección de conjuntos a y b:\\n\", d) # Elementos que están en a y en b\n",
    "\n",
    "e = a.difference(b) # Diferencia de conjuntos\n",
    "print(\"\\nDiferencia de conjuntos a y b:\\n\", e) # Elementos que están en a pero no en b\n",
    "\n",
    "f = a.symmetric_difference(b) # Diferencia simétrica de conjuntos\n",
    "print(\"\\nDiferencia simétrica de conjuntos a y b:\\n\", f) # Elementos que están en a o en b pero no en ambos"
   ]
  },
  {
   "cell_type": "code",
   "execution_count": 11,
   "metadata": {},
   "outputs": [
    {
     "name": "stdout",
     "output_type": "stream",
     "text": [
      "\n",
      "Unión de conjuntos a y b (forma abreviada):\n",
      " {1, 2, 3, 4, 5}\n",
      "\n",
      "Intersección de conjuntos a y b (forma abreviada):\n",
      " {3}\n",
      "\n",
      "Diferencia de conjuntos a y b (forma abreviada):\n",
      " {1, 2}\n",
      "\n",
      "Diferencia simétrica de conjuntos a y b (forma abreviada):\n",
      " {1, 2, 4, 5}\n"
     ]
    }
   ],
   "source": [
    "# Forma abreviada de la unión\n",
    "g = a | b\n",
    "print(\"\\nUnión de conjuntos a y b (forma abreviada):\\n\", g)\n",
    "\n",
    "# Forma abreviada de la intersección\n",
    "h = a & b\n",
    "print(\"\\nIntersección de conjuntos a y b (forma abreviada):\\n\", h)\n",
    "\n",
    "# Forma abreviada de la diferencia\n",
    "i = a - b\n",
    "print(\"\\nDiferencia de conjuntos a y b (forma abreviada):\\n\", i)\n",
    "\n",
    "# Forma abreviada de la diferencia simétrica\n",
    "j = a ^ b\n",
    "print(\"\\nDiferencia simétrica de conjuntos a y b (forma abreviada):\\n\", j)"
   ]
  },
  {
   "cell_type": "code",
   "execution_count": 16,
   "metadata": {},
   "outputs": [
    {
     "name": "stdout",
     "output_type": "stream",
     "text": [
      "\n",
      "Conjunto k:\n",
      " {1, 2}\n",
      "\n",
      "¿El conjunto k es subconjunto de a?:\n",
      " True\n",
      "\n",
      "Conjunto l:\n",
      " {1, 2, 3, 4, 5}\n",
      "\n",
      "¿El conjunto l es subconjunto de a?:\n",
      " True\n",
      "\n",
      "Conjunto m:\n",
      " {1, 2, 3, 4, 5}\n",
      "\n",
      "¿El conjunto m es superconjunto de a?:\n",
      " True\n",
      "\n",
      "Conjunto n:\n",
      " {1, 2, 3}\n",
      "\n",
      "Conjunto o:\n",
      " {1, 2, 3}\n",
      "\n",
      "¿El conjunto n es igual al conjunto o?:\n",
      " True\n"
     ]
    }
   ],
   "source": [
    "# Verificar si un conjunto es subconjunto de otro\n",
    "a = {1, 2, 3, 4, 5}\n",
    "k = {1, 2}\n",
    "print(\"\\nConjunto k:\\n\", k)\n",
    "print(\"\\n¿El conjunto k es subconjunto de a?:\\n\", k.issubset(a)) # True\n",
    "\n",
    "l = {1, 2, 3, 4, 5}\n",
    "print(\"\\nConjunto l:\\n\", l)\n",
    "print(\"\\n¿El conjunto l es subconjunto de a?:\\n\", l.issubset(a)) # False\n",
    "\n",
    "# Verificar si un conjunto es superconjunto de otro\n",
    "m = {1, 2, 3, 4, 5}\n",
    "print(\"\\nConjunto m:\\n\", m)\n",
    "print(\"\\n¿El conjunto m es superconjunto de a?:\\n\", m.issuperset(a)) # True\n"
   ]
  },
  {
   "cell_type": "code",
   "execution_count": 22,
   "metadata": {},
   "outputs": [
    {
     "name": "stdout",
     "output_type": "stream",
     "text": [
      "\n",
      "Conjunto n:\n",
      " {1, 2, 3}\n",
      "\n",
      "Conjunto o:\n",
      " {1, 2, 3}\n",
      "\n",
      "¿El conjunto n es igual al conjunto o?:\n",
      " True\n",
      "\n",
      "Conjunto p:\n",
      " {1, 2, 3}\n",
      "\n",
      "Conjunto q:\n",
      " {1, 2, 3}\n",
      "\n",
      "¿El conjunto p es igual al conjunto q?:\n",
      " True\n",
      "\n",
      "Es a < b?:\n",
      " True\n",
      "\n",
      "Es t < u?:\n",
      " False\n"
     ]
    }
   ],
   "source": [
    "\n",
    "# Comparar conjuntos\n",
    "n = {1, 2, 3}\n",
    "o = {1, 2, 3}\n",
    "print(\"\\nConjunto n:\\n\", n)\n",
    "print(\"\\nConjunto o:\\n\", o)\n",
    "print(\"\\n¿El conjunto n es igual al conjunto o?:\\n\", n == o) # True\n",
    "\n",
    "p = {1, 2, 3}\n",
    "q = {3, 2, 1}\n",
    "print(\"\\nConjunto p:\\n\", p)\n",
    "print(\"\\nConjunto q:\\n\", q)\n",
    "print(\"\\n¿El conjunto p es igual al conjunto q?:\\n\", p == q) # True\n",
    "\n",
    "r = {1,2}\n",
    "s = {1,2,3}\n",
    "print(\"\\nEs a < b?:\\n\", r < s) # True\n",
    "\n",
    "t = {1,2,3}\n",
    "u = {1,2,3}\n",
    "print(\"\\nEs t < u?:\\n\", t < u) # False"
   ]
  },
  {
   "cell_type": "code",
   "execution_count": 25,
   "metadata": {},
   "outputs": [
    {
     "name": "stdout",
     "output_type": "stream",
     "text": [
      "\n",
      "Conjunto v:\n",
      " {1, 2, 3}\n",
      "\n",
      "Conjunto v después de agregar el elemento 4:\n",
      " {1, 2, 3, 4}\n",
      "\n",
      "Conjunto v después de agregar el elemento 4 de nuevo:\n",
      " {1, 2, 3, 4}\n"
     ]
    }
   ],
   "source": [
    "# Agregar elementos a un conjunto\n",
    "v = {1, 2, 3}\n",
    "print(\"\\nConjunto v:\\n\", v)\n",
    "v.add(4)\n",
    "print(\"\\nConjunto v después de agregar el elemento 4:\\n\", v)\n",
    "v.add(4) # No se agrega el 4 porque ya existe\n",
    "print(\"\\nConjunto v después de agregar el elemento 4 de nuevo:\\n\", v)"
   ]
  },
  {
   "cell_type": "code",
   "execution_count": 31,
   "metadata": {},
   "outputs": [
    {
     "name": "stdout",
     "output_type": "stream",
     "text": [
      "\n",
      "Conjunto w:\n",
      " {1, 2, 3}\n",
      "\n",
      "Conjunto w después de borrar el elemento 2:\n",
      " {1, 3}\n",
      "\n",
      "Conjunto w después de borrar el elemento 4 con discard:\n",
      " {1, 3}\n",
      "\n",
      "Conjunto w después de borrar el elemento 2 si existe:\n",
      " {1, 3}\n"
     ]
    }
   ],
   "source": [
    "# Borrar elementos de un conjunto\n",
    "w = {1, 2, 3}\n",
    "print(\"\\nConjunto w:\\n\", w)\n",
    "w.remove(2)\n",
    "print(\"\\nConjunto w después de borrar el elemento 2:\\n\", w)\n",
    "\n",
    "# w.remove(4) # Error: el elemento 4 no existe en el conjunto\n",
    "w.discard(4) # No se produce error\n",
    "print(\"\\nConjunto w después de borrar el elemento 4 con discard:\\n\", w)\n",
    "\n",
    "if 2 in w:\n",
    "    w.remove(2) # Borrar el 2 si existe\n",
    "print(\"\\nConjunto w después de borrar el elemento 2 si existe:\\n\", w)"
   ]
  },
  {
   "cell_type": "code",
   "execution_count": 35,
   "metadata": {},
   "outputs": [
    {
     "name": "stdout",
     "output_type": "stream",
     "text": [
      "\n",
      "Conjunto x:\n",
      " {1, 2, 3}\n",
      "1\n",
      "2\n",
      "3\n",
      "\n",
      "Conjunto x después de borrar un elemento con pop:\n",
      " {2, 3}\n"
     ]
    }
   ],
   "source": [
    "# Recorrer un conjunto\n",
    "x = {1, 2, 3}\n",
    "\n",
    "print(\"\\nConjunto x:\\n\", x)\n",
    "for elemento in x:\n",
    "    print(elemento)\n",
    "\n",
    "# Vaciar un conjunto\n",
    "x.pop() # No se puede especificar el elemento a borrar\n",
    "print(\"\\nConjunto x después de borrar un elemento con pop:\\n\", x)"
   ]
  },
  {
   "cell_type": "code",
   "execution_count": 41,
   "metadata": {},
   "outputs": [
    {
     "name": "stdout",
     "output_type": "stream",
     "text": [
      "\n",
      " Conjunto a:\n",
      " {0, 1, 2, 3, 4, 5, 6, 7, 8, 9, 10, 11, 12, 13, 14, 15, 16, 17, 18, 19}\n",
      "\n",
      " Conjunto b:\n",
      " {1, 2, 3}\n",
      "\n",
      " Conjunto c:\n",
      " {' ', 'n', 'u', 'd', 'l', 'a', 'o', 'H', 'M'}\n"
     ]
    }
   ],
   "source": [
    "a = set(range(20))\n",
    "print('\\n Conjunto a:\\n', a)\n",
    "\n",
    "b = set([1,2,1,3,2,3])\n",
    "print('\\n Conjunto b:\\n', b)\n",
    "\n",
    "c = set('Hola Mundo')\n",
    "print('\\n Conjunto c:\\n', c)\n",
    "\n"
   ]
  },
  {
   "cell_type": "code",
   "execution_count": 43,
   "metadata": {},
   "outputs": [
    {
     "name": "stdout",
     "output_type": "stream",
     "text": [
      "\n",
      "Texto sin vocales:\n",
      " Hl Mnd\n",
      "\n",
      "Texto sin vocales (forma compacta):\n",
      " Hl Mnd\n"
     ]
    }
   ],
   "source": [
    "# Eliminar las vocales de un texto\n",
    "texto = \"Hola Mundo\"\n",
    "vocales = {'a', 'e', 'i', 'o', 'u'}\n",
    "\n",
    "lista = []\n",
    "for letra in texto:\n",
    "    if letra.lower() not in vocales:\n",
    "        lista.append(letra)\n",
    "\n",
    "texto_sin_vocales = ''.join(lista)\n",
    "print(\"\\nTexto sin vocales:\\n\", texto_sin_vocales)\n",
    "\n",
    "# Forma más compacta\n",
    "texto_sin_vocales = ''.join([letra for letra in texto if letra.lower() not in vocales])\n",
    "print(\"\\nTexto sin vocales (forma compacta):\\n\", texto_sin_vocales)"
   ]
  }
 ],
 "metadata": {
  "kernelspec": {
   "display_name": "Python 3",
   "language": "python",
   "name": "python3"
  },
  "language_info": {
   "codemirror_mode": {
    "name": "ipython",
    "version": 3
   },
   "file_extension": ".py",
   "mimetype": "text/x-python",
   "name": "python",
   "nbconvert_exporter": "python",
   "pygments_lexer": "ipython3",
   "version": "3.12.5"
  }
 },
 "nbformat": 4,
 "nbformat_minor": 2
}
