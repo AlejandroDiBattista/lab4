{
 "cells": [
  {
   "cell_type": "code",
   "execution_count": 7,
   "metadata": {},
   "outputs": [
    {
     "name": "stdout",
     "output_type": "stream",
     "text": [
      "\n",
      "Set a:\n",
      " {1, 2, 3, 4, 5}\n",
      "\n",
      "Set a:\n",
      " {1, 2, 3}\n",
      "\n",
      "Conjunto vacio:\n",
      " set()\n",
      "\n",
      "Set a:\n",
      " {1, 2, 3, 4, 5}\n",
      "\n",
      "Set a:\n",
      " {'d', 'l', 'a', 'h', 'o', ' ', 'u', 'm', 'n'}\n"
     ]
    }
   ],
   "source": [
    "# Crear set \n",
    "\n",
    "a = {1, 2, 3, 4, 5}\n",
    "print('\\nSet a:\\n', a)\n",
    "\n",
    "a = {1, 1, 1, 1, 2, 2, 2, 2, 3, 3, 3}\n",
    "print('\\nSet a:\\n', a)\n",
    "\n",
    "# Crear set vacio\n",
    "a = set()\n",
    "print('\\nConjunto vacio:\\n', a)\n",
    "\n",
    "# Crear set a partir de una lista\n",
    "a = set([1, 2, 3, 4, 5, 4, 3, 2, 1])\n",
    "print('\\nSet a:\\n', a)\n",
    "\n",
    "# Crear set a partir de una cadena\n",
    "a = set('hola mundo')\n",
    "print('\\nSet a:\\n', a)"
   ]
  },
  {
   "cell_type": "code",
   "execution_count": 14,
   "metadata": {},
   "outputs": [
    {
     "name": "stdout",
     "output_type": "stream",
     "text": [
      "d l a h o   u m n \n",
      "\n",
      "Conjunto a:\n",
      " {'d', 'l', 'a', 'h', 'o', ' ', 'u', 'm', 'n'}\n",
      "\n",
      " \"a\" in a: True\n",
      "\n",
      " \"a\" not in a: False\n"
     ]
    }
   ],
   "source": [
    "a = set('hola mundo hola mundo')\n",
    "for i in a:\n",
    "    print(i, end=' ')\n",
    "print()\n",
    "print('\\nConjunto a:\\n', a)\n",
    "\n",
    "b = 'a' in a\n",
    "print('\\n \"a\" in a:', b)\n",
    "\n",
    "b = 'a' not in a\n",
    "print('\\n \"a\" not in a:', b)"
   ]
  },
  {
   "cell_type": "code",
   "execution_count": 21,
   "metadata": {},
   "outputs": [
    {
     "name": "stdout",
     "output_type": "stream",
     "text": [
      "\n",
      "Union de a y b: {1, 2, 3, 4, 5}\n",
      "Union de a y b: {1, 2, 3, 4, 5}\n",
      "\n",
      "Interseccion de a y b: {3}\n",
      "Interseccion de a y b: {3}\n",
      "\n",
      "Diferencia de a y b: {1, 2}\n",
      "Diferencia de a y b: {1, 2}\n",
      "\n",
      "Diferencia simetrica de a y b: {1, 2, 4, 5}\n",
      "Diferencia simetrica de a y b: {1, 2, 4, 5}\n"
     ]
    }
   ],
   "source": [
    "a = {1, 2, 3}\n",
    "b = {3, 4, 5}\n",
    "\n",
    "c = a.union(b)\n",
    "print('\\nUnion de a y b:', c) # En ambos conjuntos no se repiten los elementos\n",
    "c = a | b\n",
    "print('Union de a y b:', c) # En ambos conjuntos no se repiten los elementos\n",
    "\n",
    "c = a.intersection(b)\n",
    "print('\\nInterseccion de a y b:', c) # Solo se toman los elementos que estan en ambos conjuntos\n",
    "c = a & b\n",
    "print('Interseccion de a y b:', c) # Solo se toman los elementos que estan en ambos conjuntos\n",
    "\n",
    "c = a.difference(b)\n",
    "print('\\nDiferencia de a y b:', c) # Solo se toman los elementos que estan en a y no en b\n",
    "c = a - b\n",
    "print('Diferencia de a y b:', c) # Solo se toman los elementos que estan en a y no en b\n",
    "\n",
    "c = a.symmetric_difference(b)\n",
    "print('\\nDiferencia simetrica de a y b:', c) # Solo se toman los elementos que estan en a y no en b y viceversa\n",
    "c = a ^ b\n",
    "print('Diferencia simetrica de a y b:', c) # Solo se toman los elementos que estan en a y no en b y viceversa\n"
   ]
  },
  {
   "cell_type": "code",
   "execution_count": 24,
   "metadata": {},
   "outputs": [
    {
     "name": "stdout",
     "output_type": "stream",
     "text": [
      "\n",
      " a es superconjunto de b: True\n",
      " a es superconjunto de b: True\n",
      "\n",
      " a es subconjunto de b: False\n",
      " a es subconjunto de b: False\n"
     ]
    }
   ],
   "source": [
    "# Comparacion de conjuntos\n",
    "a = {1, 2, 3}\n",
    "b = {1, 2}\n",
    "\n",
    "c = a.issuperset(b)\n",
    "print('\\n a es superconjunto de b:', c)\n",
    "c = a >= b\n",
    "print(' a es superconjunto de b:', c)\n",
    "\n",
    "c = a.issubset(b)\n",
    "print('\\n a es subconjunto de b:', c)\n",
    "c = a <= b\n",
    "print(' a es subconjunto de b:', c)"
   ]
  }
 ],
 "metadata": {
  "kernelspec": {
   "display_name": "Python 3",
   "language": "python",
   "name": "python3"
  },
  "language_info": {
   "codemirror_mode": {
    "name": "ipython",
    "version": 3
   },
   "file_extension": ".py",
   "mimetype": "text/x-python",
   "name": "python",
   "nbconvert_exporter": "python",
   "pygments_lexer": "ipython3",
   "version": "3.12.5"
  }
 },
 "nbformat": 4,
 "nbformat_minor": 2
}
