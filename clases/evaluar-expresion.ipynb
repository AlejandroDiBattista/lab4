{
 "cells": [
  {
   "cell_type": "code",
   "execution_count": 26,
   "metadata": {},
   "outputs": [
    {
     "name": "stdout",
     "output_type": "stream",
     "text": [
      "[10, '+', '(', 25, '*', '(', 3, '+', 4, ')', '+', 5, '*', 3, ')']\n",
      "['10', '+', '(', '25', '*', '(', '3', '+', '4', ')', '+', '5', '*', '3', ')']\n",
      "200\n",
      "200\n"
     ]
    }
   ],
   "source": [
    "#TP2\n",
    "import re \n",
    "\n",
    "def tokenizar(e):\n",
    "    salida = []\n",
    "    num = ''\n",
    "    for c in e:\n",
    "        if c.isnumeric():\n",
    "            num += c\n",
    "            continue\n",
    "        if num != '': \n",
    "            salida.append(int(num))\n",
    "            num = ''\n",
    "        salida.append(c)\n",
    "    if num != '': salida.append(int(num))\n",
    "    return salida\n",
    "\n",
    "def evaluar(t):\n",
    "\n",
    "    def reducir_parentesis():\n",
    "        for i, c in enumerate(t):\n",
    "            if c == '(':\n",
    "                desde = i\n",
    "            if c == ')':\n",
    "                hasta  = i\n",
    "                break\n",
    "        t[desde:hasta+1] = [evaluar(t[desde+1:hasta])] #Reemplaza el parentesis por el resultado de evaluar lo que hay adentro\n",
    "\n",
    "    def reducir_productos():\n",
    "        i = t.index('*')\n",
    "        t[i-1:i+2] = [t[i-1] * t[i+1]] # Reemplaza el producto por el resultado de multiplicar los dos numeros\n",
    "\n",
    "    def reducir_sumas():\n",
    "        i = t.index('+')\n",
    "        t[i-1:i+2] = [t[i-1] + t[i+1]]  # Reemplaza la suma por el resultado de sumar los dos numeros\n",
    "\n",
    "    while '(' in t: reducir_parentesis() # Deja la expresion sin parentesis\n",
    "    while '*' in t: reducir_productos()  # Deja la expresion sin multiplicaciones\n",
    "    while '+' in t: reducir_sumas()      # Deja la expresion sin sumas\n",
    "        \n",
    "    return t[0] # Queda un solo numero que es el resultado de la expresion\n",
    "\n",
    "e = '10+(25*(3+4)+5*3)'\n",
    "t = re.findall(r'\\d+|\\D', e)\n",
    "\n",
    "print(tokenizar(e))\n",
    "print(t)\n",
    "\n",
    "print(evaluar(tokenizar(e)))\n",
    "print(eval(e))\n"
   ]
  },
  {
   "cell_type": "code",
   "execution_count": null,
   "metadata": {},
   "outputs": [],
   "source": []
  }
 ],
 "metadata": {
  "kernelspec": {
   "display_name": "Python 3",
   "language": "python",
   "name": "python3"
  },
  "language_info": {
   "codemirror_mode": {
    "name": "ipython",
    "version": 3
   },
   "file_extension": ".py",
   "mimetype": "text/x-python",
   "name": "python",
   "nbconvert_exporter": "python",
   "pygments_lexer": "ipython3",
   "version": "3.12.5"
  }
 },
 "nbformat": 4,
 "nbformat_minor": 2
}
