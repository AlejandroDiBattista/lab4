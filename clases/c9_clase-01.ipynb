{
 "cells": [
  {
   "cell_type": "markdown",
   "metadata": {},
   "source": [
    "# Demo Python\n",
    "## C9 - Clase 1 - 26/04"
   ]
  },
  {
   "cell_type": "code",
   "execution_count": 1,
   "metadata": {},
   "outputs": [
    {
     "name": "stdout",
     "output_type": "stream",
     "text": [
      "6\n",
      "2 * 3 = 6\n",
      "2*3=6\n",
      " 2.00 * 3 =          6\n"
     ]
    }
   ],
   "source": [
    "a=2\n",
    "b=3\n",
    "\n",
    "print(a*b) #JS => console.log(a*b)\n",
    "print(a,\"*\",b,\"=\",a*b) #JS => console.log(a,\"*\",b,\"=\",a*b)\n",
    "\n",
    "texto = str(a) + \"*\" + str(b) + \"=\" + str(a*b)\n",
    "  \n",
    "print(texto)\n",
    "\n",
    "texto = f\"{a:5.2f} * {b} = {a*b:10}\"\n",
    "#JS => texto = `${a} * ${b} = ${a*b}`\n",
    "print(texto)"
   ]
  },
  {
   "cell_type": "markdown",
   "metadata": {},
   "source": [
    "Probemos un for"
   ]
  },
  {
   "cell_type": "code",
   "execution_count": 1,
   "metadata": {},
   "outputs": [
    {
     "name": "stdout",
     "output_type": "stream",
     "text": [
      "Tabla del 3\n",
      " 3 *  1 =   3\n",
      " 3 *  2 =   6\n",
      " 3 *  3 =   9\n",
      "Tabla del 5\n",
      " 5 *  1 =   5\n",
      " 5 *  2 =  10\n",
      " 5 *  3 =  15\n",
      "Tabla del 9\n",
      " 9 *  1 =   9\n",
      " 9 *  2 =  18\n",
      " 9 *  3 =  27\n"
     ]
    }
   ],
   "source": [
    "for n in [3,5,9]:\n",
    "    print(f\"Tabla del {n}\")\n",
    "    rango = range(1,4)\n",
    "    for i in rango: #JS => for(let i=1; i<11; i++)\n",
    "        print(f\"{n:2} * {i:2} = {n*i:3}\")"
   ]
  },
  {
   "cell_type": "code",
   "execution_count": 2,
   "metadata": {},
   "outputs": [
    {
     "name": "stdout",
     "output_type": "stream",
     "text": [
      "Tabla del 3\n",
      " 3 *  1 =   3\n",
      " 3 *  2 =   6\n",
      " 3 *  3 =   9\n",
      " 3 *  4 =  12\n",
      "Tabla del 5\n",
      " 5 *  1 =   5\n",
      " 5 *  2 =  10\n",
      " 5 *  3 =  15\n",
      " 5 *  4 =  20\n",
      "Tabla del 9\n",
      " 9 *  1 =   9\n",
      " 9 *  2 =  18\n",
      " 9 *  3 =  27\n",
      " 9 *  4 =  36\n",
      " 9 *  5 =  45\n",
      "Tabla del 7\n",
      " 7 *  1 =   7\n",
      " 7 *  2 =  14\n",
      " 7 *  3 =  21\n"
     ]
    }
   ],
   "source": [
    "def tabla(n, cantidad=3):\n",
    "    print(f\"Tabla del {n}\")\n",
    "    for i in range(1, cantidad+1):\n",
    "        print(f\"{n:2} * {i:2} = {n*i:3}\")\n",
    "\n",
    "tabla(3,4)\n",
    "tabla(5,cantidad=4)\n",
    "tabla(cantidad=5,n=9)\n",
    "tabla(7)"
   ]
  },
  {
   "cell_type": "code",
   "execution_count": 3,
   "metadata": {},
   "outputs": [
    {
     "name": "stdout",
     "output_type": "stream",
     "text": [
      "0 1 2 3 4 5 6 7 8 9 \n",
      "1 2 3 4 5 6 7 8 9 \n",
      "1 4 7 \n"
     ]
    }
   ],
   "source": [
    "for i in range(10):\n",
    "    print(i, end=\" \")\n",
    "print()\n",
    "\n",
    "for i in range(1,10):\n",
    "    print(i, end=\" \")\n",
    "print()\n",
    "\n",
    "for i in range(1,10,3):\n",
    "    print(i, end=r\" \")\n",
    "print()"
   ]
  },
  {
   "cell_type": "code",
   "execution_count": 4,
   "metadata": {},
   "outputs": [
    {
     "name": "stdout",
     "output_type": "stream",
     "text": [
      "1.000  0.500  0.333  0.250  0.200  0.167  0.143  0.125  0.111  0.100\n",
      "2.000  1.000  0.667  0.500  0.400  0.333  0.286  0.250  0.222  0.200\n",
      "3.000  1.500  1.000  0.750  0.600  0.500  0.429  0.375  0.333  0.300\n",
      "4.000  2.000  1.333  1.000  0.800  0.667  0.571  0.500  0.444  0.400\n",
      "5.000  2.500  1.667  1.250  1.000  0.833  0.714  0.625  0.556  0.500\n",
      "6.000  3.000  2.000  1.500  1.200  1.000  0.857  0.750  0.667  0.600\n",
      "7.000  3.500  2.333  1.750  1.400  1.167  1.000  0.875  0.778  0.700\n",
      "8.000  4.000  2.667  2.000  1.600  1.333  1.143  1.000  0.889  0.800\n",
      "9.000  4.500  3.000  2.250  1.800  1.500  1.286  1.125  1.000  0.900\n",
      "10.000  5.000  3.333  2.500  2.000  1.667  1.429  1.250  1.111  1.000\n"
     ]
    }
   ],
   "source": [
    "def tabla(n, operador=\"*\", cantidad=10, formato=3):\n",
    "    fila = []\n",
    "    for i in range(1, cantidad+1):\n",
    "        if operador == \"*\":\n",
    "            r = n*i\n",
    "        elif operador == \"+\":\n",
    "            r = n+i\n",
    "        elif operador == \"-\":\n",
    "            r = n-i\n",
    "        elif operador == \"/\":\n",
    "            r = n/i\n",
    "        else:\n",
    "            r = None\n",
    "        fila.append(f\"{r:{formato}}\")\n",
    "    print(\"  \".join(fila))\n",
    "\n",
    "\n",
    "for n in range(1,11):\n",
    "    tabla(n, operador=\"/\", formato=\"5.3f\")"
   ]
  },
  {
   "cell_type": "code",
   "execution_count": 5,
   "metadata": {},
   "outputs": [
    {
     "name": "stdout",
     "output_type": "stream",
     "text": [
      "5 % 1 = 0\n",
      "5 % 2 = 1\n",
      "5 % 3 = 2\n",
      "5 % 4 = 1\n",
      "5 % 5 = 0\n",
      "5 % 6 = 5\n",
      "5 % 7 = 5\n",
      "5 % 8 = 5\n",
      "5 % 9 = 5\n",
      "5 % 10 = 5\n"
     ]
    }
   ],
   "source": [
    "def tabla(n,operador):\n",
    "    for i in range(1,11):\n",
    "        r = eval(f\"{n}{operador}{i}\")\n",
    "        print(f\"{n} {operador} {i} = {r}\")\n",
    "tabla(5,\"%\")"
   ]
  },
  {
   "cell_type": "code",
   "execution_count": null,
   "metadata": {},
   "outputs": [],
   "source": [
    "def tabla(n, funcion=lambda x,y:x*y, cantidad=10, formato=3):\n",
    "    fila = []\n",
    "    for i in range(1, cantidad+1):\n",
    "        r = funcion(n,i)\n",
    "        fila.append(f\"{r:{formato}}\")\n",
    "    print(\"  \".join(fila))\n",
    "\n",
    "def multiplicar(a,b):\n",
    "    return a*b\n",
    "\n",
    "# def sumar(a,b):\n",
    "#     return a+b\n",
    "\n",
    "sumar = lambda a,b: a+b #JS => const sumar = (a,b) => a+b\n",
    "\n",
    "def f(a,b):\n",
    "    return 3*a + 2*b\n",
    "\n",
    "tabla(5)"
   ]
  },
  {
   "cell_type": "code",
   "execution_count": null,
   "metadata": {},
   "outputs": [],
   "source": [
    "import numpy as np\n",
    "x = np.arange(1,11)\n",
    "x = np.linspace(-3,3,21)\n",
    "def f(x):\n",
    "    return 3*x*x - 4 * x + 2\n",
    "    \n",
    "y = 3 * x * x - 4 * x + 2\n",
    "print(x)\n",
    "print(f(4))\n",
    "print(f(x))"
   ]
  },
  {
   "cell_type": "code",
   "execution_count": 4,
   "metadata": {},
   "outputs": [
    {
     "ename": "ModuleNotFoundError",
     "evalue": "No module named 'matplotlib'",
     "output_type": "error",
     "traceback": [
      "\u001b[0;31m---------------------------------------------------------------------------\u001b[0m",
      "\u001b[0;31mModuleNotFoundError\u001b[0m                       Traceback (most recent call last)",
      "Cell \u001b[0;32mIn[4], line 1\u001b[0m\n\u001b[0;32m----> 1\u001b[0m \u001b[38;5;28;01mimport\u001b[39;00m \u001b[38;5;21;01mmatplotlib\u001b[39;00m\u001b[38;5;21;01m.\u001b[39;00m\u001b[38;5;21;01mpyplot\u001b[39;00m \u001b[38;5;28;01mas\u001b[39;00m \u001b[38;5;21;01mplt\u001b[39;00m\n\u001b[1;32m      2\u001b[0m \u001b[38;5;28;01mimport\u001b[39;00m \u001b[38;5;21;01mnumpy\u001b[39;00m \u001b[38;5;28;01mas\u001b[39;00m \u001b[38;5;21;01mnp\u001b[39;00m\n\u001b[1;32m      3\u001b[0m x \u001b[38;5;241m=\u001b[39m np\u001b[38;5;241m.\u001b[39mlinspace(\u001b[38;5;241m-\u001b[39m\u001b[38;5;241m3\u001b[39m,\u001b[38;5;241m3\u001b[39m,\u001b[38;5;241m21\u001b[39m)\n",
      "\u001b[0;31mModuleNotFoundError\u001b[0m: No module named 'matplotlib'"
     ]
    }
   ],
   "source": [
    "import matplotlib.pyplot as plt\n",
    "import numpy as np\n",
    "x = np.linspace(-3,3,21)\n",
    "y = 3 * x * x - 4 * x + 2\n",
    "plt.plot(x,y)"
   ]
  },
  {
   "cell_type": "code",
   "execution_count": 2,
   "metadata": {},
   "outputs": [
    {
     "ename": "ModuleNotFoundError",
     "evalue": "No module named 'matplotlib'",
     "output_type": "error",
     "traceback": [
      "\u001b[0;31m---------------------------------------------------------------------------\u001b[0m",
      "\u001b[0;31mModuleNotFoundError\u001b[0m                       Traceback (most recent call last)",
      "Cell \u001b[0;32mIn[2], line 2\u001b[0m\n\u001b[1;32m      1\u001b[0m \u001b[38;5;28;01mimport\u001b[39;00m \u001b[38;5;21;01mnumpy\u001b[39;00m \u001b[38;5;28;01mas\u001b[39;00m \u001b[38;5;21;01mnp\u001b[39;00m\n\u001b[0;32m----> 2\u001b[0m \u001b[38;5;28;01mimport\u001b[39;00m \u001b[38;5;21;01mmatplotlib\u001b[39;00m\u001b[38;5;21;01m.\u001b[39;00m\u001b[38;5;21;01mpyplot\u001b[39;00m \u001b[38;5;28;01mas\u001b[39;00m \u001b[38;5;21;01mplt\u001b[39;00m\n\u001b[1;32m      3\u001b[0m \u001b[38;5;28;01mfrom\u001b[39;00m \u001b[38;5;21;01mmpl_toolkits\u001b[39;00m\u001b[38;5;21;01m.\u001b[39;00m\u001b[38;5;21;01mmplot3d\u001b[39;00m \u001b[38;5;28;01mimport\u001b[39;00m Axes3D\n\u001b[1;32m      5\u001b[0m \u001b[38;5;28;01mdef\u001b[39;00m \u001b[38;5;21mgraficar_funcion_3D\u001b[39m():\n\u001b[1;32m      6\u001b[0m     \u001b[38;5;66;03m# Definir el rango de X y Y\u001b[39;00m\n",
      "\u001b[0;31mModuleNotFoundError\u001b[0m: No module named 'matplotlib'"
     ]
    }
   ],
   "source": [
    "import numpy as np\n",
    "import matplotlib.pyplot as plt\n",
    "from mpl_toolkits.mplot3d import Axes3D\n",
    "\n",
    "def graficar_funcion_3D():\n",
    "    # Definir el rango de X y Y\n",
    "    X = np.linspace(-np.pi, np.pi, 400)\n",
    "    Y = np.linspace(-10, 10, 400)\n",
    "\n",
    "    # Crear una malla de valores para X y Y\n",
    "    X, Y = np.meshgrid(X, Y)\n",
    "\n",
    "    # Definir Z como la función dada\n",
    "    Z = np.sin(2 * X) + np.cos(Y) / 3\n",
    "\n",
    "    # Crear la figura y el objeto Axes 3D\n",
    "    fig = plt.figure(figsize=(10, 8))\n",
    "    ax = fig.add_subplot(111, projection='3d')\n",
    "\n",
    "    # Graficar la superficie 3D\n",
    "    ax.plot_surface(X, Y, Z, cmap='viridis')\n",
    "\n",
    "    \n",
    "    # Mostrar la gráfica\n",
    "    plt.show()\n",
    "\n",
    "# Llamar a la función para graficar\n",
    "graficar_funcion_3D()\n"
   ]
  }
 ],
 "metadata": {
  "kernelspec": {
   "display_name": "Python 3",
   "language": "python",
   "name": "python3"
  },
  "language_info": {
   "codemirror_mode": {
    "name": "ipython",
    "version": 3
   },
   "file_extension": ".py",
   "mimetype": "text/x-python",
   "name": "python",
   "nbconvert_exporter": "python",
   "pygments_lexer": "ipython3",
   "version": "3.9.6"
  }
 },
 "nbformat": 4,
 "nbformat_minor": 2
}
