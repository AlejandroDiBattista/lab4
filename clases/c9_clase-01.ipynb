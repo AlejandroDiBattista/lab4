{
 "cells": [
  {
   "cell_type": "markdown",
   "metadata": {},
   "source": [
    "# Demo Python\n",
    "## C9 - Clase 1 - 26/04"
   ]
  },
  {
   "cell_type": "code",
   "execution_count": null,
   "metadata": {},
   "outputs": [],
   "source": [
    "a=2\n",
    "b=3\n",
    "\n",
    "print(a*b) #JS => console.log(a*b)\n",
    "print(a,\"*\",b,\"=\",a*b) #JS => console.log(a,\"*\",b,\"=\",a*b)\n",
    "\n",
    "texto = str(a) + \"*\" + str(b) + \"=\" + str(a*b)\n",
    "  \n",
    "print(texto)\n",
    "\n",
    "texto = f\"{a:5.2f} * {b} = {a*b:10}\"\n",
    "#JS => texto = `${a} * ${b} = ${a*b}`\n",
    "print(texto)"
   ]
  },
  {
   "cell_type": "markdown",
   "metadata": {},
   "source": [
    "Probemos un for"
   ]
  },
  {
   "cell_type": "code",
   "execution_count": null,
   "metadata": {},
   "outputs": [],
   "source": [
    "for n in [3,5,9]:\n",
    "    print(f\"Tabla del {n}\")\n",
    "    rango = range(1,4)\n",
    "    for i in rango: #JS => for(let i=1; i<11; i++)\n",
    "        print(f\"{n:2} * {i:2} = {n*i:3}\")"
   ]
  },
  {
   "cell_type": "code",
   "execution_count": null,
   "metadata": {},
   "outputs": [],
   "source": [
    "def tabla(n, cantidad=3):\n",
    "    print(f\"Tabla del {n}\")\n",
    "    for i in range(1, cantidad+1):\n",
    "        print(f\"{n:2} * {i:2} = {n*i:3}\")\n",
    "\n",
    "tabla(3,4)\n",
    "tabla(5,cantidad=4)\n",
    "tabla(cantidad=5,n=9)\n",
    "tabla(7)"
   ]
  },
  {
   "cell_type": "code",
   "execution_count": null,
   "metadata": {},
   "outputs": [],
   "source": [
    "for i in range(10):\n",
    "    print(i, end=\" \")\n",
    "print()\n",
    "\n",
    "for i in range(1,10):\n",
    "    print(i, end=\" \")\n",
    "print()\n",
    "\n",
    "for i in range(1,10,3):\n",
    "    print(i, end=r\" \")\n",
    "print()"
   ]
  },
  {
   "cell_type": "code",
   "execution_count": null,
   "metadata": {},
   "outputs": [],
   "source": [
    "def tabla(n, operador=\"*\", cantidad=10, formato=3):\n",
    "    fila = []\n",
    "    for i in range(1, cantidad+1):\n",
    "        if operador == \"*\":\n",
    "            r = n*i\n",
    "        elif operador == \"+\":\n",
    "            r = n+i\n",
    "        elif operador == \"-\":\n",
    "            r = n-i\n",
    "        elif operador == \"/\":\n",
    "            r = n/i\n",
    "        else:\n",
    "            r = None\n",
    "        fila.append(f\"{r:{formato}}\")\n",
    "    print(\"  \".join(fila))\n",
    "\n",
    "\n",
    "for n in range(1,11):\n",
    "    tabla(n, operador=\"/\", formato=\"5.3f\")"
   ]
  },
  {
   "cell_type": "code",
   "execution_count": null,
   "metadata": {},
   "outputs": [],
   "source": [
    "def tabla(n,operador):\n",
    "    for i in range(1,11):\n",
    "        r = eval(f\"{n}{operador}{i}\")\n",
    "        print(f\"{n} {operador} {i} = {r}\")\n",
    "tabla(5,\"%\")"
   ]
  },
  {
   "cell_type": "code",
   "execution_count": null,
   "metadata": {},
   "outputs": [],
   "source": [
    "def tabla(n, funcion=lambda x,y:x*y, cantidad=10, formato=3):\n",
    "    fila = []\n",
    "    for i in range(1, cantidad+1):\n",
    "        r = funcion(n,i)\n",
    "        fila.append(f\"{r:{formato}}\")\n",
    "    print(\"  \".join(fila))\n",
    "\n",
    "def multiplicar(a,b):\n",
    "    return a*b\n",
    "\n",
    "# def sumar(a,b):\n",
    "#     return a+b\n",
    "\n",
    "sumar = lambda a,b: a+b #JS => const sumar = (a,b) => a+b\n",
    "\n",
    "def f(a,b):\n",
    "    return 3*a + 2*b\n",
    "\n",
    "tabla(5)"
   ]
  },
  {
   "cell_type": "code",
   "execution_count": null,
   "metadata": {},
   "outputs": [],
   "source": [
    "import numpy as np\n",
    "x = np.arange(1,11)\n",
    "x = np.linspace(-3,3,21)\n",
    "def f(x):\n",
    "    return 3*x*x - 4 * x + 2\n",
    "    \n",
    "y = 3 * x * x - 4 * x + 2\n",
    "print(x)\n",
    "print(f(4))\n",
    "print(f(x))"
   ]
  },
  {
   "cell_type": "code",
   "execution_count": null,
   "metadata": {},
   "outputs": [],
   "source": [
    "% matplotlib inline\n",
    "import matplotlib.pyplot as plt\n",
    "import numpy as np\n",
    "x = np.linspace(-3,3,21)\n",
    "y = 3 * x * x - 4 * x + 2\n",
    "plt.plot(x,y)"
   ]
  },
  {
   "cell_type": "code",
   "execution_count": null,
   "metadata": {},
   "outputs": [],
   "source": [
    "import numpy as np\n",
    "import matplotlib.pyplot as plt\n",
    "from mpl_toolkits.mplot3d import Axes3D\n",
    "\n",
    "def graficar_funcion_3D():\n",
    "    # Definir el rango de X y Y\n",
    "    X = np.linspace(-np.pi, np.pi, 400)\n",
    "    Y = np.linspace(-10, 10, 400)\n",
    "\n",
    "    # Crear una malla de valores para X y Y\n",
    "    X, Y = np.meshgrid(X, Y)\n",
    "\n",
    "    # Definir Z como la función dada\n",
    "    Z = np.sin(2 * X) + np.cos(Y) / 3\n",
    "\n",
    "    # Crear la figura y el objeto Axes 3D\n",
    "    fig = plt.figure(figsize=(10, 8))\n",
    "    ax = fig.add_subplot(111, projection='3d')\n",
    "\n",
    "    # Graficar la superficie 3D\n",
    "    ax.plot_surface(X, Y, Z, cmap='viridis')\n",
    "\n",
    "    \n",
    "    # Mostrar la gráfica\n",
    "    plt.show()\n",
    "\n",
    "# Llamar a la función para graficar\n",
    "graficar_funcion_3D()\n"
   ]
  }
 ],
 "metadata": {
  "kernelspec": {
   "display_name": "Python 3",
   "language": "python",
   "name": "python3"
  },
  "language_info": {
   "codemirror_mode": {
    "name": "ipython",
    "version": 3
   },
   "file_extension": ".py",
   "mimetype": "text/x-python",
   "name": "python",
   "nbconvert_exporter": "python",
   "pygments_lexer": "ipython3",
   "version": "3.12.5"
  }
 },
 "nbformat": 4,
 "nbformat_minor": 2
}
