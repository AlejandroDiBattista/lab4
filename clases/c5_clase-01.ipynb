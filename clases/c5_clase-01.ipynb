{
 "cells": [
  {
   "cell_type": "markdown",
   "metadata": {},
   "source": [
    "# Demo de Python\n"
   ]
  },
  {
   "cell_type": "code",
   "execution_count": 53,
   "metadata": {},
   "outputs": [
    {
     "name": "stdout",
     "output_type": "stream",
     "text": [
      "6\n",
      "2 * 3 = 6\n",
      "2 * 3 = 6\n"
     ]
    }
   ],
   "source": [
    "print(2*3) # JS => console.log(2*3)\n",
    "\n",
    "a = 2\n",
    "b = 3\n",
    "print(a,\"*\",b,\"=\",a*b)\n",
    "texto = str(a) + \" * \" + str(b) + \" = \" + str(a*b)\n",
    "print(texto)"
   ]
  },
  {
   "cell_type": "code",
   "execution_count": 9,
   "metadata": {},
   "outputs": [
    {
     "name": "stdout",
     "output_type": "stream",
     "text": [
      "  2.00 * 3 =          6\n"
     ]
    }
   ],
   "source": [
    "texto = f\"{a:6.2f} * {b} = {a*b:10}\"\n",
    "#js => texto = `${a} * ${b} = ${a*b}`\n",
    "print(texto)"
   ]
  },
  {
   "cell_type": "code",
   "execution_count": 15,
   "metadata": {},
   "outputs": [
    {
     "name": "stdout",
     "output_type": "stream",
     "text": [
      "7 * 1 = 7\n",
      "7 * 2 = 14\n",
      "7 * 3 = 21\n",
      "7 * 4 = 28\n",
      "7 * 5 = 35\n",
      "7 * 6 = 42\n",
      "7 * 7 = 49\n",
      "7 * 8 = 56\n",
      "7 * 9 = 63\n",
      "7 * 10 = 70\n"
     ]
    }
   ],
   "source": [
    "n = 7\n",
    "rango = range(1,11)\n",
    "for i in rango: \n",
    "# JS => for(let i of range(1,11))\n",
    "    print(f\"{n} * {i} = {n*i}\")\n"
   ]
  },
  {
   "cell_type": "code",
   "execution_count": 25,
   "metadata": {},
   "outputs": [
    {
     "name": "stdout",
     "output_type": "stream",
     "text": [
      "Tabla del 7\n",
      "7 * 1 = 7\n",
      "\n",
      "7 * 2 = 14\n",
      "\n",
      "7 * 3 = 21\n",
      "\n",
      "Tabla del 9\n",
      "9 * 1 = 9\n",
      "\n",
      "9 * 2 = 18\n",
      "\n",
      "9 * 3 = 27\n",
      "\n",
      "9 * 4 = 36\n",
      "\n",
      "9 * 5 = 45\n",
      "\n"
     ]
    }
   ],
   "source": [
    "def tabla(n, cantidad=3): # JS => function tabla(n)\n",
    "    print(f\"Tabla del {n}\")\n",
    "    for i in range(1,cantidad+1):\n",
    "        print(f\"{n} * {i} = {n*i}\" , end=\"\\n\\n\")\n",
    "\n",
    "tabla(7)\n",
    "tabla(cantidad=5,n=9)"
   ]
  },
  {
   "cell_type": "code",
   "execution_count": 32,
   "metadata": {},
   "outputs": [
    {
     "name": "stdout",
     "output_type": "stream",
     "text": [
      "Tabla de multiplicar del 10:\n",
      "10 x 1 =    10\n",
      "10 x 2 =    20\n",
      "10 x 3 =    30\n",
      "10 x 4 =    40\n",
      "10 x 5 =    50\n",
      "10 x 6 =    60\n",
      "10 x 7 =    70\n",
      "10 x 8 =    80\n",
      "10 x 9 =    90\n",
      "10 x 10 =   100\n"
     ]
    }
   ],
   "source": [
    "# Solicitar al usuario el número para la tabla de multiplicar\n",
    "numero = 10\n",
    "# Generar la tabla de multiplicar\n",
    "print(f\"Tabla de multiplicar del {numero}:\")\n",
    "for i in range(1, 11):\n",
    "    resultado = numero * i\n",
    "    print(f\"{numero} x {i} = {resultado:5}\")\n"
   ]
  },
  {
   "cell_type": "code",
   "execution_count": 58,
   "metadata": {},
   "outputs": [
    {
     "name": "stdout",
     "output_type": "stream",
     "text": [
      "  1   2   3   4   5   6   7   8   9  10 \n",
      "  2   4   6   8  10  12  14  16  18  20 \n",
      "  3   6   9  12  15  18  21  24  27  30 \n",
      "  4   8  12  16  20  24  28  32  36  40 \n",
      "  5  10  15  20  25  30  35  40  45  50 \n",
      "  6  12  18  24  30  36  42  48  54  60 \n",
      "  7  14  21  28  35  42  49  56  63  70 \n",
      "  8  16  24  32  40  48  56  64  72  80 \n",
      "  9  18  27  36  45  54  63  72  81  90 \n",
      " 10  20  30  40  50  60  70  80  90 100 \n"
     ]
    }
   ],
   "source": [
    "def tabla(numero, operador=\"*\"):\n",
    "    for i in range(1, 11):\n",
    "        if operador == \"*\":\n",
    "            resultado = numero * i\n",
    "        elif operador == \"/\":\n",
    "            resultado = numero / i\n",
    "        elif operador == \"+\":\n",
    "            resultado = numero + i\n",
    "        elif operador == \"-\":\n",
    "            resultado = numero - i\n",
    "        else:\n",
    "            resultado = None\n",
    "        print(f\"{resultado:3}\", end=\" \")\n",
    "    print()\n",
    "\n",
    "for i in range(1,11):\n",
    "    tabla(i)\n"
   ]
  },
  {
   "cell_type": "code",
   "execution_count": 64,
   "metadata": {},
   "outputs": [
    {
     "name": "stdout",
     "output_type": "stream",
     "text": [
      "  5  10  15  20  25  30  35  40  45  50 \n"
     ]
    }
   ],
   "source": [
    "def tabla(n, funcion):\n",
    "    for i in range(1, 11):\n",
    "        print(f\"{funcion(n, i):3}\", end=\" \")\n",
    "    print()\n",
    "\n",
    "def suma(a, b):\n",
    "    return a + b\n",
    "\n",
    "def resta(a, b):\n",
    "    return a - b\n",
    "\n",
    "def multiplicacion(a, b):\n",
    "    return a * b\n",
    "\n",
    "tabla(5, multiplicacion)"
   ]
  },
  {
   "cell_type": "code",
   "execution_count": 68,
   "metadata": {},
   "outputs": [
    {
     "name": "stdout",
     "output_type": "stream",
     "text": [
      "  6   7   8   9  10  11  12  13  14  15 \n"
     ]
    }
   ],
   "source": [
    "def tabla(n, funcion):\n",
    "    for i in range(1, 11):\n",
    "        print(f\"{funcion(n, i):3}\", end=\" \")\n",
    "    print()\n",
    "\n",
    "suma = lambda a, b: a + b\n",
    "# JS => const suma = (a, b) => a + b\n",
    "resta = lambda a, b: a - b\n",
    "multiplicacion = lambda a, b: a * b\n",
    "division = lambda a, b: a / b\n",
    "\n",
    "tabla(5, suma)"
   ]
  },
  {
   "cell_type": "code",
   "execution_count": 76,
   "metadata": {},
   "outputs": [
    {
     "name": "stdout",
     "output_type": "stream",
     "text": [
      "[6, 7, 8, 9, 10, 11, 12, 13, 14, 15]\n"
     ]
    }
   ],
   "source": [
    "suma = lambda a, b: a + b\n",
    "resta = lambda a, b: a - b\n",
    "multiplicacion = lambda a, b: a * b\n",
    "division = lambda a, b: a / b\n",
    "\n",
    "def tabla(n, funcion):\n",
    "    fila = []\n",
    "    for i in range(1, 11):\n",
    "        fila.append(funcion(n, i))\n",
    "    print(fila)\n",
    "\n",
    "tabla(5, suma)"
   ]
  },
  {
   "cell_type": "code",
   "execution_count": 79,
   "metadata": {},
   "outputs": [
    {
     "name": "stdout",
     "output_type": "stream",
     "text": [
      "[5, 10, 15, 20, 25, 30, 35, 40, 45, 50]\n"
     ]
    }
   ],
   "source": [
    "def tabla(n, f):\n",
    "    # fila = []\n",
    "    # for i in range(1, 11):\n",
    "    #     fila.append(f(n, i))\n",
    "    fila = [f(n, i) for i in range(1, 11)]\n",
    "    print(fila)\n",
    "\n",
    "tabla(5, multiplicacion)"
   ]
  },
  {
   "cell_type": "code",
   "execution_count": 89,
   "metadata": {},
   "outputs": [
    {
     "name": "stdout",
     "output_type": "stream",
     "text": [
      "[  4   9  16  25  36  49  64  81 100 121]\n",
      "36\n",
      "49\n"
     ]
    }
   ],
   "source": [
    "import numpy as np\n",
    "\n",
    "def cuadratica(x):\n",
    "    return x ** 2 + 2 * x + 1\n",
    "\n",
    "def tabla(n, f):\n",
    "    fila = np.arange(1, 11)\n",
    "    fila = cuadratica(fila) \n",
    "    print(fila)\n",
    "\n",
    "tabla(5, multiplicacion)\n",
    "print(cuadratica(5))\n",
    "print(cuadratica(6))"
   ]
  },
  {
   "cell_type": "code",
   "execution_count": null,
   "metadata": {},
   "outputs": [
    {
     "data": {
      "image/png": "[encoded data removed]",
      "text/plain": [
       "<Figure size 640x480 with 1 Axes>"
      ]
     },
     "metadata": {},
     "output_type": "display_data"
    }
   ],
   "source": [
    "import matplotlib.pyplot as plt\n",
    "import numpy as np\n",
    "\n",
    "def cuadratica(x):\n",
    "    return x * x + 2 * x + 1\n",
    "\n",
    "x = np.arange(1, 11)\n",
    "y = cuadratica(x)\n",
    "\n",
    "plt.plot(x, y)\n",
    "plt.title(\"Gráfica de la función cuadrática\")\n",
    "plt.xlabel(\"Valor de x\")\n",
    "plt.ylabel(\"Valor de y\")\n",
    "plt.grid(True)\n",
    "plt.show()"
   ]
  },
  {
   "cell_type": "code",
   "execution_count": null,
   "metadata": {},
   "outputs": [],
   "source": []
  }
 ],
 "metadata": {
  "kernelspec": {
   "display_name": "Python 3",
   "language": "python",
   "name": "python3"
  },
  "language_info": {
   "codemirror_mode": {
    "name": "ipython",
    "version": 3
   },
   "file_extension": ".py",
   "mimetype": "text/x-python",
   "name": "python",
   "nbconvert_exporter": "python",
   "pygments_lexer": "ipython3",
   "version": "3.12.5"
  }
 },
 "nbformat": 4,
 "nbformat_minor": 2
}
