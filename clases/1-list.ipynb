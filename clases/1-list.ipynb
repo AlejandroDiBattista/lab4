{
 "cells": [
  {
   "cell_type": "code",
   "execution_count": 4,
   "metadata": {},
   "outputs": [
    {
     "name": "stdout",
     "output_type": "stream",
     "text": [
      "\n",
      " Lista a: \n",
      " [1, 2, 3, 4, 5]\n",
      "\n",
      " Lista vacia: \n",
      " []\n",
      "\n",
      " Lista vacia: \n",
      " []\n",
      "\n",
      " Lista con rango: \n",
      " [0, 1, 2, 3, 4, 5, 6, 7, 8, 9]\n"
     ]
    }
   ],
   "source": [
    "# Crear\n",
    "a = [1, 2, 3, 4, 5]\n",
    "\n",
    "print(\"\\n Lista a: \\n\", a)\n",
    "\n",
    "a = []\n",
    "print(\"\\n Lista vacia: \\n\", a)\n",
    "\n",
    "a = list()\n",
    "print(\"\\n Lista vacia: \\n\", a)\n",
    "\n"
   ]
  },
  {
   "cell_type": "code",
   "execution_count": 6,
   "metadata": {},
   "outputs": [
    {
     "name": "stdout",
     "output_type": "stream",
     "text": [
      "\n",
      " Lista con rango: \n",
      " [0, 1, 2, 3, 4, 5, 6, 7, 8, 9]\n",
      "\n",
      " Lista con rango: \n",
      " [0, 1, 2, 3, 4, 5, 6, 7, 8, 9]\n"
     ]
    }
   ],
   "source": [
    "\n",
    "a = list(range(10))\n",
    "print(\"\\n Lista con rango: \\n\", a)\n",
    "\n",
    "a = []\n",
    "for i in range(10):\n",
    "    a.append(i)\n",
    "    \n",
    "print(\"\\n Lista con rango: \\n\", a)\n"
   ]
  },
  {
   "cell_type": "code",
   "execution_count": 8,
   "metadata": {},
   "outputs": [
    {
     "name": "stdout",
     "output_type": "stream",
     "text": [
      "\n",
      " Lista con string: \n",
      " ['H', 'o', 'l', 'a', ' ', 'm', 'u', 'n', 'd', 'o']\n"
     ]
    }
   ],
   "source": [
    "# String de caracteres\n",
    "a = list(\"Hola mundo\")\n",
    "print(\"\\n Lista con string: \\n\", a)"
   ]
  },
  {
   "cell_type": "code",
   "execution_count": 12,
   "metadata": {},
   "outputs": [
    {
     "name": "stdout",
     "output_type": "stream",
     "text": [
      "\n",
      " Lista con rango: \n",
      " [1, 3, 5, 7, 9, 11, 13, 15, 17, 19]\n",
      "\n",
      " Lista con for & if: \n",
      " [1, 3, 5, 7, 9, 11, 13, 15, 17, 19]\n"
     ]
    }
   ],
   "source": [
    "a = []\n",
    "for i in range(1,21,2):\n",
    "    a.append(i)\n",
    "\n",
    "print(\"\\n Lista con rango: \\n\", a)\n",
    "\n",
    "# Usando for e if\n",
    "b = [] \n",
    "for i in range(1,21):\n",
    "    if i % 2 == 1:\n",
    "        b.append(i)\n",
    "\n",
    "print(\"\\n Lista con for & if: \\n\", b)"
   ]
  },
  {
   "cell_type": "code",
   "execution_count": 15,
   "metadata": {},
   "outputs": [
    {
     "name": "stdout",
     "output_type": "stream",
     "text": [
      "\n",
      " Lista con los numeros al cuadrado: \n",
      " [1, 4, 9, 16, 25, 36, 49, 64, 81, 100]\n",
      "\n",
      " Lista con los numeros al cuadrado: \n",
      " [1, 4, 9, 16, 25, 36, 49, 64, 81, 100]\n"
     ]
    }
   ],
   "source": [
    "#For abreviada o list comprehension \n",
    "\n",
    "a = []\n",
    "for i in range(1, 11):\n",
    "    a.append( i**2 )\n",
    "print(\"\\n Lista con los numeros al cuadrado: \\n\", a)\n",
    "\n",
    "# Lista por comprension | List comprehension\n",
    "a = [ i**2 for i in range(1,11) ]\n",
    "print(\"\\n Lista con los numeros al cuadrado: \\n\", a)"
   ]
  },
  {
   "cell_type": "code",
   "execution_count": 22,
   "metadata": {},
   "outputs": [
    {
     "name": "stdout",
     "output_type": "stream",
     "text": [
      "\n",
      " Lista con los cuadrados de los impares: \n",
      " [1, 9, 25, 49, 81, 121, 169, 225, 289, 361]\n",
      "\n",
      " Lista con los cuadrados de los impares: \n",
      " [1, 9, 25, 49, 81, 121, 169, 225, 289, 361]\n",
      "\n",
      " Lista con la tabla de multiplicar: \n",
      " [[1, 2, 3, 4, 5], [2, 4, 6, 8, 10], [3, 6, 9, 12, 15], [4, 8, 12, 16, 20], [5, 10, 15, 20, 25]]\n",
      "[1, 2, 3, 4, 5]\n",
      "[2, 4, 6, 8, 10]\n",
      "[3, 6, 9, 12, 15]\n",
      "[4, 8, 12, 16, 20]\n",
      "[5, 10, 15, 20, 25]\n"
     ]
    }
   ],
   "source": [
    "# for & if\n",
    "a = [] \n",
    "for i in range(20):\n",
    "    if i*i % 2 == 1:\n",
    "        a.append(i*i)\n",
    "print(\"\\n Lista con los cuadrados de los impares: \\n\", a)\n",
    "\n",
    "# Forma abreviada\n",
    "b = [ i*i for i in range(20) if i*i % 2 == 1 ]\n",
    "print(\"\\n Lista con los cuadrados de los impares: \\n\", b)\n",
    "\n",
    "c = [ [i * j for i in range(1, 6)] for j in range(1, 6) ]\n",
    "print(\"\\n Lista con la tabla de multiplicar: \\n\", c)\n",
    "for x in c:\n",
    "    print(x)"
   ]
  },
  {
   "cell_type": "code",
   "execution_count": 29,
   "metadata": {},
   "outputs": [
    {
     "name": "stdout",
     "output_type": "stream",
     "text": [
      "\n",
      " Cantidad de elementos\n",
      " 5\n",
      "\n",
      " Primer elemento\n",
      " 1\n",
      "\n",
      " Cuarto elemento\n",
      " 4\n",
      "\n",
      " Ultimo elemento\n",
      " 5\n",
      "\n",
      " Ultimo elemento\n",
      " 5\n",
      "\n",
      " Penultimo elemento\n",
      " 4\n",
      "\n",
      " Primer caracter\n",
      " H\n",
      "\n",
      " Ultimo caracter\n",
      " o\n"
     ]
    }
   ],
   "source": [
    "a = [1, 2, 3, 4, 5]\n",
    "print(\"\\n Cantidad de elementos\\n\", len(a))\n",
    "\n",
    "# Acceder a los elementos\n",
    "b = a[0]\n",
    "print(\"\\n Primer elemento\\n\", b)\n",
    "\n",
    "b = a[3]\n",
    "print(\"\\n Cuarto elemento\\n\", b)\n",
    "\n",
    "# b = a[10] # Error\n",
    "\n",
    "b = a[len(a)-1]\n",
    "print(\"\\n Ultimo elemento\\n\", b)\n",
    "\n",
    "c = a[-1]\n",
    "print(\"\\n Ultimo elemento\\n\", c)\n",
    "\n",
    "c = a[-2]\n",
    "print(\"\\n Penultimo elemento\\n\", c)\n",
    "\n",
    "s = \"Hola mundo\"\n",
    "print(\"\\n Primer caracter\\n\", s[0])\n",
    "print(\"\\n Ultimo caracter\\n\", s[-1])"
   ]
  },
  {
   "cell_type": "code",
   "execution_count": 32,
   "metadata": {},
   "outputs": [
    {
     "name": "stdout",
     "output_type": "stream",
     "text": [
      "\n",
      " Lista original\n",
      " [1, 2, 3, 4, 5]\n",
      "\n",
      " Lista modificada\n",
      " [100, 2, 3, 4, 5]\n",
      "\n",
      " Lista modificada\n",
      " [100, 2, 3, 4, 500]\n"
     ]
    }
   ],
   "source": [
    "# Modificar elementos\n",
    "a = [1, 2, 3, 4, 5]\n",
    "print(\"\\n Lista original\\n\", a)\n",
    "a[0] = 100\n",
    "print(\"\\n Lista modificada\\n\", a)\n",
    "\n",
    "a[-1] = 500\n",
    "print(\"\\n Lista modificada\\n\", a)"
   ]
  },
  {
   "cell_type": "code",
   "execution_count": 37,
   "metadata": {},
   "outputs": [
    {
     "name": "stdout",
     "output_type": "stream",
     "text": [
      "\n",
      " Lista con append\n",
      " [1, 2, 3, 4, 5, 1000]\n",
      "\n",
      " Lista con insert (al comienzo)\n",
      " [2000, 1, 2, 3, 4, 5, 1000]\n",
      "\n",
      " Lista con insert (al final)\n",
      " [2000, 1, 2, 3, 4, 5, 3000, 1000]\n",
      "\n",
      " Lista con extend\n",
      " [2000, 1, 2, 3, 4, 5, 3000, 1000, 4000, 5000, 6000]\n"
     ]
    }
   ],
   "source": [
    "# Agregar elementos \n",
    "a = [1, 2, 3, 4, 5]\n",
    "\n",
    "a.append(1000)\n",
    "print(\"\\n Lista con append\\n\", a)\n",
    "\n",
    "a.insert(0, 2000)\n",
    "print(\"\\n Lista con insert (al comienzo)\\n\", a)\n",
    "\n",
    "a.insert(-1, 3000)\n",
    "print(\"\\n Lista con insert (al final)\\n\", a)\n",
    "\n",
    "# Agreagar varios elementos\n",
    "a.extend([4000, 5000, 6000])\n",
    "print(\"\\n Lista con extend\\n\", a)"
   ]
  },
  {
   "cell_type": "code",
   "execution_count": 43,
   "metadata": {},
   "outputs": [
    {
     "name": "stdout",
     "output_type": "stream",
     "text": [
      "\n",
      " Lista con del\n",
      " [2, 3, 4, 5]\n",
      "\n",
      " Lista con pop\n",
      " [2, 3, 4] 5\n",
      "\n",
      " Lista con pop\n",
      " [2, 3] 4\n"
     ]
    }
   ],
   "source": [
    "# Borrar elementos\n",
    "a = [1, 2, 3, 4, 5]\n",
    "\n",
    "del a[0]\n",
    "print(\"\\n Lista con del\\n\", a)\n",
    "\n",
    "b = a.pop()\n",
    "print(\"\\n Lista con pop\\n\", a, b)\n",
    "\n",
    "b = a.pop(2)\n",
    "print(\"\\n Lista con pop\\n\", a, b)\n",
    "\n",
    "# a.pop(10) # Error\n",
    "\n"
   ]
  },
  {
   "cell_type": "code",
   "execution_count": 48,
   "metadata": {},
   "outputs": [
    {
     "name": "stdout",
     "output_type": "stream",
     "text": [
      "\n",
      " Lista original\n",
      " [1, 2, 3, 4, 5]\n",
      "\n",
      " Lista con remove\n",
      " [1, 2, 4, 5] None\n"
     ]
    }
   ],
   "source": [
    "# Borrar elementos por valor\n",
    "a = [1, 2, 3, 4, 5]\n",
    "print(\"\\n Lista original\\n\", a)\n",
    "\n",
    "b = a.remove(3)\n",
    "print(\"\\n Lista con remove\\n\", a, b)"
   ]
  },
  {
   "cell_type": "code",
   "execution_count": 58,
   "metadata": {},
   "outputs": [
    {
     "name": "stdout",
     "output_type": "stream",
     "text": [
      "\n",
      " Lista original\n",
      " [10, 20, 30, 40, 50]\n",
      "\n",
      " Buscar elemento 20\n",
      " True\n",
      "\n",
      " Buscar elemento 21\n",
      " False\n",
      "\n",
      " Buscar indice de 30\n",
      " 2\n",
      "\n",
      " Lista original\n",
      " [10, 20, 30, 20, 40, 50]\n",
      "\n",
      " Contar elementos 20\n",
      " 2\n"
     ]
    }
   ],
   "source": [
    "# Buscar elementos\n",
    "a = [10, 20, 30, 40, 50]\n",
    "print(\"\\n Lista original\\n\", a)\n",
    "\n",
    "b = 20 in a\n",
    "print(\"\\n Buscar elemento 20\\n\", b)\n",
    "\n",
    "b = 21 in a\n",
    "print(\"\\n Buscar elemento 21\\n\", b)\n",
    "\n",
    "if 25 in a:\n",
    "    a.remove(35)\n",
    "\n",
    "c = a.index(30)\n",
    "print(\"\\n Buscar indice de 30\\n\", c)\n",
    "\n",
    "# c = a.index(25) ERROR No existe el elemento\n",
    "# print(\"\\n Buscar indice de 25\\n\", c)\n",
    "\n",
    "# Contar elementos\n",
    "a = [10, 20, 30, 20, 40, 50]\n",
    "print(\"\\n Lista original\\n\", a)\n",
    "\n",
    "b = a.count(20)\n",
    "print(\"\\n Contar elementos 20\\n\", b)"
   ]
  },
  {
   "cell_type": "code",
   "execution_count": 61,
   "metadata": {},
   "outputs": [
    {
     "name": "stdout",
     "output_type": "stream",
     "text": [
      "\n",
      " Concatenar listas\n",
      " [10, 20, 30, 40, 50, 60]\n",
      "\n",
      " Repetir listas\n",
      " [10, 20, 30, 10, 20, 30, 10, 20, 30]\n"
     ]
    }
   ],
   "source": [
    "a = [10, 20, 30]\n",
    "b = [40, 50, 60]\n",
    "c = a + b\n",
    "\n",
    "print(\"\\n Concatenar listas\\n\", c)\n",
    "\n",
    "c = a * 3\n",
    "print(\"\\n Repetir listas\\n\", c)"
   ]
  },
  {
   "cell_type": "code",
   "execution_count": 69,
   "metadata": {},
   "outputs": [
    {
     "name": "stdout",
     "output_type": "stream",
     "text": [
      "\n",
      " a[2:5]\n",
      " [30, 40, 50]\n",
      "\n",
      "Desde el 2 al final\n",
      " [30, 40, 50, 60, 70, 80, 90]\n",
      "\n",
      "Desde el principio al 5\n",
      " [10, 20, 30, 40, 50]\n",
      "\n",
      "Desde el -3 al final\n",
      " [70, 80, 90]\n",
      "\n",
      "Desde el principio al -3\n",
      " [10, 20, 30, 40, 50, 60]\n",
      "\n",
      "Copia de la lista\n",
      " [10, 20, 30, 40, 50, 60, 70, 80, 90]\n"
     ]
    }
   ],
   "source": [
    "# Slice (rebanada) \n",
    "#    0   1   2   3   4   5   6   7   8\n",
    "a = [10, 20, 30, 40, 50, 60, 70, 80, 90]\n",
    "\n",
    "# Sintexis general a[inicio:fin:paso] \n",
    "b = a[2:5]\n",
    "print(\"\\n a[2:5]\\n\", b)\n",
    "\n",
    "c = a[2:]\n",
    "print(\"\\nDesde el 2 al final\\n\", c)\n",
    "\n",
    "d = a[:5]\n",
    "print(\"\\nDesde el principio al 5\\n\", d)\n",
    "\n",
    "e = a[-3:]\n",
    "print(\"\\nDesde el -3 al final\\n\", e)\n",
    "\n",
    "f = a[:-3]\n",
    "print(\"\\nDesde el principio al -3\\n\", f)\n",
    "\n",
    "g = a[:] # Copia de la lista\n",
    "print(\"\\nCopia de la lista\\n\", g)"
   ]
  },
  {
   "cell_type": "code",
   "execution_count": 74,
   "metadata": {},
   "outputs": [
    {
     "name": "stdout",
     "output_type": "stream",
     "text": [
      "\n",
      " Lista original\n",
      " [10, 20, 30, 40, 50, 60, 70, 80, 90]\n",
      "\n",
      " Lista 'a' modificada \n",
      " [10, 20, 300, 40, 50, 60, 70, 80, 90]\n",
      "\n",
      " Lista 'b' modificada\n",
      " [10, 20, 300, 40, 50, 60, 70, 80, 90]\n",
      "\n",
      " Lista 'a' modificada \n",
      " [10, 20, 300, 40, 500, 60, 70, 80, 90]\n",
      "\n",
      " Lista 'b' modificada\n",
      " [10, 20, 300, 40, 500, 60, 70, 80, 90]\n",
      "\n",
      " Lista original\n",
      " [10, 20, 30, 40, 50, 60, 70, 80, 90]\n",
      "\n",
      " Lista 'a' no se modifica \n",
      " [10, 20, 30, 40, 50, 60, 70, 80, 90]\n",
      "\n",
      " Lista 'b' modificada\n",
      " [10, 20, 300, 40, 50, 60, 70, 80, 90]\n",
      "\n",
      " Lista 'a' no se modifica \n",
      " [10, 20, 30, 40, 50, 60, 70, 80, 90]\n",
      "\n",
      " Lista 'c' modificada\n",
      " [10, 20, 30, 40, 500, 60, 70, 80, 90]\n"
     ]
    }
   ],
   "source": [
    "a = [10, 20, 30, 40, 50, 60, 70, 80, 90]\n",
    "print(\"\\n Lista original\\n\", a)\n",
    "\n",
    "b = a # No es una copia es una referencia\n",
    "\n",
    "b[2] = 300\n",
    "print(\"\\n Lista 'a' modificada \\n\", a)\n",
    "print(\"\\n Lista 'b' modificada\\n\", b)\n",
    "\n",
    "a[4] = 500\n",
    "print(\"\\n Lista 'a' modificada \\n\", a)\n",
    "print(\"\\n Lista 'b' modificada\\n\", b)\n",
    "\n",
    "a = [10, 20, 30, 40, 50, 60, 70, 80, 90]\n",
    "print(\"\\n Lista original\\n\", a)\n",
    "\n",
    "b = a.copy() # Copia de la lista\n",
    "b[2] = 300\n",
    "print(\"\\n Lista 'a' no se modifica \\n\", a)\n",
    "print(\"\\n Lista 'b' modificada\\n\", b)\n",
    "\n",
    "c = a[:]\n",
    "c[4] = 500\n",
    "print(\"\\n Lista 'a' no se modifica \\n\", a)\n",
    "print(\"\\n Lista 'c' modificada\\n\", c)"
   ]
  },
  {
   "cell_type": "code",
   "execution_count": 80,
   "metadata": {},
   "outputs": [
    {
     "name": "stdout",
     "output_type": "stream",
     "text": [
      "\n",
      " Lista original\n",
      " [10, 20, 30, 40, 50, 60, 70, 80, 90]\n",
      "\n",
      " a[2:7:2]\n",
      " [30, 50, 70]\n",
      "\n",
      " Desde el principio al final con paso 2\n",
      " [10, 30, 50, 70, 90]\n",
      "\n",
      " Desde el 1 al final con paso 2\n",
      " [20, 40, 60, 80]\n",
      "\n",
      " Lista invertida\n",
      " [90, 80, 70, 60, 50, 40, 30, 20, 10]\n",
      "\n",
      " Cadena original\n",
      " Hola mundo\n",
      "\n",
      " Cadena invertida\n",
      " odnum aloH\n"
     ]
    }
   ],
   "source": [
    "# Paso\n",
    "a = [10, 20, 30, 40, 50, 60, 70, 80, 90]\n",
    "print(\"\\n Lista original\\n\", a)\n",
    "\n",
    "b = a[2:7:2]\n",
    "print(\"\\n a[2:7:2]\\n\", b)\n",
    "\n",
    "c = a[::2]\n",
    "print(\"\\n Desde el principio al final con paso 2\\n\", c)\n",
    "\n",
    "c = a[1::2]\n",
    "print(\"\\n Desde el 1 al final con paso 2\\n\", c)\n",
    "\n",
    "c = a[::-1]\n",
    "print(\"\\n Lista invertida\\n\", c)\n",
    "\n",
    "s = \"Hola mundo\"\n",
    "print(\"\\n Cadena original\\n\", s)\n",
    "r = s[::-1]\n",
    "print(\"\\n Cadena invertida\\n\", r)\n",
    "\n"
   ]
  },
  {
   "cell_type": "code",
   "execution_count": 87,
   "metadata": {},
   "outputs": [
    {
     "name": "stdout",
     "output_type": "stream",
     "text": [
      "\n",
      " Lista original\n",
      " [10, 20, 30, 40, 50, 60, 70, 80, 90]\n",
      "\n",
      " Lista modificada\n",
      " [10, 20, 300, 400, 500, 60, 70, 80, 90]\n",
      "\n",
      " Lista modificada (insertando)\n",
      " [10, 20, 300, 400, 500, 600, 700, 60, 70, 80, 90]\n",
      "\n",
      " Lista modificada (eliminado)\n",
      " [10, 20, 3000, 600, 700, 60, 70, 80, 90]\n",
      "\n",
      " Lista modificada (eliminado)\n",
      " [10, 20, 60, 70, 80, 90]\n"
     ]
    },
    {
     "data": {
      "text/plain": [
       "['h', 'o', 'l', 'a', ' ', 'm', 'u', 'n', 'd', 'o']"
      ]
     },
     "execution_count": 87,
     "metadata": {},
     "output_type": "execute_result"
    }
   ],
   "source": [
    "# Modificar un conjunto de elementos\n",
    "#    0   1   2   3   4   5   6   7   8\n",
    "a = [10, 20, 30, 40, 50, 60, 70, 80, 90]\n",
    "print(\"\\n Lista original\\n\", a)\n",
    "\n",
    "a[2:5] = [300, 400, 500]\n",
    "print(\"\\n Lista modificada\\n\", a)\n",
    "\n",
    "a[2:5] = [300, 400, 500, 600, 700]\n",
    "print(\"\\n Lista modificada (insertando)\\n\", a)\n",
    "\n",
    "a[2:5] = [3000]\n",
    "print(\"\\n Lista modificada (eliminado)\\n\", a)\n",
    "\n",
    "a[2:5] = []\n",
    "print(\"\\n Lista modificada (eliminado)\\n\", a)\n",
    "\n",
    "list(range(10))\n",
    "list(\"hola mundo\")\n"
   ]
  },
  {
   "cell_type": "code",
   "execution_count": 95,
   "metadata": {},
   "outputs": [
    {
     "name": "stdout",
     "output_type": "stream",
     "text": [
      "\n",
      " Comparar listas\n",
      " True\n",
      "\n",
      " Comparar listas\n",
      " False\n",
      "a [10, 20, 30]\n",
      "b [10, 20, 25]\n",
      "\n",
      " Comparar con <\n",
      " False\n",
      "\n",
      " Comparar con >\n",
      " True\n",
      "\n",
      " Comparar con <\n",
      " True\n"
     ]
    }
   ],
   "source": [
    "a  = [10, 20, 30]\n",
    "aa = [10, 20, 30]\n",
    "b  = [40, 50, 60]\n",
    "\n",
    "c = a == aa\n",
    "print(\"\\n Comparar listas\\n\", c)\n",
    "\n",
    "b = [10, 20, 25]\n",
    "c = a == b\n",
    "print(\"\\n Comparar listas\\n\", c)\n",
    "\n",
    "c = a < b\n",
    "print('a',a)\n",
    "print('b',b)\n",
    "print(\"\\n Comparar con <\\n\", c)\n",
    "\n",
    "c = a > b\n",
    "print(\"\\n Comparar con >\\n\", c)\n",
    "\n",
    "a = [10, 20, 30]\n",
    "b = [10, 20, 30, 40]\n",
    "c = a < b\n",
    "print(\"\\n Comparar con <\\n\", c)"
   ]
  }
 ],
 "metadata": {
  "kernelspec": {
   "display_name": "Python 3",
   "language": "python",
   "name": "python3"
  },
  "language_info": {
   "codemirror_mode": {
    "name": "ipython",
    "version": 3
   },
   "file_extension": ".py",
   "mimetype": "text/x-python",
   "name": "python",
   "nbconvert_exporter": "python",
   "pygments_lexer": "ipython3",
   "version": "3.12.5"
  }
 },
 "nbformat": 4,
 "nbformat_minor": 2
}
