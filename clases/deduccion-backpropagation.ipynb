{
 "cells": [
  {
   "cell_type": "markdown",
   "metadata": {},
   "source": [
    "## Ejercicio 2\n",
    "\n",
    "Escribe una función en Python que encuentre los valores de $a$, $b$, y $c$ para que la función cuadrática $f(x) = a x^2 + b x + c$ pase exactamente por los siguientes puntos:\n",
    "\n",
    "$x, y = \\{(0, 0), (1, 8), (2, 12), (3, 12), (5, 0)\\}$\n",
    "\n",
    "### Nota:\n",
    "Se sabe que los coeficientes deben ser enteros y estan en el rango de $-10$ a $10$."
   ]
  },
  {
   "cell_type": "code",
   "execution_count": 2,
   "metadata": {},
   "outputs": [],
   "source": [
    "# Lo importamos al inicio para que este disponible para todo el codigo siguiente \n",
    "\n",
    "import numpy as np\n",
    "import matplotlib.pyplot as plt"
   ]
  },
  {
   "cell_type": "markdown",
   "metadata": {},
   "source": [
    "## Solución con Python 'puro'\n",
    "\n",
    "Dada la simplicidad del planteo esto puede ser resuelto matematicamente de manera muy simple, la solución es: $$ a = -2; b = 10; c = 0 $$\n",
    "\n",
    "Sin embargo vamos a dar una solución con Python para que sea más general y pueda ser aplicada a problemas más complejos.\n",
    "\n",
    "Hagamos una primera aproximación, asumiendo que los coeficientes son enteros y la solucion es exacta. \n",
    "\n",
    "En este caso basta con recorrer todas las posibilidades y elegir la que cumpla con los puntos dados.\n"
   ]
  },
  {
   "cell_type": "code",
   "execution_count": 3,
   "metadata": {},
   "outputs": [
    {
     "name": "stdout",
     "output_type": "stream",
     "text": [
      "Los coeficientes son: (-2, 10, 0)\n"
     ]
    }
   ],
   "source": [
    "##\n",
    "## Solución Python pura ##\n",
    "##\n",
    "\n",
    "\n",
    "# Definimos la función cuadrática f(x) = a*x^2 + b*x + c\n",
    "def f(x, a, b, c):\n",
    "    return a * x**2 + b * x + c\n",
    "\n",
    "\n",
    "# Exploramos todas las combinaciones posibles de a, b y c\n",
    "def buscarCoeficientes(X,Y, rango=range(-10, 11)):\n",
    "    for a in rango:\n",
    "        for b in rango:\n",
    "            for c in rango:\n",
    "                # Calculamos los valores de y para cada combinación de a, b y c\n",
    "                y = [f(x, a, b, c) for x in X]\n",
    "                # Verificamos si los valores calculados coinciden exactamente con los valores de Y\n",
    "                if y == Y:\n",
    "                    # Si coinciden, imprimimos los valores de a, b y c\n",
    "                    return a, b, c\n",
    "    return None\n",
    "\n",
    "# Definimos los puntos X y Y\n",
    "X = [0, 1,  2,  3, 5]\n",
    "Y = [0, 8, 12, 12, 0]\n",
    "\n",
    "coeficientes = buscarCoeficientes(X,Y, rango=range(-10, 11))\n",
    "\n",
    "if coeficientes:\n",
    "    print(f'Los coeficientes son: {coeficientes}')\n",
    "else:\n",
    "    print('No se encontraron coeficientes que cumplan con los valores de Y')"
   ]
  },
  {
   "cell_type": "markdown",
   "metadata": {},
   "source": [
    "Vamos a hacer mas general el problema, asumiremos que la solucion no es exacta y que los coeficientes pueden ser reales.\n",
    "\n",
    "En este caso la solucion no va a ser exacta por lo vamos a elegir los coeficientes que minimicen el error. \n",
    "\n",
    "Una forma de estimar el error es usa la suma de los cuadrados de los errores, es decir, la suma de los cuadrados de las diferencias entre el valor real y el valor calculado por la funcion cuadratica. \n",
    "\n",
    "Ademas podemos usar numpy para facilitar los calculos. "
   ]
  },
  {
   "cell_type": "code",
   "execution_count": 4,
   "metadata": {},
   "outputs": [
    {
     "name": "stdout",
     "output_type": "stream",
     "text": [
      "\n",
      "Buscando entre 9261 combinaciones\n",
      "El error es de 0.00\n",
      "\n",
      "Los coeficientes son [-2 10  0]\n"
     ]
    }
   ],
   "source": [
    "## Solución Python con numpy puro ##\n",
    "import numpy as np\n",
    "\n",
    "# Convertimos las listas X y Y a arrays de numpy\n",
    "\n",
    "# Definimos la función cuadrática f(x) = a*x^2 + b*x + c\n",
    "def f(x, a,b,c):\n",
    "    return a * x**2 + b * x + c\n",
    "\n",
    "def error(y,yp):\n",
    "    return np.sum((y-yp)**2)\n",
    "\n",
    "# Definimos el rango de valores para a, b y c\n",
    "\n",
    "# Exploramos todas las combinaciones posibles de a, b y c\n",
    "def buscarCoeficientes(X, Y, rango = np.arange(-10, 11)):\n",
    "    print(f\"\\nBuscando entre {len(rango)**3} combinaciones\")\n",
    "    coeficientes = None \n",
    "    menorError = np.inf\n",
    "\n",
    "    for a in rango:\n",
    "        for b in rango:\n",
    "            for c in rango:\n",
    "                # Calculamos los valores de y para cada combinación de a, b y c\n",
    "                nuevosCoeficientes = np.array([a, b, c])\n",
    "                y = f(X, *nuevosCoeficientes)\n",
    "\n",
    "                nuevoError = error(Y, y)\n",
    "                if nuevoError < menorError:\n",
    "                    menorError = nuevoError \n",
    "                    coeficientes = nuevosCoeficientes\n",
    "    print(f\"El error es de {menorError:.2f}\\n\")\n",
    "    return coeficientes\n",
    "\n",
    "X = np.array([0, 1, 2, 3, 5])\n",
    "Y = np.array([0, 8, 12, 12, 0])\n",
    "\n",
    "coeficientes = buscarCoeficientes(X,Y, np.arange(-10,11, 1))\n",
    "print(f'Los coeficientes son {coeficientes.round(1)}')\n",
    "#> Los coeficientes son [-2 10 0]\n"
   ]
  },
  {
   "cell_type": "markdown",
   "metadata": {},
   "source": [
    "Este nuevo algoritmo funciona aun cuando los coeficientes no son enteros y la solucion no es exacta."
   ]
  },
  {
   "cell_type": "code",
   "execution_count": 5,
   "metadata": {},
   "outputs": [
    {
     "name": "stdout",
     "output_type": "stream",
     "text": [
      "\n",
      "Buscando entre 9261 combinaciones\n",
      "El error es de 1.00\n",
      "\n",
      "Los coeficientes son [-2 10  0]\n"
     ]
    }
   ],
   "source": [
    "X = np.array([0, 1, 2, 3, 5])\n",
    "Y = np.array([0, 8, 12, 11, 0]) # Cambiamos el 12 por 11 para que no coincida con la función cuadrática\n",
    "\n",
    "coeficientes = buscarCoeficientes(X,Y, np.arange(-10,11, 1)) # Probamos 21 * 21 * 21 combinaciones = 9261 combinaciones\n",
    "print(f'Los coeficientes son {coeficientes.round(1)}')\n",
    "#> El error es de 1.00\n",
    "#> Los coeficientes son [-2 10 0] \n"
   ]
  },
  {
   "cell_type": "markdown",
   "metadata": {},
   "source": [
    "Incluso podemos controlar al precisión de la respuesta haciendo que explore no solo valores enteros sin con numeros reales (en esta caso con un decimal)"
   ]
  },
  {
   "cell_type": "code",
   "execution_count": 6,
   "metadata": {},
   "outputs": [
    {
     "name": "stdout",
     "output_type": "stream",
     "text": [
      "\n",
      "Buscando entre 9261000 combinaciones\n",
      "El error es de 0.58\n",
      "\n",
      "Los coeficientes son [-1.9  9.4  0.3]\n"
     ]
    }
   ],
   "source": [
    "coeficientes = buscarCoeficientes(X,Y, np.arange(-10, 11, .1)) # Cambiamos 1.0 por 0.1\n",
    "print(f'Los coeficientes son {coeficientes.round(1)}')"
   ]
  },
  {
   "cell_type": "markdown",
   "metadata": {},
   "source": [
    "Esto funciona pero se vuelve prohibitivamente lento, en este caso paso de una respuesta instantanea a demorar mas de 30 segundos. Paso de probar 9.261 casos a probar 9.261.000 combinaciones. \n",
    "\n",
    "Si quisieramos 2 decimales tendria que probar 9.261.000.000 (Demorando casi medio día 🤯)\n",
    "\n",
    "y si trataramos de encontrar un polinomio mas grande el tiempo creceria en forma exponencial !!!\n",
    "\n",
    "Hay que probar otro algoritmo, uno que nos permite recorrer el espacio de soluciones en forma mas eficiente\n",
    "\n",
    "Si no podemos probar todos los valores empecemos con un valor inicial e intentemos ir acercandonos a la solución en forma progresiva \n",
    "\n",
    "Esto es lo que se conoce como el algoritmo del `gradiente estocastico` "
   ]
  },
  {
   "cell_type": "code",
   "execution_count": 14,
   "metadata": {},
   "outputs": [
    {
     "name": "stdout",
     "output_type": "stream",
     "text": [
      "El error fue de 0.5 despues de 2000000 intentos\n",
      "Los coeficientes son [-1.92  9.54  0.19]\n",
      "[-1.92  9.55  0.18]\n"
     ]
    }
   ],
   "source": [
    "## Solución con numpy (usando funciones de polinomios) ##\n",
    "import numpy as np\n",
    "\n",
    "# Una funcion mas general que calcula el polinomio en funcion de cuantos coeficientes recibe \n",
    "def f(x, coeficientes):\n",
    "    return np.poly1d(coeficientes)(x)\n",
    "\n",
    "def error(y,yp):\n",
    "    return np.sum((y-yp)**2)\n",
    "\n",
    "def buscarCoeficientes(X,Y,orden=5,maximo=10_000):\n",
    "    coeficientes = np.random.randint(-10,10,orden+1) # Genero 3 coeficientes al azar\n",
    "    errorActual  = np.inf \n",
    "    \n",
    "    distancia = 0.01\n",
    "    repeticiones = 0 \n",
    "\n",
    "    while errorActual > .1 and repeticiones < maximo:\n",
    "        # Genera 'perturvaciones' a los coeficientes \n",
    "        # me genera coeficientes 'cercanos' al original agregandole valores a alzar \n",
    "        nuevosCoeficientes = coeficientes + distancia * np.random.randint(-10,10,len(coeficientes))\n",
    "        \n",
    "        y = f(X, nuevosCoeficientes)\n",
    "        nuevoError = error(Y, y )\n",
    "        \n",
    "        # Si reduce el error recordar los coeficientes\n",
    "        if nuevoError < errorActual:\n",
    "            errorActual = nuevoError\n",
    "            coeficientes = nuevosCoeficientes\n",
    "\n",
    "        repeticiones += 1 \n",
    "\n",
    "    print(f\"El error fue de {errorActual:.1f} despues de {repeticiones} intentos\")\n",
    "    return coeficientes\n",
    "\n",
    "x = np.array([ 0,  1,  2,  3,  5])\n",
    "y = np.array([ 0,  8, 12, 11,  0])\n",
    "\n",
    "coeficientes = buscarCoeficientes(x, y, 2, 2000000)\n",
    "print(f\"Los coeficientes son {coeficientes.round(2)}\")\n",
    "print(np.polyfit(x, y, 2).round(2))"
   ]
  },
  {
   "cell_type": "code",
   "execution_count": 44,
   "metadata": {},
   "outputs": [
    {
     "data": {
      "image/png": "[encoded data removed]",
      "text/plain": [
       "<Figure size 640x480 with 1 Axes>"
      ]
     },
     "metadata": {},
     "output_type": "display_data"
    }
   ],
   "source": [
    "import numpy as np # type: ignore\n",
    "\n",
    "x = np.array([ 0,  1,  2,  3, 4, 5])\n",
    "y = np.array([ 0,  8, 12, 10, 10, 0])\n",
    "\n",
    "def dibujar(x, y, f=None):\n",
    "    xr = np.linspace(min(x), max(x), 100)\n",
    "    if f: \n",
    "        plt.plot(xr, f(xr), linewidth=5)\n",
    "    plt.plot(x, y, 'ro', markersize=10)\n",
    "    plt.grid()\n",
    "\n",
    "coeficientes = np.polyfit(x,y,5)\n",
    "dibujar(x,y,lambda x: f(x, coeficientes))\n"
   ]
  },
  {
   "cell_type": "code",
   "execution_count": 9,
   "metadata": {},
   "outputs": [
    {
     "name": "stdout",
     "output_type": "stream",
     "text": [
      "El error fue de 0.5 después de 100000 intentos\n",
      "Los coeficientes son [-1.92  9.55  0.18]\n",
      "Coeficientes obtenidos con np.polyfit: [-1.92  9.55  0.18]\n"
     ]
    }
   ],
   "source": [
    "import numpy as np\n",
    "\n",
    "# Función que calcula el polinomio evaluado en x dado los coeficientes\n",
    "def f(x, coeficientes):\n",
    "    return np.polyval(coeficientes, x)\n",
    "\n",
    "def error(y, yp):\n",
    "    return np.sum((y - yp)**2)\n",
    "\n",
    "def buscarCoeficientes(X, Y, grado=2, maximo=100000):\n",
    "    n = grado + 1\n",
    "    coeficientes = np.random.randint(-10,10,n)\n",
    "    errorActual  = np.inf\n",
    "\n",
    "    aprendizaje = 0.0001  # Tasa de aprendizaje reducida\n",
    "    epocas = 0\n",
    "\n",
    "    while errorActual > 0.1 and epocas < maximo:\n",
    "        # Calcular las predicciones\n",
    "        y = f(X, coeficientes)\n",
    "\n",
    "        # Calcular el error\n",
    "        errorActual = error(Y, y)\n",
    "\n",
    "        # Calcular los gradientes\n",
    "        diferencia = (Y - y) # Diferencia entre los valores reales y los predichos\n",
    "        # gradientes = np.array([\n",
    "        #     -2 * np.sum(diferencia * X ** 2), # Derivada parcial de a\n",
    "        #     -2 * np.sum(diferencia * X ** 1), # Derivada parcial de b\n",
    "        #     -2 * np.sum(diferencia * X ** 0)  # Derivada parcial de c\n",
    "        # ])\n",
    "\n",
    "        gradientes = np.zeros(n, dtype=np.float64)\n",
    "        for i in range(n):\n",
    "            p = n - i - 1\n",
    "            gradientes[i] = -2 * np.sum(diferencia * (X ** p))\n",
    "     \n",
    "        # Actualizar los coeficientes\n",
    "        coeficientes = coeficientes -  aprendizaje * gradientes\n",
    "\n",
    "        epocas += 1\n",
    "\n",
    "    print(f\"El error fue de {errorActual:.1f} después de {epocas} intentos\")\n",
    "    return coeficientes\n",
    "\n",
    "x = np.array([0, 1, 2, 3, 5], dtype=np.float64)\n",
    "y = np.array([0, 8, 12, 11, 0],dtype=np.float64)\n",
    "\n",
    "coeficientes = buscarCoeficientes(x, y, 2, 100_000)\n",
    "print(f\"Los coeficientes son {coeficientes.round(2)}\")\n",
    "print(f\"Coeficientes obtenidos con np.polyfit: {np.polyfit(x, y, 2).round(2)}\")"
   ]
  },
  {
   "cell_type": "code",
   "execution_count": 10,
   "metadata": {},
   "outputs": [
    {
     "data": {
      "image/png": "[encoded data removed]",
      "text/plain": [
       "<Figure size 640x480 with 1 Axes>"
      ]
     },
     "metadata": {},
     "output_type": "display_data"
    }
   ],
   "source": [
    "# Regresión (con polinomios) \n",
    "\n",
    "x = np.array([ 0, 1, 2, 3, 5])\n",
    "y = np.array([ 0, 8,12,11, 0]) # Cambio el 12 por 11\n",
    "\n",
    "def f(x, a, b, c):\n",
    "    return a*x**2 + b*x + c\n",
    "\n",
    "coeficientes = np.polyfit(x,y,2)\n",
    "dibujar(x,y, lambda x: f(x, *coeficientes))"
   ]
  },
  {
   "cell_type": "code",
   "execution_count": null,
   "metadata": {},
   "outputs": [],
   "source": []
  }
 ],
 "metadata": {
  "kernelspec": {
   "display_name": "Python 3",
   "language": "python",
   "name": "python3"
  },
  "language_info": {
   "codemirror_mode": {
    "name": "ipython",
    "version": 3
   },
   "file_extension": ".py",
   "mimetype": "text/x-python",
   "name": "python",
   "nbconvert_exporter": "python",
   "pygments_lexer": "ipython3",
   "version": "3.12.5"
  }
 },
 "nbformat": 4,
 "nbformat_minor": 2
}
