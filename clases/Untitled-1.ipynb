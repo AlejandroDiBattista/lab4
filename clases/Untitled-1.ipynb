{
 "cells": [
  {
   "cell_type": "code",
   "execution_count": 2,
   "metadata": {},
   "outputs": [
    {
     "data": {
      "text/plain": [
       "b    2\n",
       "d    4\n",
       "f    6\n",
       "dtype: int64"
      ]
     },
     "execution_count": 2,
     "metadata": {},
     "output_type": "execute_result"
    }
   ],
   "source": [
    "import pandas as pd\n",
    "\n",
    "datos = [1, 2, 3, 4, 5, 6]\n",
    "indices = list('abcdef')\n",
    "a = pd.Series(datos, index=indices)\n",
    "\n",
    "a[a % 2 == 0]"
   ]
  },
  {
   "cell_type": "code",
   "execution_count": 3,
   "metadata": {},
   "outputs": [
    {
     "data": {
      "text/plain": [
       "count     6.000000\n",
       "mean     41.666667\n",
       "std      21.369761\n",
       "min      20.000000\n",
       "25%      22.500000\n",
       "50%      40.000000\n",
       "75%      57.500000\n",
       "max      70.000000\n",
       "dtype: float64"
      ]
     },
     "execution_count": 3,
     "metadata": {},
     "output_type": "execute_result"
    }
   ],
   "source": [
    "edad    = [20,30,20,50,60,70]\n",
    "nombres = ['juan', 'ana', 'luis', 'pedro', 'maria', 'carmen']\n",
    "\n",
    "edades = pd.Series(edad, index=nombres)\n",
    "edades['juan']\n",
    "edades[edades > 30]\n",
    "\n",
    "edades.describe()"
   ]
  },
  {
   "cell_type": "code",
   "execution_count": 4,
   "metadata": {},
   "outputs": [
    {
     "data": {
      "text/html": [
       "<div>\n",
       "<style scoped>\n",
       "    .dataframe tbody tr th:only-of-type {\n",
       "        vertical-align: middle;\n",
       "    }\n",
       "\n",
       "    .dataframe tbody tr th {\n",
       "        vertical-align: top;\n",
       "    }\n",
       "\n",
       "    .dataframe thead tr th {\n",
       "        text-align: left;\n",
       "    }\n",
       "\n",
       "    .dataframe thead tr:last-of-type th {\n",
       "        text-align: right;\n",
       "    }\n",
       "</style>\n",
       "<table border=\"1\" class=\"dataframe\">\n",
       "  <thead>\n",
       "    <tr>\n",
       "      <th></th>\n",
       "      <th colspan=\"8\" halign=\"left\">edad</th>\n",
       "      <th colspan=\"8\" halign=\"left\">peso</th>\n",
       "    </tr>\n",
       "    <tr>\n",
       "      <th></th>\n",
       "      <th>count</th>\n",
       "      <th>mean</th>\n",
       "      <th>std</th>\n",
       "      <th>min</th>\n",
       "      <th>25%</th>\n",
       "      <th>50%</th>\n",
       "      <th>75%</th>\n",
       "      <th>max</th>\n",
       "      <th>count</th>\n",
       "      <th>mean</th>\n",
       "      <th>std</th>\n",
       "      <th>min</th>\n",
       "      <th>25%</th>\n",
       "      <th>50%</th>\n",
       "      <th>75%</th>\n",
       "      <th>max</th>\n",
       "    </tr>\n",
       "    <tr>\n",
       "      <th>sexo</th>\n",
       "      <th></th>\n",
       "      <th></th>\n",
       "      <th></th>\n",
       "      <th></th>\n",
       "      <th></th>\n",
       "      <th></th>\n",
       "      <th></th>\n",
       "      <th></th>\n",
       "      <th></th>\n",
       "      <th></th>\n",
       "      <th></th>\n",
       "      <th></th>\n",
       "      <th></th>\n",
       "      <th></th>\n",
       "      <th></th>\n",
       "      <th></th>\n",
       "    </tr>\n",
       "  </thead>\n",
       "  <tbody>\n",
       "    <tr>\n",
       "      <th>F</th>\n",
       "      <td>3.0</td>\n",
       "      <td>53.333333</td>\n",
       "      <td>20.816660</td>\n",
       "      <td>30.0</td>\n",
       "      <td>45.0</td>\n",
       "      <td>60.0</td>\n",
       "      <td>65.0</td>\n",
       "      <td>70.0</td>\n",
       "      <td>3.0</td>\n",
       "      <td>61.0</td>\n",
       "      <td>0.0</td>\n",
       "      <td>61.0</td>\n",
       "      <td>61.0</td>\n",
       "      <td>61.0</td>\n",
       "      <td>61.0</td>\n",
       "      <td>61.0</td>\n",
       "    </tr>\n",
       "    <tr>\n",
       "      <th>M</th>\n",
       "      <td>3.0</td>\n",
       "      <td>30.000000</td>\n",
       "      <td>17.320508</td>\n",
       "      <td>20.0</td>\n",
       "      <td>20.0</td>\n",
       "      <td>20.0</td>\n",
       "      <td>35.0</td>\n",
       "      <td>50.0</td>\n",
       "      <td>3.0</td>\n",
       "      <td>81.0</td>\n",
       "      <td>0.0</td>\n",
       "      <td>81.0</td>\n",
       "      <td>81.0</td>\n",
       "      <td>81.0</td>\n",
       "      <td>81.0</td>\n",
       "      <td>81.0</td>\n",
       "    </tr>\n",
       "  </tbody>\n",
       "</table>\n",
       "</div>"
      ],
      "text/plain": [
       "      edad                                                      peso        \\\n",
       "     count       mean        std   min   25%   50%   75%   max count  mean   \n",
       "sexo                                                                         \n",
       "F      3.0  53.333333  20.816660  30.0  45.0  60.0  65.0  70.0   3.0  61.0   \n",
       "M      3.0  30.000000  17.320508  20.0  20.0  20.0  35.0  50.0   3.0  81.0   \n",
       "\n",
       "                                         \n",
       "      std   min   25%   50%   75%   max  \n",
       "sexo                                     \n",
       "F     0.0  61.0  61.0  61.0  61.0  61.0  \n",
       "M     0.0  81.0  81.0  81.0  81.0  81.0  "
      ]
     },
     "execution_count": 4,
     "metadata": {},
     "output_type": "execute_result"
    }
   ],
   "source": [
    "datos = {\n",
    "    'nombres': ['juan', 'ana', 'luis', 'pedro', 'maria', 'carmen'],\n",
    "    'edad':    [20, 30, 20, 50, 60, 70],\n",
    "    'sexo':    ['M', 'F', 'M', 'M', 'F', 'F']\n",
    "}\n",
    "\n",
    "t = pd.DataFrame(datos, index=[1000, 1001, 1002, 1003, 1004, 1005])\n",
    "\n",
    "def calcularPeso(sexo):\n",
    "    if sexo == 'F':\n",
    "        return 60\n",
    "    else:\n",
    "        return 80\n",
    "    \n",
    "def calcularPeso2(sexo):\n",
    "    return 60 if sexo == 'F' else 80 \n",
    "    #JS   sexo == 'F' ? 60 : 80 \n",
    "\n",
    "calcularPeso3 = lambda sexo: 60 if sexo == 'F' else 80\n",
    "\n",
    "def suma(a,b): return a + b \n",
    "suma = lambda a,b: a + b \n",
    "\n",
    "\n",
    "t['peso'] = t['sexo'].apply(lambda sexo: 61 if sexo == 'F' else 81)\n",
    "t.groupby('sexo').describe()"
   ]
  },
  {
   "cell_type": "code",
   "execution_count": 13,
   "metadata": {},
   "outputs": [
    {
     "data": {
      "text/plain": [
       "2000.0"
      ]
     },
     "execution_count": 13,
     "metadata": {},
     "output_type": "execute_result"
    }
   ],
   "source": [
    "import sqlite3\n",
    "\n",
    "c = pd.read_excel('catalogo.csv')\n",
    "\n",
    "c.groupby('tipo')['precio'].mean()\n",
    "\n",
    "c['importe'] = c['precio'] * c['cantidad']\n",
    "ppp = c['importe'].sum() / c['cantidad'].sum()\n",
    "\n",
    "# Connect to the SQLite database\n",
    "conn = sqlite3.connect('seculi.db')\n",
    "\n",
    "# Read data from the database into a pandas DataFrame\n",
    "query = \"SELECT * FROM catalogo\"\n",
    "c_db = pd.read_sql_query(query, conn)\n",
    "\n",
    "# Close the connection\n",
    "conn.close()\n",
    "\n",
    "# Display the DataFrame\n",
    "c_db.head()"
   ]
  }
 ],
 "metadata": {
  "kernelspec": {
   "display_name": "Python 3",
   "language": "python",
   "name": "python3"
  },
  "language_info": {
   "codemirror_mode": {
    "name": "ipython",
    "version": 3
   },
   "file_extension": ".py",
   "mimetype": "text/x-python",
   "name": "python",
   "nbconvert_exporter": "python",
   "pygments_lexer": "ipython3",
   "version": "3.12.5"
  }
 },
 "nbformat": 4,
 "nbformat_minor": 2
}
