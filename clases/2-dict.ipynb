{
 "cells": [
  {
   "cell_type": "markdown",
   "metadata": {},
   "source": [
    "# Dic (diccionario)\n",
    "\n",
    "Coleccion (ordenada) de elementos que se acceden con una clave\n",
    "Claves son cualquier valor inmutable (p.e no listas)"
   ]
  },
  {
   "cell_type": "code",
   "execution_count": 6,
   "metadata": {},
   "outputs": [
    {
     "name": "stdout",
     "output_type": "stream",
     "text": [
      "\n",
      "Diccionario origal\n",
      " {'nombre': 'Juan', 'edad': 20}\n",
      "\n",
      "Diccionario vacio\n",
      " {}\n",
      "\n",
      "Diccionario vacio\n",
      " {}\n",
      "\n",
      "Diccionario con elementos\n",
      " {'nombre': 'Juan', 'edad': 20}\n"
     ]
    }
   ],
   "source": [
    "# Declaracion de  un diccionario\n",
    "a = {'nombre': 'Juan', 'edad': 20}\n",
    "print(\"\\nDiccionario origal\\n\",a)\n",
    "\n",
    "b = {}\n",
    "print(\"\\nDiccionario vacio\\n\",b)\n",
    "\n",
    "c = dict() # Otra forma de declarar un diccionario vacio\n",
    "print(\"\\nDiccionario vacio\\n\",c)\n",
    "\n",
    "c = dict(nombre='Juan', edad=20)\n",
    "print(\"\\nDiccionario con elementos\\n\",c)"
   ]
  },
  {
   "cell_type": "code",
   "execution_count": 13,
   "metadata": {},
   "outputs": [
    {
     "name": "stdout",
     "output_type": "stream",
     "text": [
      "\n",
      "Diccionario original\n",
      " {'nombre': 'Juan', 'edad': 20}\n",
      "\n",
      "Acceso al elemento 'nombre'\n",
      " Juan\n",
      "\n",
      "Acceso al elemento 'edad'\n",
      " 20\n",
      "\n",
      "Diccionario original\n",
      " {1: 'uno', 2: 'dos', 3: 'tres'}\n",
      "\n",
      "Acceso al elemento 1\n",
      " uno\n",
      "\n",
      "Acceso al elemento -1\n",
      " uno\n",
      "\n",
      "Diccionario original\n",
      " {'nombre': 'Juan', 'edad': 20}\n",
      "\n",
      "Acceso al elemento 'nombre'\n",
      " Juan\n"
     ]
    }
   ],
   "source": [
    "# Acceso a los elementos de un diccionario\n",
    "a = {'nombre': 'Juan', 'edad': 20}\n",
    "print(\"\\nDiccionario original\\n\",a)\n",
    "\n",
    "b = a['nombre']\n",
    "print(\"\\nAcceso al elemento 'nombre'\\n\",b)\n",
    "\n",
    "b = a['edad']\n",
    "print(\"\\nAcceso al elemento 'edad'\\n\",b)\n",
    "\n",
    "a = {1: 'uno', 2: 'dos', 3: 'tres'}\n",
    "print(\"\\nDiccionario original\\n\",a)\n",
    "\n",
    "b = a[1]\n",
    "print(\"\\nAcceso al elemento 1\\n\",b)\n",
    "\n",
    "# b = a[-1] ERROR no se puede acceder a un elemento que no existe\n",
    "print(\"\\nAcceso al elemento -1\\n\",b)\n",
    "\n",
    "# b = a['apellido'] # ERROR no se puede acceder a un elemento que no existe\n",
    "\n",
    "if 'apellido' in a:\n",
    "    b = a['apellido']\n",
    "    print(\"\\nAcceso al elemento 'apellido'\\n\",b)\n"
   ]
  },
  {
   "cell_type": "code",
   "execution_count": 16,
   "metadata": {},
   "outputs": [
    {
     "name": "stdout",
     "output_type": "stream",
     "text": [
      "\n",
      "Diccionario original\n",
      " {'nombre': 'Juan', 'edad': 20}\n",
      "\n",
      "Acceso al elemento 'nombre'\n",
      " Juan\n",
      "\n",
      "Acceso al elemento 'apellido'\n",
      " None\n",
      "\n",
      "Acceso al elemento 'apellido' con valor por defecto\n",
      " No existe\n"
     ]
    }
   ],
   "source": [
    "\n",
    "# Acceso a los elementos de un diccionario con get\n",
    "a = {'nombre': 'Juan', 'edad': 20}\n",
    "print(\"\\nDiccionario original\\n\",a)\n",
    "\n",
    "b = a.get('nombre')\n",
    "print(\"\\nAcceso al elemento 'nombre'\\n\",b)\n",
    "\n",
    "b = a.get('apellido')\n",
    "print(\"\\nAcceso al elemento 'apellido'\\n\",b)\n",
    "\n",
    "b = a.get('apellido', 'No existe')\n",
    "print(\"\\nAcceso al elemento 'apellido' con valor por defecto\\n\",b)\n",
    "\n"
   ]
  },
  {
   "cell_type": "code",
   "execution_count": 19,
   "metadata": {},
   "outputs": [
    {
     "name": "stdout",
     "output_type": "stream",
     "text": [
      "\n",
      "Diccionario original\n",
      " {True: 'verdadero', False: 'falso'}\n",
      "\n",
      "Acceso al elemento 1<2\n",
      " verdadero\n"
     ]
    }
   ],
   "source": [
    "a = {True: 'verdadero', False: 'falso'}\n",
    "print(\"\\nDiccionario original\\n\",a)\n",
    "\n",
    "b = a[ 1 < 2 ]\n",
    "print(\"\\nAcceso al elemento 1<2\\n\",b)"
   ]
  },
  {
   "cell_type": "code",
   "execution_count": 23,
   "metadata": {},
   "outputs": [
    {
     "name": "stdout",
     "output_type": "stream",
     "text": [
      "\n",
      "Diccionario original\n",
      " {'nombre': 'Juan', 'edad': 20}\n",
      "\n",
      "Diccionario con nombre cambiado\n",
      " {'nombre': 'Pedro', 'edad': 20}\n",
      "\n",
      "Diccionario con apellido agregado\n",
      " {'nombre': 'Pedro', 'edad': 20, 'apellido': 'Perez'}\n",
      "\n",
      "Diccionario original con nombre cambiado\n",
      " {'nombre': 'Anonimo', 'edad': 20, 'apellido': 'Perez'}\n",
      "\n",
      "Diccionario b con nombre cambiado\n",
      " {'nombre': 'Anonimo', 'edad': 20, 'apellido': 'Perez'}\n",
      "\n",
      "Diccionario original\n",
      " {'nombre': 'Juan', 'edad': 20}\n",
      "\n",
      "Diccionario original\n",
      " {'nombre': 'Juan', 'edad': 20}\n",
      "\n",
      "Diccionario copiado\n",
      " {'nombre': 'Pedro', 'edad': 20}\n"
     ]
    }
   ],
   "source": [
    "a = {'nombre': 'Juan', 'edad': 20}\n",
    "print(\"\\nDiccionario original\\n\",a)\n",
    "\n",
    "a['nombre'] = 'Pedro'\n",
    "print(\"\\nDiccionario con nombre cambiado\\n\",a)\n",
    "\n",
    "a['apellido'] = 'Perez'\n",
    "print(\"\\nDiccionario con apellido agregado\\n\",a)\n",
    "\n",
    "b = a # Se asigna la referencia a la variable b\n",
    "b['nombre'] = 'Anonimo'\n",
    "print(\"\\nDiccionario original con nombre cambiado\\n\",a)\n",
    "print(\"\\nDiccionario b con nombre cambiado\\n\",b)\n",
    "\n",
    "a = {'nombre': 'Juan', 'edad': 20}\n",
    "print(\"\\nDiccionario original\\n\",a)\n",
    "b = a.copy() # Se copia el diccionario\n",
    "\n",
    "b['nombre'] = 'Pedro'\n",
    "print(\"\\nDiccionario original\\n\",a)\n",
    "print(\"\\nDiccionario copiado\\n\",b)"
   ]
  },
  {
   "cell_type": "code",
   "execution_count": 26,
   "metadata": {},
   "outputs": [
    {
     "name": "stdout",
     "output_type": "stream",
     "text": [
      "\n",
      "Diccionario original\n",
      " {'nombre': 'Juan', 'edad': 20}\n",
      "\n",
      "Diccionario original modificado\n",
      " {'nombre': 'Pedro', 'edad': 20, 'apellido': 'Perez'}\n",
      "\n",
      "Diccionario original con nombre borrado\n",
      " {'nombre': None, 'edad': 20}\n",
      "\n",
      "Diccionario original con nombre borrado\n",
      " {'edad': 20}\n"
     ]
    }
   ],
   "source": [
    "a = {'nombre': 'Juan', 'edad': 20}\n",
    "print(\"\\nDiccionario original\\n\",a)\n",
    "\n",
    "a.update({'nombre': 'Pedro', 'apellido': 'Perez'})\n",
    "print(\"\\nDiccionario original modificado\\n\",a)\n"
   ]
  },
  {
   "cell_type": "code",
   "execution_count": 31,
   "metadata": {},
   "outputs": [
    {
     "name": "stdout",
     "output_type": "stream",
     "text": [
      "\n",
      "Diccionario original con nombre borrado\n",
      " {'nombre': None, 'edad': 20}\n",
      "\n",
      "Diccionario original con nombre borrado\n",
      " {'edad': 20}\n",
      "\n",
      "Diccionario original con elemento borrado\n",
      " {'edad': 20}\n",
      "\n",
      "Elemento borrado\n",
      " Juan\n",
      "\n",
      "Cuantos elementos \n",
      " 1\n"
     ]
    }
   ],
   "source": [
    "\n",
    "# Borrar elementos de un diccionario\n",
    "a = {'nombre': 'Juan', 'edad': 20}\n",
    "\n",
    "a['nombre'] = None \n",
    "print(\"\\nDiccionario original con nombre borrado\\n\",a)\n",
    "\n",
    "del a['nombre']\n",
    "print(\"\\nDiccionario original con nombre borrado\\n\",a)\n",
    "\n",
    "a = {'nombre': 'Juan', 'edad': 20}\n",
    "b = a.pop('nombre')\n",
    "print(\"\\nDiccionario original con elemento borrado\\n\",a)\n",
    "print(\"\\nElemento borrado\\n\",b)\n",
    "\n",
    "print(\"\\nCuantos elementos \\n\",len(a))"
   ]
  },
  {
   "cell_type": "code",
   "execution_count": 38,
   "metadata": {},
   "outputs": [
    {
     "name": "stdout",
     "output_type": "stream",
     "text": [
      "\n",
      "Diccionario original\n",
      " {'nombre': 'Juan', 'edad': 20}\n",
      "\n",
      "Iterar sobre las claves (impliciamente)\n",
      "\n",
      "nombre\n",
      "edad\n",
      "\n",
      "Iterar sobre las claves (explicitamente)\n",
      "\n",
      "nombre\n",
      "edad\n",
      "\n",
      "Iterar sobre los valores\n",
      "\n",
      "Juan\n",
      "20\n",
      "\n",
      "Iterar sobre los elementos\n",
      "\n",
      "('nombre', 'Juan')\n",
      "('edad', 20)\n",
      "\n",
      "Iterar sobre los elementos (clave, valor)\n",
      "\n",
      "nombre Juan\n",
      "edad 20\n"
     ]
    }
   ],
   "source": [
    "# Iterar sobre un diccionario\n",
    "\n",
    "a = {'nombre': 'Juan', 'edad': 20}\n",
    "\n",
    "print(\"\\nDiccionario original\\n\",a)\n",
    "\n",
    "print(\"\\nIterar sobre las claves (impliciamente)\\n\")\n",
    "for x in a:\n",
    "    print(x)\n",
    "\n",
    "print(\"\\nIterar sobre las claves (explicitamente)\\n\")\n",
    "for x in a.keys():\n",
    "    print(x)\n",
    "\n",
    "print(\"\\nIterar sobre los valores\\n\")\n",
    "for x in a.values():\n",
    "    print(x)\n",
    "\n",
    "print(\"\\nIterar sobre los elementos\\n\")\n",
    "for x in a.items():\n",
    "    print(x)\n",
    "\n",
    "print(\"\\nIterar sobre los elementos (clave, valor)\\n\")\n",
    "for x, y in a.items():\n",
    "    print(x, y)\n",
    "\n"
   ]
  },
  {
   "cell_type": "code",
   "execution_count": 41,
   "metadata": {},
   "outputs": [
    {
     "name": "stdout",
     "output_type": "stream",
     "text": [
      "\n",
      "Diccionario original\n",
      " {1: 1, 2: 4, 3: 9, 4: 16, 5: 25}\n",
      "\n",
      "Diccionario con valores al cuadrado\n",
      " {1: 1, 2: 4, 3: 9, 4: 16, 5: 25}\n",
      "\n",
      "Diccionario con valores al cuadrado\n",
      " {1: 1, 2: 4, 3: 9, 4: 16, 5: 25}\n"
     ]
    }
   ],
   "source": [
    "a = {1: 1, 2: 4, 3: 9, 4: 16, 5: 25}\n",
    "print(\"\\nDiccionario original\\n\",a)\n",
    "\n",
    "b = {}\n",
    "for x in range(1, 6):\n",
    "    b[x] = x ** 2\n",
    "print(\"\\nDiccionario con valores al cuadrado\\n\",b)\n",
    "\n",
    "# Forma mas eficiente de hacer lo anterior (comprension de diccionarios)\n",
    "a = {x: x ** 2 for x in range(1, 6)}\n",
    "print(\"\\nDiccionario con valores al cuadrado\\n\",a)\n"
   ]
  },
  {
   "cell_type": "code",
   "execution_count": 46,
   "metadata": {},
   "outputs": [
    {
     "name": "stdout",
     "output_type": "stream",
     "text": [
      "\n",
      "Diccionario con la cantidad de veces que aparece cada letra\n",
      " {'e': 9, 's': 7, 't': 5, 'a': 16, ' ': 14, 'u': 2, 'n': 4, 'f': 2, 'r': 6, 'l': 3, 'g': 1, 'p': 1, 'c': 4, 'o': 1, 'v': 1, 'd': 1}\n",
      "\n",
      "Diccionario con la cantidad de veces que aparece cada letra\n",
      " {'e': 9, 's': 7, 't': 5, 'a': 16, ' ': 14, 'u': 2, 'n': 4, 'f': 2, 'r': 6, 'l': 3, 'g': 1, 'p': 1, 'c': 4, 'o': 1, 'v': 1, 'd': 1}\n",
      "\n",
      "Diccionario con la cantidad de veces que aparece cada letra\n",
      " {'e': 9, 's': 7, 't': 5, 'a': 16, ' ': 14, 'u': 2, 'n': 4, 'f': 2, 'r': 6, 'l': 3, 'g': 1, 'p': 1, 'c': 4, 'o': 1, 'v': 1, 'd': 1}\n"
     ]
    }
   ],
   "source": [
    "texto = 'Esta es una frase larga para contar cuantas veces esta cada letra en la frase'.lower()\n",
    "letras = list(texto)\n",
    "contar = {}\n",
    "\n",
    "for letra in letras:\n",
    "    if letra in contar:\n",
    "        contar[letra] += 1\n",
    "    else:\n",
    "        contar[letra] = 1\n",
    "print(\"\\nDiccionario con la cantidad de veces que aparece cada letra\\n\",contar)\n",
    "\n",
    "c = {}\n",
    "for letra in texto:\n",
    "    c[letra] = c.get(letra, 0) + 1\n",
    "\n",
    "print(\"\\nDiccionario con la cantidad de veces que aparece cada letra\\n\",c)\n",
    "\n",
    "# Forma mas eficiente de hacer lo anterior (comprension de diccionarios)\n",
    "a = {letra: texto.count(letra) for letra in texto}\n",
    "print(\"\\nDiccionario con la cantidad de veces que aparece cada letra\\n\",a)"
   ]
  },
  {
   "cell_type": "code",
   "execution_count": null,
   "metadata": {},
   "outputs": [],
   "source": []
  }
 ],
 "metadata": {
  "kernelspec": {
   "display_name": "Python 3",
   "language": "python",
   "name": "python3"
  },
  "language_info": {
   "codemirror_mode": {
    "name": "ipython",
    "version": 3
   },
   "file_extension": ".py",
   "mimetype": "text/x-python",
   "name": "python",
   "nbconvert_exporter": "python",
   "pygments_lexer": "ipython3",
   "version": "3.12.5"
  }
 },
 "nbformat": 4,
 "nbformat_minor": 2
}
