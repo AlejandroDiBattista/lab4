{
 "cells": [
  {
   "cell_type": "markdown",
   "metadata": {},
   "source": [
    "# Dict (Diccionarios)\n",
    "\n",
    "Colecciones de valores que pueden ser accedidos por una clave"
   ]
  },
  {
   "cell_type": "code",
   "execution_count": 5,
   "metadata": {},
   "outputs": [
    {
     "name": "stdout",
     "output_type": "stream",
     "text": [
      "\n",
      "Diccionario a: \n",
      " {'nombre': 'Juan', 'edad': 22, 'cursos': ['Python', 'Django', 'JavaScript']}\n",
      "\n",
      "Diccionario b: \n",
      " {'nombre': 'Juan', 'edad': 22, 'cursos': ['Python', 'Django', 'JavaScript']}\n",
      "\n",
      "Diccionario creado elemento a elemento: \n",
      " {'nombre': 'Juan', 'edad': 22}\n",
      "\n",
      "Diccionario creado con zip: \n",
      " {'nombre': 'Juan', 'edad': 22}\n"
     ]
    }
   ],
   "source": [
    "# Creacion de diccionarios\n",
    "\n",
    "a = {'nombre': 'Juan', 'edad': 22, 'cursos': ['Python', 'Django', 'JavaScript']}\n",
    "print(\"\\nDiccionario a: \\n\", a)\n",
    "\n",
    "# Creacion de diccionario con la funcion dict()\n",
    "b = dict(nombre='Juan', edad=22, cursos=['Python', 'Django', 'JavaScript'])\n",
    "print(\"\\nDiccionario b: \\n\", b)\n",
    "\n",
    "c = {}\n",
    "c['nombre'] = 'Juan'\n",
    "c['edad'] = 22\n",
    "print(\"\\nDiccionario creado elemento a elemento: \\n\", c)\n",
    "\n",
    "# Creacion de diccionario con la funcion zip()\n",
    "claves = ['nombre', 'edad']\n",
    "valores = ['Juan', 22]\n",
    "d = dict(zip(claves, valores))\n",
    "print(\"\\nDiccionario creado con zip: \\n\", d)\n"
   ]
  },
  {
   "cell_type": "code",
   "execution_count": 17,
   "metadata": {},
   "outputs": [
    {
     "name": "stdout",
     "output_type": "stream",
     "text": [
      "\n",
      "Nombre:  Juan\n",
      "Edad:  22\n",
      "\n",
      "Diccionario modificado: \n",
      " {'nombre': 'Juan Carlos', 'edad': 22}\n",
      "\n",
      "Diccionario con un elemento eliminado: \n",
      " {'edad': 22}\n",
      "\n",
      "Metodo get:  None\n",
      "\n",
      "Metodo get con valor por defecto: \n",
      " No existe\n",
      "\n",
      "El elemento 'apellido' no existe en el diccionario\n"
     ]
    }
   ],
   "source": [
    "# Acceso a los elementos de un diccionario\n",
    "\n",
    "d = {'nombre': 'Juan', 'edad': 22}\n",
    "print(\"\\nNombre: \", d['nombre'])\n",
    "print(\"Edad: \", d['edad'])\n",
    "\n",
    "# Modificacion de un diccionario\n",
    "d['nombre'] = 'Juan Carlos'\n",
    "print(\"\\nDiccionario modificado: \\n\", d)\n",
    "\n",
    "# Eliminacion de un elemento de un diccionario\n",
    "del d['nombre']\n",
    "print(\"\\nDiccionario con un elemento eliminado: \\n\", d)\n",
    "\n",
    "# del d['apellido'] # Genera un error\n",
    "\n",
    "print(\"\\nMetodo get: \", d.get('apellido'))\n",
    "print(\"\\nMetodo get con valor por defecto: \\n\", d.get('apellido', 'No existe'))\n",
    "\n",
    "if 'apellido' in d:\n",
    "    print(\"\\nEl elemento 'apellido' existe en el diccionario\")\n",
    "else:\n",
    "    print(\"\\nEl elemento 'apellido' no existe en el diccionario\")\n",
    "\n"
   ]
  },
  {
   "cell_type": "code",
   "execution_count": 29,
   "metadata": {},
   "outputs": [
    {
     "name": "stdout",
     "output_type": "stream",
     "text": [
      "\n",
      "Cantidad de elementos del diccionario:  2\n",
      "\n",
      "Recorrer con un ciclo for: \n",
      " Clave: nombre     Valor: Juan\n",
      " Clave: edad       Valor: 22\n",
      "\n",
      "Metodo keys(): \n",
      " Clave: nombre     Valor: Juan\n",
      " Clave: edad       Valor: 22\n",
      "\n",
      "Metodo values(): \n",
      " Valor: Juan\n",
      " Valor: 22\n",
      "\n",
      "Metodo items(): \n",
      " Clave: nombre     Valor: Juan\n",
      " Clave: edad       Valor: 22\n",
      "\n",
      "Recorrer con enumerate: \n",
      " Indice: 0 Clave: nombre     Valor: Juan\n",
      " Indice: 1 Clave: edad       Valor: 22\n"
     ]
    }
   ],
   "source": [
    "# Iteracion sobre un diccionario\n",
    "d = {'nombre': 'Juan', 'edad': 22}\n",
    "\n",
    "print(\"\\nCantidad de elementos del diccionario: \", len(d))\n",
    "\n",
    "# Recorrer con un ciclo for\n",
    "print(\"\\nRecorrer con un ciclo for: \")\n",
    "for key in d:\n",
    "    print(f\" Clave: {key:10} Valor: {d[key]}\")\n",
    "\n",
    "# Equivale a usar el metodo keys()\n",
    "print(\"\\nMetodo keys(): \")\n",
    "for key in d.keys():\n",
    "    print(f\" Clave: {key:10} Valor: {d[key]}\")\n",
    "\n",
    "# Recorrer los valoers\n",
    "print(\"\\nMetodo values(): \")\n",
    "for value in d.values():\n",
    "    print(f\" Valor: {value}\")\n",
    "\n",
    "# Recorrer los items\n",
    "print(\"\\nMetodo items(): \")\n",
    "for key, value in d.items():\n",
    "    print(f\" Clave: {key:10} Valor: {value}\")\n",
    "\n",
    "# Recorrer con enumerate\n",
    "print(\"\\nRecorrer con enumerate: \")\n",
    "for i, key in enumerate(d):\n",
    "    print(f\" Indice: {i} Clave: {key:10} Valor: {d[key]}\")\n",
    "\n"
   ]
  },
  {
   "cell_type": "code",
   "execution_count": 35,
   "metadata": {},
   "outputs": [
    {
     "name": "stdout",
     "output_type": "stream",
     "text": [
      "\n",
      "Diccionario e: \n",
      " {'nombre': 'Juan', 'edad': 22}\n",
      "\n",
      "Diccionario f: \n",
      " {'nombre': 'Juan', 'edad': 22}\n",
      "\n",
      "Diccionario e modificado: \n",
      " {'nombre': 'Maria Jose', 'edad': 22}\n",
      "\n",
      "Diccionario f tambien: \n",
      " {'nombre': 'Maria Jose', 'edad': 22}\n",
      "\n",
      "Diccionario e modificado: \n",
      " {'nombre': 'Juan', 'edad': 22}\n",
      "\n",
      "Diccionario f no se modifica: \n",
      " {'nombre': 'Maria Jose', 'edad': 22}\n"
     ]
    }
   ],
   "source": [
    "# Copiar un diccionario\n",
    "d = {'nombre': 'Juan', 'edad': 22}\n",
    "e = d.copy()\n",
    "print(\"\\nDiccionario e: \\n\", e)\n",
    "\n",
    "f = dict(e)\n",
    "print(\"\\nDiccionario f: \\n\", f)\n",
    "\n",
    "e = f \n",
    "e['nombre'] = 'Maria Jose'\n",
    "print(\"\\nDiccionario e modificado: \\n\", e)\n",
    "print(\"\\nDiccionario f tambien: \\n\", f)\n",
    "\n",
    "e = f.copy()\n",
    "e['nombre'] = 'Juan'\n",
    "print(\"\\nDiccionario e modificado: \\n\", e)\n",
    "print(\"\\nDiccionario f no se modifica: \\n\", f)\n",
    "\n",
    "# Los diccionarios son mutables y se pasan por referencia\n"
   ]
  },
  {
   "cell_type": "code",
   "execution_count": 43,
   "metadata": {},
   "outputs": [
    {
     "name": "stdout",
     "output_type": "stream",
     "text": [
      "\n",
      "Contador de letras: \n",
      " {'e': 12, 's': 4, 't': 7, ' ': 15, 'u': 3, 'n': 4, 'x': 1, 'o': 3, 'l': 3, 'a': 9, 'r': 5, 'g': 1, 'p': 2, 'c': 3, 'i': 2, 'd': 3, 'v': 1, 'q': 1}\n",
      "\n",
      "Contador de letras con Counter: \n",
      " Counter({' ': 15, 'e': 12, 'a': 9, 't': 7, 'r': 5, 's': 4, 'n': 4, 'u': 3, 'o': 3, 'l': 3, 'c': 3, 'd': 3, 'p': 2, 'i': 2, 'x': 1, 'g': 1, 'v': 1, 'q': 1})\n",
      "\n",
      "Contador de letras con get: \n",
      " {'e': 12, 's': 4, 't': 7, ' ': 15, 'u': 3, 'n': 4, 'x': 1, 'o': 3, 'l': 3, 'a': 9, 'r': 5, 'g': 1, 'p': 2, 'c': 3, 'i': 2, 'd': 3, 'v': 1, 'q': 1}\n"
     ]
    }
   ],
   "source": [
    "# Contar la cantidad de veces que se repite una letra en una cadena\n",
    "cadena = 'Este es un texto largo para contar la cantidad de veces que se repite una letra'.lower()\n",
    "contador = {}\n",
    "for letra in cadena:\n",
    "    if letra in contador:\n",
    "        contador[letra] += 1\n",
    "    else:\n",
    "        contador[letra] = 1\n",
    "\n",
    "print(\"\\nContador de letras: \\n\", contador)\n",
    "\n",
    "# Otra forma de hacerlo\n",
    "from collections import Counter\n",
    "contador = Counter(cadena)\n",
    "print(\"\\nContador de letras con Counter: \\n\", contador)\n",
    "\n",
    "# Otra forma de hacerlo\n",
    "contador = {}\n",
    "for letra in cadena:\n",
    "    contador[letra] = contador.get(letra, 0) + 1\n",
    "\n",
    "print(\"\\nContador de letras con get: \\n\", contador)"
   ]
  },
  {
   "cell_type": "code",
   "execution_count": 46,
   "metadata": {},
   "outputs": [
    {
     "name": "stdout",
     "output_type": "stream",
     "text": [
      "\n",
      "Palabras agrupadas por longitud: \n",
      " {4: ['Este', 'para'], 2: ['es', 'un', 'la', 'de'], 5: ['texto', 'largo'], 7: ['agrupar'], 3: ['las', 'por', 'las'], 8: ['palabras', 'longitud'], 6: ['mismas']}\n"
     ]
    }
   ],
   "source": [
    "# Agrupar las palabras de una cadena por la longitud de las mismas\n",
    "cadena = 'Este es un texto largo para agrupar las palabras por la longitud de las mismas'\n",
    "palabras = cadena.split()\n",
    "agrupadas = {}\n",
    "for palabra in palabras:\n",
    "    longitud = len(palabra)\n",
    "    if longitud not in agrupadas:\n",
    "        agrupadas[longitud] = []\n",
    "    \n",
    "    agrupadas[longitud].append(palabra)\n",
    "\n",
    "print(\"\\nPalabras agrupadas por longitud: \\n\", agrupadas)"
   ]
  }
 ],
 "metadata": {
  "kernelspec": {
   "display_name": "Python 3",
   "language": "python",
   "name": "python3"
  },
  "language_info": {
   "codemirror_mode": {
    "name": "ipython",
    "version": 3
   },
   "file_extension": ".py",
   "mimetype": "text/x-python",
   "name": "python",
   "nbconvert_exporter": "python",
   "pygments_lexer": "ipython3",
   "version": "3.12.5"
  }
 },
 "nbformat": 4,
 "nbformat_minor": 2
}
