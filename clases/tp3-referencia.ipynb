{
 "cells": [
  {
   "cell_type": "markdown",
   "metadata": {},
   "source": [
    "#TP3"
   ]
  },
  {
   "cell_type": "markdown",
   "metadata": {},
   "source": [
    "## Ejercicio 1: Cargar Datos de ventas.\n",
    "\n",
    "El archivo datos.dat contiene el registro de las ventas realizadas.\n",
    "\n",
    "Tiene un formato de ancho fijo:\n",
    "- fecha:    10 lugares\n",
    "- producto: 30 lugares\n",
    "- precio:   10 lugares\n",
    "- cantidad:  5 lugares\n",
    "\n",
    "hacer una funcion que carge los en una lista de diccionarios. \n",
    "\n",
    "nota: con \n",
    "```python\n",
    "lineas = open(\"datos.dat\", \"r\").readlines() \n",
    "```\n",
    "puede obtener la lista de string de todos los datos "
   ]
  },
  {
   "cell_type": "code",
   "execution_count": 1,
   "metadata": {},
   "outputs": [],
   "source": [
    "def cargar_datos():\n",
    "    datos = []\n",
    "    with open(\"datos.dat\", \"r\") as archivo:\n",
    "        lineas = archivo.readlines()\n",
    "        for linea in lineas:\n",
    "            registro = {\n",
    "                \"fecha\": linea[:10].strip(),\n",
    "                \"producto\": linea[10:40].strip(),\n",
    "                \"precio\": float(linea[40:50].strip()),\n",
    "                \"cantidad\": int(linea[50:55].strip())\n",
    "            }\n",
    "            datos.append(registro)\n",
    "    return datos\n",
    "\n",
    "datos = cargar_datos()\n"
   ]
  },
  {
   "cell_type": "markdown",
   "metadata": {},
   "source": [
    "## Ejercicio 2: Calcular el total de ventas.\n",
    "\n",
    "Hacer una funcion que sume los importes vendidos (precio * cantidad) y las cantidades"
   ]
  },
  {
   "cell_type": "code",
   "execution_count": 2,
   "metadata": {},
   "outputs": [
    {
     "name": "stdout",
     "output_type": "stream",
     "text": [
      "Las ventas fueron de $392730.00 en 335 unidades\n"
     ]
    }
   ],
   "source": [
    "def calcular_totales(datos):\n",
    "    total_importe  = 0\n",
    "    total_cantidad = 0\n",
    "    for registro in datos:\n",
    "        total_importe  += registro[\"precio\"] * registro[\"cantidad\"]\n",
    "        total_cantidad += registro[\"cantidad\"]\n",
    "    return total_importe, total_cantidad\n",
    "\n",
    "importe, cantidad = calcular_totales(datos)\n",
    "print(f\"Las ventas fueron de ${importe:.2f} en {cantidad} unidades\")\n"
   ]
  },
  {
   "cell_type": "markdown",
   "metadata": {},
   "source": [
    "## Ejercicio 3: Listar las unidades vendidas.\n",
    "\n",
    "Listar cuantas unidades se vendieron en total para cada producto"
   ]
  },
  {
   "cell_type": "code",
   "execution_count": 3,
   "metadata": {},
   "outputs": [
    {
     "name": "stdout",
     "output_type": "stream",
     "text": [
      "Producto: Mirinda, Unidades vendidas: 85\n",
      "Producto: Torasso, Unidades vendidas: 32\n",
      "Producto: Pepsi Cola, Unidades vendidas: 89\n",
      "Producto: Sprite, Unidades vendidas: 72\n",
      "Producto: Coca Cola, Unidades vendidas: 57\n"
     ]
    }
   ],
   "source": [
    "from collections import defaultdict\n",
    "\n",
    "def unidades_vendidas(datos):\n",
    "    ventas = defaultdict(int)\n",
    "    for registro in datos:\n",
    "        ventas[registro[\"producto\"]] += registro[\"cantidad\"]\n",
    "    return ventas\n",
    "\n",
    "def listar_ventas(ventas):\n",
    "    for producto, cantidad in ventas.items():\n",
    "        print(f\"Producto: {producto}, Unidades vendidas: {cantidad}\")\n",
    "\n",
    "ventas = unidades_vendidas(datos)\n",
    "listar_ventas(ventas)"
   ]
  },
  {
   "cell_type": "markdown",
   "metadata": {},
   "source": [
    "##  Ejercicio 4: Listar el precio promedio por producto.\n",
    "\n",
    "Hacer un listado del precio promedio por productos."
   ]
  },
  {
   "cell_type": "code",
   "execution_count": 4,
   "metadata": {},
   "outputs": [
    {
     "name": "stdout",
     "output_type": "stream",
     "text": [
      "Producto: Mirinda, Precio promedio: $1542.12\n",
      "Producto: Torasso, Precio promedio: $916.25\n",
      "Producto: Pepsi Cola, Precio promedio: $1241.69\n",
      "Producto: Sprite, Precio promedio: $847.78\n",
      "Producto: Coca Cola, Precio promedio: $1066.32\n"
     ]
    }
   ],
   "source": [
    "def precio_promedio(datos):\n",
    "    total_precios    = defaultdict(float)\n",
    "    total_cantidades = defaultdict(int)\n",
    "    \n",
    "    for registro in datos:\n",
    "        total_precios[registro[\"producto\"]] += registro[\"precio\"] * registro[\"cantidad\"]\n",
    "        total_cantidades[registro[\"producto\"]] += registro[\"cantidad\"]\n",
    "\n",
    "    precios_promedio = {producto: total_precios[producto] / total_cantidades[producto]\n",
    "                        for producto in total_precios}\n",
    "    return precios_promedio\n",
    "\n",
    "def listar_precios(precios):\n",
    "    for producto, precio in precios.items():\n",
    "        print(f\"Producto: {producto}, Precio promedio: ${precio:.2f}\")\n",
    "\n",
    "precios = precio_promedio(datos)\n",
    "listar_precios(precios)\n"
   ]
  },
  {
   "cell_type": "markdown",
   "metadata": {},
   "source": [
    "### Ejercicio 5: Ranking de productos\n",
    "\n",
    "Realizar un listado de los 3 productos mas vendidos ordenados la cantidad de unidades vendidas (ordenadas de mayor a menor)\n"
   ]
  },
  {
   "cell_type": "code",
   "execution_count": 5,
   "metadata": {},
   "outputs": [
    {
     "name": "stdout",
     "output_type": "stream",
     "text": [
      "Producto: Pepsi Cola, Unidades vendidas: 89\n",
      "Producto: Mirinda, Unidades vendidas: 85\n",
      "Producto: Sprite, Unidades vendidas: 72\n"
     ]
    }
   ],
   "source": [
    "def ranking_productos(datos, top=3):\n",
    "    ventas = unidades_vendidas(datos)\n",
    "    ranking = sorted(ventas.items(), key=lambda x: x[1], reverse=True)[:top]\n",
    "    return ranking\n",
    "\n",
    "def listar_ranking(ranking):\n",
    "    for producto, cantidad in ranking:\n",
    "        print(f\"Producto: {producto}, Unidades vendidas: {cantidad}\")\n",
    "\n",
    "ranking = ranking_productos(datos)\n",
    "listar_ranking(ranking)\n"
   ]
  },
  {
   "cell_type": "markdown",
   "metadata": {},
   "source": [
    "### Ejercicio 6: Listar las ventas por mes\n",
    "\n",
    "Realizar un listado del total de unidades vendidas por productos separada por mes."
   ]
  },
  {
   "cell_type": "code",
   "execution_count": 6,
   "metadata": {},
   "outputs": [
    {
     "name": "stdout",
     "output_type": "stream",
     "text": [
      "Mes: 2024-08\n",
      "  Producto: Mirinda, Unidades vendidas: 27\n",
      "  Producto: Torasso, Unidades vendidas: 8\n",
      "  Producto: Pepsi Cola, Unidades vendidas: 10\n",
      "Mes: 2024-09\n",
      "  Producto: Mirinda, Unidades vendidas: 58\n",
      "  Producto: Sprite, Unidades vendidas: 72\n",
      "  Producto: Coca Cola, Unidades vendidas: 57\n",
      "  Producto: Pepsi Cola, Unidades vendidas: 79\n",
      "  Producto: Torasso, Unidades vendidas: 24\n"
     ]
    }
   ],
   "source": [
    "from datetime import datetime\n",
    "\n",
    "def ventas_por_mes(datos):\n",
    "    ventas_mensuales = defaultdict(lambda: defaultdict(int))\n",
    "    \n",
    "    for registro in datos:\n",
    "        mes = datetime.strptime(registro[\"fecha\"], \"%Y-%m-%d\").strftime(\"%Y-%m\")\n",
    "        ventas_mensuales[mes][registro[\"producto\"]] += registro[\"cantidad\"]\n",
    "    \n",
    "    return ventas_mensuales\n",
    "\n",
    "def listar_ventas_mensuales(ventas):\n",
    "    for mes, productos in ventas.items():\n",
    "        print(f\"Mes: {mes}\")\n",
    "        for producto, cantidad in productos.items():\n",
    "            print(f\"  Producto: {producto}, Unidades vendidas: {cantidad}\")\n",
    "\n",
    "ventas_mensuales = ventas_por_mes(datos)\n",
    "listar_ventas_mensuales(ventas_mensuales)"
   ]
  },
  {
   "cell_type": "markdown",
   "metadata": {},
   "source": [
    "### Ejercicio 7: Informe general\n",
    "\n",
    "Mostrar un listado de productos ordenados alfabeticamente que contengan el precio promedio, la cantidad de unidades vendidas y el importe total vendido para cada producto"
   ]
  },
  {
   "cell_type": "code",
   "execution_count": 7,
   "metadata": {},
   "outputs": [
    {
     "name": "stdout",
     "output_type": "stream",
     "text": [
      "Producto: Coca Cola, Precio promedio: $1066.32, Cantidad vendida: 57, Importe total: $60780.00\n",
      "Producto: Mirinda, Precio promedio: $1542.12, Cantidad vendida: 85, Importe total: $131080.00\n",
      "Producto: Pepsi Cola, Precio promedio: $1241.69, Cantidad vendida: 89, Importe total: $110510.00\n",
      "Producto: Sprite, Precio promedio: $847.78, Cantidad vendida: 72, Importe total: $61040.00\n",
      "Producto: Torasso, Precio promedio: $916.25, Cantidad vendida: 32, Importe total: $29320.00\n"
     ]
    }
   ],
   "source": [
    "def resumen_ventas(datos):\n",
    "    resumen = defaultdict(lambda: {\"cantidad\": 0, \"importe\": 0, \"precio_promedio\": 0})\n",
    "    precios_totales = defaultdict(float)\n",
    "    cantidades_totales = defaultdict(int)\n",
    "    \n",
    "    for registro in datos:\n",
    "        producto = registro[\"producto\"]\n",
    "        resumen[producto][\"cantidad\"] += registro[\"cantidad\"]\n",
    "        resumen[producto][\"importe\"] += registro[\"precio\"] * registro[\"cantidad\"]\n",
    "        precios_totales[producto] += registro[\"precio\"] * registro[\"cantidad\"]\n",
    "        cantidades_totales[producto] += registro[\"cantidad\"]\n",
    "\n",
    "    for producto in resumen:\n",
    "        resumen[producto][\"precio_promedio\"] = precios_totales[producto] / cantidades_totales[producto]\n",
    "    \n",
    "    return dict(resumen)\n",
    "\n",
    "def informe_ventas(resumen):\n",
    "    productos_ordenados = sorted(resumen.keys())\n",
    "    for producto in productos_ordenados:\n",
    "        info = resumen[producto]\n",
    "        print(f\"Producto: {producto}, Precio promedio: ${info['precio_promedio']:.2f}, \"\n",
    "              f\"Cantidad vendida: {info['cantidad']}, Importe total: ${info['importe']:.2f}\")\n",
    "\n",
    "resumen = resumen_ventas(datos)\n",
    "informe_ventas(resumen)"
   ]
  }
 ],
 "metadata": {
  "kernelspec": {
   "display_name": "Python 3",
   "language": "python",
   "name": "python3"
  },
  "language_info": {
   "codemirror_mode": {
    "name": "ipython",
    "version": 3
   },
   "file_extension": ".py",
   "mimetype": "text/x-python",
   "name": "python",
   "nbconvert_exporter": "python",
   "pygments_lexer": "ipython3",
   "version": "3.12.5"
  }
 },
 "nbformat": 4,
 "nbformat_minor": 2
}
