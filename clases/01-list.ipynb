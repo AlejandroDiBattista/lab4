{
 "cells": [
  {
   "cell_type": "markdown",
   "metadata": {},
   "source": [
    "# Tipos Compuestos en Python\n",
    "\n",
    "En python existe cuatro tipo de datos basicos que sirve para manejar colecciones de datos.\n",
    "\n",
    "- **list** : Lista de elementos accesible mediante un indice\n",
    "- **dict** : Diccionarios, pares clave valor\n",
    "- **set**  : Conjunto de valores si repetir\n",
    "- **tuple**: Listas inmutables\n"
   ]
  },
  {
   "cell_type": "markdown",
   "metadata": {},
   "source": [
    "## Listas \n",
    " Colección de elementos accesibles mediante un indice."
   ]
  },
  {
   "cell_type": "code",
   "execution_count": 7,
   "metadata": {},
   "outputs": [
    {
     "name": "stdout",
     "output_type": "stream",
     "text": [
      "[1, 2, 3, 4, 5]\n",
      "[1, 2, 3, 4, 5, 'hola', 3.14]\n",
      "[[1, 2, 3], [4, 5, 6], [7, 8, 9]]\n"
     ]
    }
   ],
   "source": [
    "# Creacion\n",
    "\n",
    "# Lista simple\n",
    "a = [1, 2, 3, 4, 5]\n",
    "print(a)\n",
    "\n",
    "# Lista con elementos de diferentes tipos\n",
    "b = [1, 2, 3, 4, 5, \"hola\", 3.14]\n",
    "print(b)\n",
    "\n",
    "# Lista con listas (matrices)\n",
    "c = [[1, 2, 3], \n",
    "     [4, 5, 6], \n",
    "     [7, 8, 9]]\n",
    "print(c)"
   ]
  },
  {
   "cell_type": "code",
   "execution_count": 9,
   "metadata": {},
   "outputs": [
    {
     "name": "stdout",
     "output_type": "stream",
     "text": [
      "[]\n",
      "[]\n"
     ]
    }
   ],
   "source": [
    "# Lista vacia\n",
    "d = []\n",
    "print(d)\n",
    "\n",
    "e = list() # Otra forma de crear una lista vacia usando el constructor\n",
    "print(e)"
   ]
  },
  {
   "cell_type": "code",
   "execution_count": 13,
   "metadata": {},
   "outputs": [
    {
     "name": "stdout",
     "output_type": "stream",
     "text": [
      "[0, 1, 2, 3, 4, 5, 6, 7, 8, 9]\n",
      "[0, 2, 4, 6, 8]\n",
      "['h', 'o', 'l', 'a', ' ', 'm', 'u', 'n', 'd', 'o']\n"
     ]
    }
   ],
   "source": [
    "# Lista con elementos de un rango\n",
    "f = list(range(10))\n",
    "print(f)\n",
    "\n",
    "# Lista con elementos de un rango con un paso\n",
    "g = list(range(0, 10, 2))\n",
    "print(g)\n",
    "\n",
    "# Lista a partir de un string\n",
    "h = list(\"hola mundo\")\n",
    "print(h)"
   ]
  },
  {
   "cell_type": "code",
   "execution_count": 15,
   "metadata": {},
   "outputs": [
    {
     "name": "stdout",
     "output_type": "stream",
     "text": [
      "[1, 4, 9, 16, 25, 36, 49, 64, 81, 100]\n"
     ]
    }
   ],
   "source": [
    "# Crear una lista con valores especificos. \n",
    "# por ejemplo el cuadrado de los numeros del 1 al 10\n",
    "a = []\n",
    "for i in range(1, 11):\n",
    "    a.append(i**2) # Append agrega un elemento al final de la lista\n",
    "print(a)\n",
    "\n"
   ]
  },
  {
   "cell_type": "code",
   "execution_count": 20,
   "metadata": {},
   "outputs": [
    {
     "name": "stdout",
     "output_type": "stream",
     "text": [
      "[1, 2, 3, 4, 5, 6]\n",
      "[100, 1, 2, 3, 4, 5, 6]\n",
      "[100, 1, 2, 300, 3, 4, 5, 6]\n",
      "[100, 1, 2, 300, 3, 4, 5, 6, 7, 8, 9]\n"
     ]
    }
   ],
   "source": [
    "# Agregar elementos a una lista\n",
    "a = [1, 2, 3, 4, 5]\n",
    "a.append(6) # Agrega un elemento al final de la lista\n",
    "print(a)\n",
    "\n",
    "# Agregar al inicio de la lista\n",
    "a.insert(0, 100) # Agrega un elemento en la posicion 0\n",
    "print(a)\n",
    "\n",
    "# Agregar un elemento en la posicion 3\n",
    "a.insert(3, 300)\n",
    "print(a)\n",
    "\n",
    "# Agregar varios elementos al final de la lista\n",
    "a.extend([7, 8, 9])\n",
    "print(a)"
   ]
  },
  {
   "cell_type": "code",
   "execution_count": 38,
   "metadata": {},
   "outputs": [
    {
     "name": "stdout",
     "output_type": "stream",
     "text": [
      "[10, 20, 30, 40, 50, 60, 70, 80, 90]\n",
      "[10, 20, 30, 40, 50, 60, 70, 80]\n",
      "[10, 20, 40, 50, 60, 70, 80] 30\n",
      "[20, 40, 50, 60, 70, 80] 30\n"
     ]
    }
   ],
   "source": [
    "# Eliminar elementos de una lista\n",
    "a = [10, 20, 30, 40, 50, 60, 70, 80, 90]\n",
    "print(a)\n",
    "\n",
    "# Eliminar el ultimo elemento\n",
    "a.pop()\n",
    "print(a)\n",
    "\n",
    "# Eliminar el elemento en la posicion 2\n",
    "b = a.pop(2)\n",
    "print(a, b)\n",
    "\n",
    "# Eliminar el primer elemento con valor 10\n",
    "a.remove(10)\n",
    "print(a,b)\n",
    "\n",
    "# Borrar el elemento en la posicion 2\n",
    "del a[2]# print(a)\n",
    "\n",
    "# Eliminar todos los elementos de la lista\n",
    "a.clear()"
   ]
  },
  {
   "cell_type": "code",
   "execution_count": 44,
   "metadata": {},
   "outputs": [
    {
     "name": "stdout",
     "output_type": "stream",
     "text": [
      "[10, 20, 30, 40, 50, 60, 70, 80, 90]\n",
      "10\n",
      "30\n",
      "90\n",
      "90\n",
      "80\n",
      "h\n",
      "o\n",
      "d\n"
     ]
    }
   ],
   "source": [
    "# Acceso a los elementos de una lista\n",
    "\n",
    "a = [10, 20, 30, 40, 50, 60, 70, 80, 90]\n",
    "print(a)\n",
    "b = a[0] # Acceder al primer elemento (base 0)\n",
    "print(b)\n",
    "\n",
    "b = a[2] # Acceder al tercer elemento\n",
    "print(b)\n",
    "\n",
    "b = a[len(a)-1] # Acceder al ultimo elemento\n",
    "print(b)\n",
    "\n",
    "# Forma abreviada de acceder al ultimo elemento\n",
    "b = a[-1]\n",
    "print(b)\n",
    "\n",
    "# Acceder al penultimo elemento (al segundo contando desde atraz)\n",
    "b = a[-2]\n",
    "print(b)\n",
    "\n",
    "# Los string son listas de caracteres\n",
    "s = \"hola mundo\"\n",
    "print(s[0])  # Acceder al primer caracter\n",
    "print(s[1])  # Acceder al segundo caracter\n",
    "print(s[-2]) # Acceder al penultimo caracter"
   ]
  },
  {
   "cell_type": "code",
   "execution_count": 51,
   "metadata": {},
   "outputs": [
    {
     "name": "stdout",
     "output_type": "stream",
     "text": [
      "[10, 20, 30, 40, 50]\n",
      "[100, 20, 30, 40, 50]\n",
      "[100, 20, 30, 40, 500]\n"
     ]
    }
   ],
   "source": [
    "# Asignacion de valores\n",
    "a = [10, 20, 30, 40, 50]\n",
    "print(a)\n",
    "\n",
    "a[0] = 100 # Asignar un nuevo valor al primer elemento\n",
    "print(a)\n",
    "\n",
    "a[-1] = 500 # Asignar un nuevo valor al ultimo elemento\n",
    "print(a)\n",
    "\n",
    "# a[10] = 1000 # Error, no se puede asignar un valor a una posicion que no existe\n",
    "\n",
    "s = \"hola mundo\"\n",
    "# s[0] = \"H\" # Error, no se puede asignar un valor a un string porque son inmutables"
   ]
  },
  {
   "cell_type": "code",
   "execution_count": 64,
   "metadata": {},
   "outputs": [
    {
     "name": "stdout",
     "output_type": "stream",
     "text": [
      "[10, 20, 30, 40, 50, 60, 70, 80, 90]\n",
      "[30, 40, 50]\n",
      "[40, 50, 60, 70, 80, 90]\n",
      "[40, 50, 60, 70, 80, 90]\n",
      "[10, 20, 30, 40, 50]\n",
      "[20, 30, 40, 50, 60, 70]\n",
      "[10, 30, 50, 70]\n",
      "[10, 30, 50, 70, 90]\n",
      "[90, 80, 70, 60, 50, 40, 30, 20, 10]\n"
     ]
    }
   ],
   "source": [
    "# Slicing: Acceso a una sublista de una lista o string\n",
    "a = [10, 20, 30, 40, 50, 60, 70, 80, 90]\n",
    "print(a)\n",
    "\n",
    "# a[start:stop:step] -> Sublista desde la posicion start hasta stop (sin incluir) con un paso de step\n",
    "\n",
    "b = a[2:5] # Sublista desde la posicion 2 hasta la 5 (sin incluir)\n",
    "print(b)\n",
    "\n",
    "c = a[3:len(a)] # Sublista desde la posicion 3 hasta el final\n",
    "print(c)\n",
    "\n",
    "d = a[3:] # Sublista desde la posicion 3 hasta el final (forma abreviada)\n",
    "print(d)\n",
    "\n",
    "e = a[:5] # Sublista desde el inicio hasta la posicion 5 (sin incluir)\n",
    "print(e)\n",
    "\n",
    "f = a[1:-2] # Sublista desde la posicion 1 hasta la penultima (sin incluir)\n",
    "print(f)\n",
    "\n",
    "g = a[0:8:2] # Sublista desde la posicion 0 hasta la 8 (sin incluir) con un paso de 2\n",
    "print(g)\n",
    "\n",
    "h = a[::2] # Sublista desde el inicio hasta el final con un paso de 2\n",
    "print(h)\n",
    "\n",
    "i = a[::-1] # Sublista desde el final hasta el inicio con un paso de -1 (inversa)\n",
    "print(i)"
   ]
  },
  {
   "cell_type": "code",
   "execution_count": 97,
   "metadata": {},
   "outputs": [
    {
     "name": "stdout",
     "output_type": "stream",
     "text": [
      "mun\n",
      "mundo\n",
      "hola\n",
      "hl ud\n",
      "odnum aloh\n",
      "onmao\n",
      "hol mundo\n",
      "hola como estas h...\n"
     ]
    }
   ],
   "source": [
    "# Slicing en strings\n",
    "s = \"hola mundo\"\n",
    "\n",
    "a = s[5:8] # Substring desde la posicion 2 hasta la 5 (sin incluir)\n",
    "print(a)\n",
    "\n",
    "b = s[5:] # Substring desde la posicion 5 hasta el final\n",
    "print(b)\n",
    "\n",
    "c = s[:4] # Substring desde el inicio hasta la posicion 4 (sin incluir)\n",
    "print(c)\n",
    "\n",
    "d = s[::2] # Substring desde el inicio hasta el final con un paso de 2\n",
    "print(d)\n",
    "\n",
    "e = s[::-1] # Substring desde el final hasta el inicio con un paso de -1 (inversa)\n",
    "print(e)\n",
    "\n",
    "e = s[::-2] # Substring desde el final hasta el inicio con un paso de -2 (inversa con paso de 2)\n",
    "print(e)\n",
    "\n",
    "f = s[:3] + s[4:] # Eliminar el cuarto caracter de un string\n",
    "print(f)\n",
    "\n",
    "# Si una cadena es demasiado larga (mas de 20) tomar los 20 y reemplazar los ultimos 3 caracteres por \"...\"\n",
    "s = \"hola como estas hoy el clima en la ciudad de tucuman\"\n",
    "\n",
    "def truncate(s, largo):\n",
    "    if len(s) > largo:\n",
    "        s = s[:largo-3] + \"...\"\n",
    "    return s\n",
    "\n",
    "g = truncate(s, 20)\n",
    "print(g)"
   ]
  },
  {
   "cell_type": "code",
   "execution_count": 108,
   "metadata": {},
   "outputs": [
    {
     "name": "stdout",
     "output_type": "stream",
     "text": [
      "[1000, 20, 30, 40, 50] [1000, 20, 30, 40, 50]\n",
      "[1000, 20, 30, 40, 50] [2000, 20, 30, 40, 50]\n",
      "[1000, 20, 30, 40, 50] [3000, 20, 30, 40, 50]\n",
      "['ddd', 'aaa', 'zzz', 'ccc', 'bbb']\n",
      "['aaa', 'bbb', 'ccc', 'ddd', 'zzz']\n",
      "['ddd', 'aaa', 'zzz', 'ccc', 'bbb']\n",
      "aaa\n",
      "bbb\n",
      "ccc\n",
      "ddd\n",
      "zzz\n",
      "['ddd', 'aaa', 'zzz', 'ccc', 'bbb']\n"
     ]
    }
   ],
   "source": [
    "# Los objetos complejos suelen ser pasado por referencia\n",
    "a = [10, 20, 30, 40, 50]\n",
    "b = a # b es un alias de a (apuntan a la misma direccion de memoria) (no copia los datos, solo la referencia)\n",
    "\n",
    "b[0] = 1000 # Modificar b modifica a\n",
    "print(a,b)\n",
    "\n",
    "b = a.copy() # Crear una copia de a\n",
    "b[0] = 2000\n",
    "print(a,b)\n",
    "\n",
    "c = a[:] # Otra forma de crear una copia de a\n",
    "c[0] = 3000\n",
    "print(a,c)\n",
    "\n",
    "a = ['ddd','aaa','zzz','ccc','bbb']\n",
    "print(a)\n",
    "a.sort() # Ordenar la lista (modifica la lista original)\n",
    "print(a)\n",
    "\n",
    "def mostrar_ordenada(lista):\n",
    "    lista  = lista[:]\n",
    "    lista.sort()\n",
    "    for i in lista:\n",
    "        print(i)\n",
    "\n",
    "a = ['ddd','aaa','zzz','ccc','bbb']\n",
    "print(a)\n",
    "mostrar_ordenada(a)\n",
    "print(a)"
   ]
  },
  {
   "cell_type": "code",
   "execution_count": 160,
   "metadata": {},
   "outputs": [
    {
     "name": "stdout",
     "output_type": "stream",
     "text": [
      "\n",
      "Lista original:\n",
      " [10, 20, 30, 40, 50]\n",
      "\n",
      "Lista después de actualizar los valores en las posiciones 2 y 3:\n",
      " [10, 20, 300, 400, 50]\n",
      "\n",
      "Lista después de actualizar las posiciones 2 y 3 y agregar nuevos valores:\n",
      " [10, 20, 300, 400, 500, 600, 50]\n",
      "\n",
      "Lista después de eliminar los valores en las posiciones 2 y 3:\n",
      " [10, 20, 50]\n",
      "\n",
      "Lista después de actualizar los valores en las posiciones 0, 1 y 2:\n",
      " [1000, 40, 50]\n"
     ]
    }
   ],
   "source": [
    "# Actualizar rango de valores en una lista\n",
    "a = [10, 20, 30, 40, 50]\n",
    "print(\"\\nLista original:\\n\", a)\n",
    "\n",
    "b = a[:]\n",
    "b[2:4] = [300, 400] # Actualizar los valores de la posicion 2 y 3\n",
    "print(\"\\nLista después de actualizar los valores en las posiciones 2 y 3:\\n\", b)\n",
    "\n",
    "b = a[:]\n",
    "b[2:4] = [300, 400, 500, 600] # Actualizar los valores de la posicion 2 y 3 y agregar nuevos valores\n",
    "print(\"\\nLista después de actualizar las posiciones 2 y 3 y agregar nuevos valores:\\n\", b)\n",
    "\n",
    "b = a[:]\n",
    "b[2:4] = [] # Eliminar los valores de la posicion 2 y 3\n",
    "print(\"\\nLista después de eliminar los valores en las posiciones 2 y 3:\\n\", b)\n",
    "\n",
    "b = a[:]\n",
    "b[0:3] = [1000] # Actualizar los valores de la posicion 0, 1 y 2\n",
    "print(\"\\nLista después de actualizar los valores en las posiciones 0, 1 y 2:\\n\", b)"
   ]
  },
  {
   "cell_type": "code",
   "execution_count": 159,
   "metadata": {},
   "outputs": [
    {
     "name": "stdout",
     "output_type": "stream",
     "text": [
      "\n",
      "Resultado de concatenar a y b:\n",
      " [10, 20, 30, 40, 50, 60]\n",
      "\n",
      "Lista a después de extenderla con b:\n",
      " [10, 20, 30, 40, 50, 60]\n",
      "\n",
      "Lista a después de asignarle cuatro veces la lista b:\n",
      " [[10, 20, 30, 40, 50, 60], [10, 20, 30, 40, 50, 60], [10, 20, 30, 40, 50, 60], [10, 20, 30, 40, 50, 60]]\n",
      "\n",
      "Lista a después de modificar el segundo elemento de b:\n",
      " [[10, 'XXXX', 30, 40, 50, 60], [10, 'XXXX', 30, 40, 50, 60], [10, 'XXXX', 30, 40, 50, 60], [10, 'XXXX', 30, 40, 50, 60]]\n"
     ]
    }
   ],
   "source": [
    "# Operadores de listas\n",
    "a = [10, 20, 30]\n",
    "b = [40, 50, 60]\n",
    "\n",
    "c = a + b # Concatenar listas\n",
    "print(\"\\nResultado de concatenar a y b:\\n\", c)\n",
    "\n",
    "a.extend(b) # Concatenar listas (forma abreviada)\n",
    "print(\"\\nLista a después de extenderla con b:\\n\", a)\n",
    "\n",
    "b = a\n",
    "a = [b, b, b, b]\n",
    "print(\"\\nLista a después de asignarle cuatro veces la lista b:\\n\", a)\n",
    "\n",
    "b[1] = \"XXXX\" # Modificar el segundo elemento\n",
    "print(\"\\nLista a después de modificar el segundo elemento de b:\\n\", a)"
   ]
  },
  {
   "cell_type": "code",
   "execution_count": 161,
   "metadata": {},
   "outputs": [
    {
     "name": "stdout",
     "output_type": "stream",
     "text": [
      "Lista original: \n",
      " [10, 20, 30, 40, 50]\n",
      "¿Está el 30 en la lista? \n",
      " True\n",
      "¿Está el 100 en la lista? \n",
      " False\n",
      "¿Está la sublista [20, 30] en la lista? \n",
      " False\n",
      "¿Está la sublista [20, 30] en la lista c? \n",
      " True\n",
      "¿Está la palabra 'mundo' en la cadena s? \n",
      " True\n"
     ]
    }
   ],
   "source": [
    "# Buscar un elemento en una lista\n",
    "a = [10, 20, 30, 40, 50]\n",
    "print(\"Lista original:\", \"\\n\", a)\n",
    "\n",
    "b = 30 in a # Buscar si el 30 esta en la lista\n",
    "print(\"¿Está el 30 en la lista?\", \"\\n\", b)\n",
    "\n",
    "b = 100 in a # Buscar si el 100 esta en la lista\n",
    "print(\"¿Está el 100 en la lista?\", \"\\n\", b)\n",
    "\n",
    "b = [20, 30] in a\n",
    "print(\"¿Está la sublista [20, 30] en la lista?\", \"\\n\", b)\n",
    "\n",
    "c = [10, [20, 30], 40] \n",
    "b = [20, 30] in c\n",
    "print(\"¿Está la sublista [20, 30] en la lista c?\", \"\\n\", b)\n",
    "\n",
    "s = \"hola mundo\"\n",
    "b = \"mundo\" in s\n",
    "print(\"¿Está la palabra 'mundo' en la cadena s?\", \"\\n\", b)"
   ]
  },
  {
   "cell_type": "code",
   "execution_count": 162,
   "metadata": {},
   "outputs": [
    {
     "name": "stdout",
     "output_type": "stream",
     "text": [
      "Lista original: \n",
      " [10, 20, 30, 40, 50, 60, 70, 80, 90, 80, 70, 60, 50, 40, 30, 20, 10]\n",
      "¿Está el 40 en la lista? \n",
      " True\n",
      "Posición del 40 en la lista: \n",
      " 3\n",
      "Cantidad de veces que aparece el 40: \n",
      " 2\n"
     ]
    }
   ],
   "source": [
    "# Buscar elementos\n",
    "\n",
    "a = [10, 20, 30, 40, 50, 60, 70, 80, 90, 80, 70, 60, 50, 40, 30, 20, 10]\n",
    "print(\"Lista original:\", \"\\n\", a)\n",
    "\n",
    "b = 40 in a # Buscar si el 40 esta en la lista\n",
    "print(\"¿Está el 40 en la lista?\", \"\\n\", b)\n",
    "\n",
    "c = a.index(40) # Buscar la posicion del 40\n",
    "print(\"Posición del 40 en la lista:\", \"\\n\", c)\n",
    "\n",
    "# c = a.index(100) # Error, el 100 no esta en la lista\n",
    "\n",
    "d = a.count(40) # Contar cuantas veces aparece el 40 en la lista\n",
    "print(\"Cantidad de veces que aparece el 40:\", \"\\n\", d)"
   ]
  },
  {
   "cell_type": "code",
   "execution_count": 168,
   "metadata": {},
   "outputs": [
    {
     "name": "stdout",
     "output_type": "stream",
     "text": [
      "Lista original: \n",
      " [10, 20, 30, 40, 50]\n",
      "Posición del 40 en la lista: \n",
      " 3\n",
      "¿Está el 3 en la lista? \n",
      " False\n",
      "Lista original: \n",
      " [10, 20, 30, 40, 50]\n",
      "Lista después de eliminar el 30: \n",
      " [10, 20, 40, 50]\n"
     ]
    }
   ],
   "source": [
    "a = [10, 20, 30, 40, 50]\n",
    "print(\"Lista original:\", \"\\n\", a)\n",
    "\n",
    "b = a.index(40) # Buscar la posicion del 40\n",
    "print(\"Posición del 40 en la lista:\", \"\\n\", b)\n",
    "\n",
    "b = 3 in a # Buscar si el 3 esta en la lista\n",
    "print(\"¿Está el 3 en la lista?\", \"\\n\", b)\n",
    "\n",
    "# Eliminar elementos de una lista\n",
    "a = [10, 20, 30, 40, 50]\n",
    "print(\"Lista original:\", \"\\n\", a)\n",
    "\n",
    "a.remove(30) # Eliminar el 30 de la lista\n",
    "print(\"Lista después de eliminar el 30:\", \"\\n\", a)\n",
    "if 30 in a:\n",
    "    a.remove(30) # Eliminar el 30 de la lista si esta\n"
   ]
  },
  {
   "cell_type": "code",
   "execution_count": 174,
   "metadata": {},
   "outputs": [
    {
     "name": "stdout",
     "output_type": "stream",
     "text": [
      "\n",
      "Recorrer una lista con un ciclo for:\n",
      "0 10\n",
      "1 20\n",
      "2 30\n",
      "3 40\n",
      "4 50\n",
      "\n",
      "Recorrer una lista con un ciclo for (forma abreviada):\n",
      "10\n",
      "20\n",
      "30\n",
      "40\n",
      "50\n",
      "\n",
      "Recorrer con enumerate:\n",
      "0 10\n",
      "1 20\n",
      "2 30\n",
      "3 40\n",
      "4 50\n",
      "\n",
      "Lista original: \n",
      " [10, 20, 30, 40, 50]\n",
      "\n",
      "Lista después de convertir los valores a string: \n",
      " ['10', '20', '30', '40', '50']\n",
      "\n",
      "Lista después de elevar al cuadrado los valores: \n",
      " [100, 400, 900, 1600, 2500]\n"
     ]
    }
   ],
   "source": [
    "# Recorrer una lista\n",
    "\n",
    "a = [10, 20, 30, 40, 50]\n",
    "print(\"\\nRecorrer una lista con un ciclo for:\")\n",
    "for i in range(len(a)):\n",
    "    print(i, a[i]) # Imprimir la posicion y el valor\n",
    "\n",
    "print(\"\\nRecorrer una lista con un ciclo for (forma abreviada):\")\n",
    "for i in a:\n",
    "    print(i) # Imprimir solo el valor\n",
    "\n",
    "print(\"\\nRecorrer con enumerate:\")\n",
    "for i, v in enumerate(a):\n",
    "    print(i, v) # Imprimir la posicion y el valor\n",
    "\n",
    "# Recorrer para transformar los valores de una lista\n",
    "# Convertir los valores de una lista a string\n",
    "\n",
    "a = [10, 20, 30, 40, 50]\n",
    "print(\"\\nLista original:\", \"\\n\", a)\n",
    "\n",
    "b = []\n",
    "for i in a:\n",
    "    b.append(str(i)) # Convertir a string\n",
    "print(\"\\nLista después de convertir los valores a string:\", \"\\n\", b)\n"
   ]
  },
  {
   "cell_type": "code",
   "execution_count": 179,
   "metadata": {},
   "outputs": [
    {
     "name": "stdout",
     "output_type": "stream",
     "text": [
      "\n",
      "Lista después de elevar al cuadrado los valores: \n",
      " [100, 400, 900, 1600, 2500]\n",
      "\n",
      "Lista después de filtrar los valores pares: \n",
      " [10, 20, 30, 40, 50]\n",
      "\n",
      "Suma de los valores de la lista: \n",
      " 150\n",
      "\n",
      "Máximo de la lista: \n",
      " 50\n"
     ]
    }
   ],
   "source": [
    "a = [10, 20, 30, 40, 50]\n",
    "# Convertir a cuadrados\n",
    "b = []\n",
    "for i in a:\n",
    "    b.append(i**2) # Elevar al cuadrado\n",
    "print(\"\\nLista después de elevar al cuadrado los valores:\", \"\\n\", b)\n",
    "\n",
    "# Recorrer para filtrar los valores de una lista\n",
    "# Filtrar los valores pares de una lista\n",
    "b = []\n",
    "for i in a:\n",
    "    if i % 2 == 0:\n",
    "        b.append(i) # Agregar solo los pares\n",
    "print(\"\\nLista después de filtrar los valores pares:\", \"\\n\", b)\n",
    "\n",
    "# Recorrer para sumar los valores de una lista\n",
    "# Sumar los valores de una lista\n",
    "s = 0\n",
    "for i in a:\n",
    "    s += i # Sumar los valores\n",
    "print(\"\\nSuma de los valores de la lista:\", \"\\n\", s)\n",
    "s = sum(a)\n",
    "print(\"\\nSuma de los valores de la lista (forma abreviada):\", \"\\n\", s)\n",
    "\n",
    "# Recorrer para encontrar el maximo de una lista\n",
    "# Encontrar el maximo de una lista\n",
    "m = a[0]\n",
    "for i in a:\n",
    "    if i > m:\n",
    "        m = i # Actualizar el maximo\n",
    "print(\"\\nMáximo de la lista:\", \"\\n\", m)\n",
    "n = max(a)\n",
    "print(\"\\nMáximo de la lista (forma abreviada):\", \"\\n\", n)"
   ]
  },
  {
   "cell_type": "code",
   "execution_count": 184,
   "metadata": {},
   "outputs": [
    {
     "name": "stdout",
     "output_type": "stream",
     "text": [
      "\n",
      "Lista después de convertir los valores a string (forma abreviada): \n",
      " ['1', '2', '3', '4', '6', '7', '8']\n",
      "\n",
      "Lista después de elevar al cuadrado los valores (forma abreviada): \n",
      " [1, 4, 9, 16, 36, 49, 64]\n",
      "\n",
      "Lista después de elevar al cuadrado los valores pares (forma abreviada): \n",
      " [4, 16, 36, 64]\n"
     ]
    }
   ],
   "source": [
    "# Forma abreviada de hacer lo mismo\n",
    "# Lista por comprensión\n",
    "\n",
    "a = [1, 2, 3, 4, 6, 7, 8]\n",
    "# Convertir los valores de una lista a string\n",
    "b = [str(i) for i in a]\n",
    "print(\"\\nLista después de convertir los valores a string (forma abreviada):\", \"\\n\", b)\n",
    "\n",
    "# Convertir a cuadrados\n",
    "b = [i**2 for i in a]\n",
    "print(\"\\nLista después de elevar al cuadrado los valores (forma abreviada):\", \"\\n\", b)\n",
    "\n",
    "\n",
    "# Convertir a cuadrados los numeros pares\n",
    "b = [i**2 for i in a if i % 2 == 0]\n",
    "print(\"\\nLista después de elevar al cuadrado los valores pares (forma abreviada):\", \"\\n\", b)\n"
   ]
  },
  {
   "cell_type": "code",
   "execution_count": 188,
   "metadata": {},
   "outputs": [
    {
     "name": "stdout",
     "output_type": "stream",
     "text": [
      "\n",
      "Suma de los valores de la lista (forma tradicional): \n",
      " 55\n",
      "\n",
      "Suma de los valores de la lista (forma abreviada): \n",
      " 55\n",
      "\n",
      "Suma de los cuadrados de los valores pares (forma tradicional): \n",
      " 220\n",
      "\n",
      "Suma de los cuadrados de los valores pares (forma abreviada): \n",
      " 220\n"
     ]
    }
   ],
   "source": [
    "# Sumar los valores de una lista\n",
    "\n",
    "a =[ 1, 2, 3, 4, 5, 6, 7, 8, 9, 10]\n",
    "\n",
    "# Sumar con un for tradicional\n",
    "s = 0\n",
    "for i in a:\n",
    "    s += i\n",
    "print(\"\\nSuma de los valores de la lista (forma tradicional):\", \"\\n\", s)\n",
    "\n",
    "# Usar la función sum\n",
    "s = sum(a)\n",
    "print(\"\\nSuma de los valores de la lista (forma abreviada):\", \"\\n\", s)\n",
    "\n",
    "# Sumar los cuadrados de los numeros pares\n",
    "# con un for tradicional\n",
    "s = 0\n",
    "for i in a:\n",
    "    if i % 2 == 0:\n",
    "        s += i**2\n",
    "print(\"\\nSuma de los cuadrados de los valores pares (forma tradicional):\", \"\\n\", s)\n",
    "\n",
    "# Usar una lista por comprensión\n",
    "s = sum([i**2 \n",
    "         for i in a \n",
    "            if i % 2 == 0])\n",
    "print(\"\\nSuma de los cuadrados de los valores pares (forma abreviada):\", \"\\n\", s)"
   ]
  },
  {
   "cell_type": "code",
   "execution_count": 196,
   "metadata": {},
   "outputs": [
    {
     "name": "stdout",
     "output_type": "stream",
     "text": [
      "\n",
      "Convertir cadena a lista: \n",
      " ['H', 'o', 'l', 'a', ' ', 'M', 'u', 'n', 'd', 'o']\n",
      "\n",
      "Convertir lista a cadena: \n",
      " Hola Mundo\n",
      "\n",
      "Convertir lista a cadena solo los caracteres pares: \n",
      " Hl ud\n",
      "\n",
      "Convertir cadena a lista de palabras: \n",
      " ['Este', 'es', 'un', 'texto', 'de', 'prueba', 'con', 'varias', 'palabras']\n",
      "\n",
      "Convertir lista de palabras a cadena: \n",
      " Este es un texto de prueba con varias palabras\n",
      "\n",
      "Convertir lista de palabras a cadena con guiones: \n",
      " Este-es-un-texto-de-prueba-con-varias-palabras\n"
     ]
    }
   ],
   "source": [
    "# Convertir lista a string y viceversa\n",
    "\n",
    "a = \"Hola Mundo\"\n",
    "b = list(a) # Convertir a lista\n",
    "print(\"\\nConvertir cadena a lista:\", \"\\n\", b)\n",
    "\n",
    "c = \"\".join(b) # Convertir a cadena\n",
    "print(\"\\nConvertir lista a cadena:\", \"\\n\", c)\n",
    "\n",
    "d = \"\".join(b[::2]) # Convertir a cadena solo los caracteres pares\n",
    "print(\"\\nConvertir lista a cadena solo los caracteres pares:\", \"\\n\", d)\n",
    "\n",
    "e = \"Este es un texto de prueba con varias palabras\"\n",
    "f = e.split() # Convertir a lista de palabras\n",
    "print(\"\\nConvertir cadena a lista de palabras:\", \"\\n\", f)\n",
    "\n",
    "# Convertir una lista de palabras a una cadena\n",
    "g = \" \".join(f)\n",
    "print(\"\\nConvertir lista de palabras a cadena:\", \"\\n\", g)\n",
    "\n",
    "# Convertir una lista de palabras a una cadena con guiones\n",
    "h = \"-\".join(f)\n",
    "print(\"\\nConvertir lista de palabras a cadena con guiones:\", \"\\n\", h)\n"
   ]
  },
  {
   "cell_type": "code",
   "execution_count": 198,
   "metadata": {},
   "outputs": [
    {
     "name": "stdout",
     "output_type": "stream",
     "text": [
      "\n",
      "Lista original:\n",
      " [10, 20, 10, 30, 10, 40, 50]\n",
      "\n",
      "Lista después de reemplazar todos los 10 por 100:\n",
      " [100, 20, 100, 30, 100, 40, 50]\n"
     ]
    }
   ],
   "source": [
    "a = [10, 20, 10, 30, 10, 40, 50]\n",
    "print(\"\\nLista original:\\n\", a)\n",
    "\n",
    "# Reemplazar todos los 10 por 100\n",
    "b = [100 if x == 10 else x for x in a]\n",
    "print(\"\\nLista después de reemplazar todos los 10 por 100:\\n\", b)"
   ]
  }
 ],
 "metadata": {
  "kernelspec": {
   "display_name": "Python 3",
   "language": "python",
   "name": "python3"
  },
  "language_info": {
   "codemirror_mode": {
    "name": "ipython",
    "version": 3
   },
   "file_extension": ".py",
   "mimetype": "text/x-python",
   "name": "python",
   "nbconvert_exporter": "python",
   "pygments_lexer": "ipython3",
   "version": "3.12.5"
  }
 },
 "nbformat": 4,
 "nbformat_minor": 2
}
